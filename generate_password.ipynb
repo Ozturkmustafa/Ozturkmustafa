{
  "nbformat": 4,
  "nbformat_minor": 0,
  "metadata": {
    "colab": {
      "name": "generate_password.ipynb",
      "provenance": [],
      "authorship_tag": "ABX9TyO8te8/z7RWhUYg62mZiVAX",
      "include_colab_link": true
    },
    "kernelspec": {
      "name": "python3",
      "display_name": "Python 3"
    },
    "language_info": {
      "name": "python"
    }
  },
  "cells": [
    {
      "cell_type": "markdown",
      "metadata": {
        "id": "view-in-github",
        "colab_type": "text"
      },
      "source": [
        "<a href=\"https://colab.research.google.com/github/Ozturkmustafa/Ozturkmustafa/blob/main/generate_password.ipynb\" target=\"_parent\"><img src=\"https://colab.research.google.com/assets/colab-badge.svg\" alt=\"Open In Colab\"/></a>"
      ]
    },
    {
      "cell_type": "code",
      "execution_count": null,
      "metadata": {
        "id": "pEaG4j0nZ6r_"
      },
      "outputs": [],
      "source": [
        "import random as rnd\n",
        "name = input(\"Please enter your full name (without any space): \")\n",
        "passw = \"\"\n",
        "for i in range(3):\n",
        "  randIndex = rnd.randint(0, len(name)-1)\n",
        "  letter = name[randIndex]\n",
        "  passw += letter.lower()\n",
        "randNum = rnd.randint(1000,9999)\n",
        "passw += str(randNum)\n",
        "print(passw)"
      ]
    },
    {
      "cell_type": "code",
      "source": [
        ""
      ],
      "metadata": {
        "id": "XtY9pUrnaG1l"
      },
      "execution_count": null,
      "outputs": []
    }
  ]
}