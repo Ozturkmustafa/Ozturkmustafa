{
  "nbformat": 4,
  "nbformat_minor": 0,
  "metadata": {
    "colab": {
      "name": "prime_number.ipynb",
      "provenance": [],
      "authorship_tag": "ABX9TyON5OmlvjiizIZ9A6my8F/h",
      "include_colab_link": true
    },
    "kernelspec": {
      "name": "python3",
      "display_name": "Python 3"
    },
    "language_info": {
      "name": "python"
    }
  },
  "cells": [
    {
      "cell_type": "markdown",
      "metadata": {
        "id": "view-in-github",
        "colab_type": "text"
      },
      "source": [
        "<a href=\"https://colab.research.google.com/github/Ozturkmustafa/Ozturkmustafa/blob/main/prime_number.ipynb\" target=\"_parent\"><img src=\"https://colab.research.google.com/assets/colab-badge.svg\" alt=\"Open In Colab\"/></a>"
      ]
    },
    {
      "cell_type": "code",
      "metadata": {
        "colab": {
          "base_uri": "https://localhost:8080/"
        },
        "id": "aV7UeD77BCu2",
        "outputId": "d2246435-9f0c-4704-e1ba-f80bb55c8806"
      },
      "source": [
        "prime = [2]\n",
        "p_num = []\n",
        "\n",
        "n = int(input(\"write a number: \"))\n",
        "for i in range(3,n+1) :\n",
        "  for j in range(2,i) :\n",
        "    if i % j == 0 :\n",
        "      break\n",
        "  else :\n",
        "    prime += [i]\n",
        "\n",
        "for k in prime :\n",
        "  p_num.append(k)\n",
        "\n",
        "print(p_num)  "
      ],
      "execution_count": 1,
      "outputs": [
        {
          "output_type": "stream",
          "name": "stdout",
          "text": [
            "write a number: 35\n",
            "[2, 3, 5, 7, 11, 13, 17, 19, 23, 29, 31]\n"
          ]
        }
      ]
    },
    {
      "cell_type": "code",
      "metadata": {
        "id": "ZA1jM3FLBamo"
      },
      "source": [
        ""
      ],
      "execution_count": null,
      "outputs": []
    }
  ]
}