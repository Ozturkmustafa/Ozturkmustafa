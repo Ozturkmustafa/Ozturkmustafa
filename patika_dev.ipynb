{
  "nbformat": 4,
  "nbformat_minor": 0,
  "metadata": {
    "colab": {
      "name": "patika_dev.ipynb",
      "provenance": [],
      "authorship_tag": "ABX9TyMjtjFnNgqVmuB6u8FhO7ND",
      "include_colab_link": true
    },
    "kernelspec": {
      "name": "python3",
      "display_name": "Python 3"
    },
    "language_info": {
      "name": "python"
    }
  },
  "cells": [
    {
      "cell_type": "markdown",
      "metadata": {
        "id": "view-in-github",
        "colab_type": "text"
      },
      "source": [
        "<a href=\"https://colab.research.google.com/github/Ozturkmustafa/Ozturkmustafa/blob/main/patika_dev.ipynb\" target=\"_parent\"><img src=\"https://colab.research.google.com/assets/colab-badge.svg\" alt=\"Open In Colab\"/></a>"
      ]
    },
    {
      "cell_type": "code",
      "metadata": {
        "colab": {
          "base_uri": "https://localhost:8080/"
        },
        "id": "YZsIUIX6QMd1",
        "outputId": "eda48d7f-266b-4024-d4aa-1adaf4dd9b11"
      },
      "source": [
        "def StringChallenge(strParam):\n",
        "  if strParam[::] == strParam[::-1] :\n",
        "    print(\"true\")\n",
        "  else:\n",
        "    print(\"false\")\n",
        "\n",
        "  # code goes here\n",
        "  return strParam\n",
        "\n",
        "\n",
        "print(StringChallenge(\"alalla\"))"
      ],
      "execution_count": 1,
      "outputs": [
        {
          "output_type": "stream",
          "name": "stdout",
          "text": [
            "false\n",
            "alalla\n"
          ]
        }
      ]
    },
    {
      "cell_type": "code",
      "metadata": {
        "colab": {
          "base_uri": "https://localhost:8080/"
        },
        "id": "4cL4EUNkQZn4",
        "outputId": "4b9df266-9f1e-440a-c144-ec2545a1a176"
      },
      "source": [
        "def MathChallenge(n):\n",
        "  counter = 0\n",
        "  for i in range(1, n+1) :\n",
        "    if n % i == 0 :\n",
        "        counter += 1\n",
        "        \n",
        "  if (n == 0) or (n == 1) or (counter >= 3) :\n",
        "    print(n, \" false\")\n",
        "  else :\n",
        "    print(n, \" true\")\n",
        "\n",
        "\n",
        "  # code goes here\n",
        "  return n\n",
        "\n",
        "print(MathChallenge(8))"
      ],
      "execution_count": 2,
      "outputs": [
        {
          "output_type": "stream",
          "name": "stdout",
          "text": [
            "8  false\n",
            "8\n"
          ]
        }
      ]
    },
    {
      "cell_type": "code",
      "metadata": {
        "id": "AiQmClIcQf2m"
      },
      "source": [
        ""
      ],
      "execution_count": null,
      "outputs": []
    }
  ]
}