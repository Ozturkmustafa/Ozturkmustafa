{
  "nbformat": 4,
  "nbformat_minor": 0,
  "metadata": {
    "colab": {
      "name": "convert-millistone.ipynb",
      "provenance": [],
      "collapsed_sections": [],
      "authorship_tag": "ABX9TyM0vTMOLFKSYTZ4DvuFd5lU",
      "include_colab_link": true
    },
    "kernelspec": {
      "name": "python3",
      "display_name": "Python 3"
    },
    "language_info": {
      "name": "python"
    }
  },
  "cells": [
    {
      "cell_type": "markdown",
      "metadata": {
        "id": "view-in-github",
        "colab_type": "text"
      },
      "source": [
        "<a href=\"https://colab.research.google.com/github/Ozturkmustafa/Ozturkmustafa/blob/main/convert_millistone.ipynb\" target=\"_parent\"><img src=\"https://colab.research.google.com/assets/colab-badge.svg\" alt=\"Open In Colab\"/></a>"
      ]
    },
    {
      "cell_type": "code",
      "execution_count": null,
      "metadata": {
        "id": "zXx6pVI6YEAI"
      },
      "outputs": [],
      "source": [
        "# write a function that converts the given milliseconds into hours, minutes, and seconds\n",
        "def convert(milliseconds):\n",
        "    # one hour in milliseconds\n",
        "    hour_in_milliseconds = 60*60*1000\n",
        "    # calculate the hours within given milliseconds\n",
        "    hours = milliseconds // hour_in_milliseconds\n",
        "    # calculate milliseconds left over when hours subtracted\n",
        "    milliseconds_left = milliseconds % hour_in_milliseconds\n",
        "    # one minute in milliseconds\n",
        "    minutes_in_milliseconds = 60*1000\n",
        "    # calculate the minutes within remainder milliseconds\n",
        "    minutes = milliseconds_left // minutes_in_milliseconds\n",
        "    # calculate milliseconds left over when minutes subtracted\n",
        "    milliseconds_left %= minutes_in_milliseconds\n",
        "    # calculate the seconds within remainder milliseconds\n",
        "    seconds = milliseconds_left // 1000\n",
        "    # format the output string\n",
        "    return f'{hours} hour/s'*(hours != 0) + f' {minutes} minute/s'*(minutes != 0) + f' {seconds} second/s' *(seconds != 0) or f'just {milliseconds} millisecond/s' * (milliseconds < 1000)\n",
        "    \n",
        "\n",
        "# flag to show warning to the user, default is False.\n",
        "is_invalid = False\n",
        "\n",
        "# start endless loop to get user input continuously\n",
        "while True:\n",
        "    # info text to be shown to the user\n",
        "    info = \"\"\"\n",
        "###  This program converts milliseconds into hours, minutes, and seconds ###\n",
        "(To exit the program, please type \"exit\")\n",
        "Please enter the milliseconds (should be greater than zero) : \"\"\"\n",
        "\n",
        "    # get the user input after showing info text.\n",
        "    # if is_invalid set to True then show additional warning to the user\n",
        "    # pass the input the alphanum variable after stripping white space characters\n",
        "    alphanum = input('\\nNot Valid Input !!!\\n'*is_invalid + info).strip()\n",
        "    # if the input is not decimal number\n",
        "    if not alphanum.isdecimal():\n",
        "        # then check, if it is the \"exit\" keyword\n",
        "        if alphanum.lower() == 'exit':\n",
        "            # if it is \"exit\", then say goodbye and terminate the program\n",
        "            print('\\nExiting the program... Good Bye')\n",
        "            break\n",
        "        # if it is a string other than \"exit\"\n",
        "        else:\n",
        "            # then set to invalid flag to True to show warning and continue with next cycle\n",
        "            is_invalid = True\n",
        "            continue\n",
        "    # convert the given string to the integer\n",
        "    millisecs = int(alphanum)\n",
        "    # if the milliseconds is greater than 0\n",
        "    if 0 < millisecs:\n",
        "        # then convert milliseconds and print out the user\n",
        "        print(\n",
        "            f'\\nMilliseconds of \"{alphanum}\"\" is equal to {convert(millisecs)}')\n",
        "        # and set invalid flag to the False, it might be set the True in previous cycle\n",
        "        is_invalid = False\n",
        "    # if the millisecond is out of bounds\n",
        "    else:\n",
        "        # then set to invalid flag to True to show warning\n",
        "        is_invalid = True"
      ]
    }
  ]
}