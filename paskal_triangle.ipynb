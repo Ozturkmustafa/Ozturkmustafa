{
  "nbformat": 4,
  "nbformat_minor": 0,
  "metadata": {
    "colab": {
      "name": "paskal_triangle.ipynb",
      "provenance": [],
      "authorship_tag": "ABX9TyOZX0e4u1jghqLX24SWuA3R",
      "include_colab_link": true
    },
    "kernelspec": {
      "name": "python3",
      "display_name": "Python 3"
    },
    "language_info": {
      "name": "python"
    }
  },
  "cells": [
    {
      "cell_type": "markdown",
      "metadata": {
        "id": "view-in-github",
        "colab_type": "text"
      },
      "source": [
        "<a href=\"https://colab.research.google.com/github/Ozturkmustafa/Ozturkmustafa/blob/main/paskal_triangle.ipynb\" target=\"_parent\"><img src=\"https://colab.research.google.com/assets/colab-badge.svg\" alt=\"Open In Colab\"/></a>"
      ]
    },
    {
      "cell_type": "code",
      "metadata": {
        "colab": {
          "base_uri": "https://localhost:8080/"
        },
        "id": "C2j-hUSs9m1D",
        "outputId": "919b6662-3b42-44ef-e93c-25b248ed241f"
      },
      "source": [
        "def pascals_triangle(n):\n",
        "    lst = []\n",
        "    for i in range(0, n+1):\n",
        "        if i ==0 or i == 1:\n",
        "            lst.append(1)\n",
        "        else:\n",
        "            n_lst = lst.copy()\n",
        "            for j in range(len(n_lst)-1):\n",
        "                lst[j+1] = n_lst[j] + n_lst[j+1]\n",
        "            lst.append(1)\n",
        "    return \" \".join(str(item) for item in lst)\n",
        "\n",
        "\n",
        "print(pascals_triangle(8))"
      ],
      "execution_count": 1,
      "outputs": [
        {
          "output_type": "stream",
          "name": "stdout",
          "text": [
            "1 8 28 56 70 56 28 8 1\n"
          ]
        }
      ]
    },
    {
      "cell_type": "code",
      "metadata": {
        "id": "fBfoPe-A9n1x"
      },
      "source": [
        ""
      ],
      "execution_count": null,
      "outputs": []
    },
    {
      "cell_type": "code",
      "metadata": {
        "id": "70aIqY0L90VJ"
      },
      "source": [
        ""
      ],
      "execution_count": null,
      "outputs": []
    }
  ]
}