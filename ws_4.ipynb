{
  "nbformat": 4,
  "nbformat_minor": 0,
  "metadata": {
    "colab": {
      "name": "ws_4.ipynb",
      "provenance": [],
      "include_colab_link": true
    },
    "kernelspec": {
      "name": "python3",
      "display_name": "Python 3"
    },
    "language_info": {
      "name": "python"
    }
  },
  "cells": [
    {
      "cell_type": "markdown",
      "metadata": {
        "id": "view-in-github",
        "colab_type": "text"
      },
      "source": [
        "<a href=\"https://colab.research.google.com/github/Ozturkmustafa/Ozturkmustafa/blob/main/ws_4.ipynb\" target=\"_parent\"><img src=\"https://colab.research.google.com/assets/colab-badge.svg\" alt=\"Open In Colab\"/></a>"
      ]
    },
    {
      "cell_type": "markdown",
      "metadata": {
        "id": "pEnt2w72USFm"
      },
      "source": [
        "                                Question 1 \n",
        "\n",
        "It takes 21 seconds to wash your hands and help prevent the spread of COVID-19.\n",
        "\n",
        "Create a function that takes the number of times a person washes their hands per day N and the number of months they follow this routine nM and calculates the duration in minutes and seconds that person spends washing their hands.\n",
        "\n",
        "Examples\n",
        "\n",
        "(8, 7) ➞ \"588 minutes and 0 seconds\"\n",
        "\n",
        "\n",
        "(0, 0) ➞ \"0 minutes and 0 seconds\"\n",
        "\n",
        "\n",
        "(7, 9) ➞ \"661 minutes and 30 seconds\"\n",
        "\n",
        "Notes\n",
        "\n",
        "Consider a month has 30 days.\n",
        "\n",
        "Wash your hands."
      ]
    },
    {
      "cell_type": "code",
      "metadata": {
        "id": "GP5_heLnUPIY",
        "colab": {
          "base_uri": "https://localhost:8080/"
        },
        "outputId": "58fc9cb1-d5da-4cc3-fd76-e8f64a481161"
      },
      "source": [
        "per_day, months = map(int, input(\"how may day and how many month : \").split())\n",
        "\n",
        "minutes = (per_day*21*30*months)//60\n",
        "second = minutes % 60\n",
        "\n",
        "print(\"{} minutes and {} seconds\".format(minutes, second))"
      ],
      "execution_count": 14,
      "outputs": [
        {
          "output_type": "stream",
          "name": "stdout",
          "text": [
            "how may day and how many month : 1 2 \n",
            "21 minutes and 21 seconds\n"
          ]
        }
      ]
    },
    {
      "cell_type": "markdown",
      "metadata": {
        "id": "C4eFtS1CUWbf"
      },
      "source": [
        "                            Question 2\n",
        "                            \n",
        "Write a function that finds the largest even number in a list. Return -1 if not found. The use of built-in functions max() and sorted() are prohibited.\n",
        "\n",
        "Examples\n",
        "\n",
        "[3, 7, 2, 1, 7, 9, 10, 13] ➞ 10\n",
        "\n",
        "[1, 3, 5, 7] ➞ -1\n",
        "\n",
        "[0, 19, 18973623] ➞ 0\n",
        "\n",
        "Notes\n",
        "\n",
        "Consider using the modulo operator % or the bitwise and operator &."
      ]
    },
    {
      "cell_type": "code",
      "metadata": {
        "id": "xEoWRC6cUiQs",
        "colab": {
          "base_uri": "https://localhost:8080/"
        },
        "outputId": "9244a4d1-c7f4-4dd0-bc27-50f5022f21f7"
      },
      "source": [
        "listem = [1, 2, 3, -12, 4, 15, 155, 32]\n",
        "max_even = -1\n",
        "for i in listem:\n",
        "  if i % 2 == 0 and i > max_even:\n",
        "    max_even = i\n",
        "print(i)"
      ],
      "execution_count": 16,
      "outputs": [
        {
          "output_type": "stream",
          "name": "stdout",
          "text": [
            "32\n"
          ]
        }
      ]
    },
    {
      "cell_type": "markdown",
      "metadata": {
        "id": "0jbysvcTUizZ"
      },
      "source": [
        "                              Question 3\n",
        "\n",
        "Create a function that determines whether a number is Oddish or Evenish. A number is Oddish if the sum of all of its digits is odd, and a number is Evenish if the sum of all of its digits is even. If a number is Oddish, return \"Oddish\". Otherwise, return \"Evenish\".\n",
        "\n",
        "\n",
        "For example, (121) should return \"Evenish\", since 1 + 2 + 1 = 4. (41) should return \"Oddish\", since 4 + 1 = 5.\n",
        "\n",
        "Examples\n",
        "\n",
        "(43) ➞ \"Oddish\"\n",
        "\n",
        "4 + 3 = 7\n",
        "\n",
        "7 % 2 = 1\n",
        "\n",
        "\n",
        "(373) ➞ \"Oddish\"\n",
        "\n",
        "3 + 7 + 3 = 13\n",
        "\n",
        "13 % 2 = 1\n",
        "\n",
        "(4433) ➞ \"Evenish\"\n",
        "\n",
        "4 + 4 + 3 + 3 = 14\n",
        "\n",
        "14 % 2 = 0"
      ]
    },
    {
      "cell_type": "code",
      "metadata": {
        "id": "98vQKGiMUroG",
        "colab": {
          "base_uri": "https://localhost:8080/"
        },
        "outputId": "de1b4e19-5f95-4975-c23c-1fef041d301c"
      },
      "source": [
        "num = input(\"write a number: \")\n",
        "total = 0\n",
        "for i in num :\n",
        "  total += int(i)\n",
        "\n",
        "if total %2 :\n",
        "  print(\"Oddish\")\n",
        "else:\n",
        "  print(\"Evenish\")"
      ],
      "execution_count": 20,
      "outputs": [
        {
          "output_type": "stream",
          "name": "stdout",
          "text": [
            "write a number: 12\n",
            "Oddish\n"
          ]
        }
      ]
    },
    {
      "cell_type": "markdown",
      "metadata": {
        "id": "tQ9nkeSxUsEW"
      },
      "source": [
        "                               Question 4\n",
        "\n",
        "Program to print pyramid a using numbers.(User enter the numbers of rows)\n"
      ]
    },
    {
      "cell_type": "code",
      "metadata": {
        "id": "fV5a7fk5UwxP"
      },
      "source": [
        "# 1\n",
        "# 2 2\n",
        "# 3 3 3\n",
        "# 4 4 4 4\n",
        "# 5 5 5 5 5"
      ],
      "execution_count": null,
      "outputs": []
    },
    {
      "cell_type": "code",
      "metadata": {
        "id": "yABKi6xpUwC-",
        "colab": {
          "base_uri": "https://localhost:8080/"
        },
        "outputId": "706c10cf-a349-41db-ad47-f3b8a09b4ded"
      },
      "source": [
        "num = int(input(\"write a number: \"))\n",
        "\n",
        "for i in range(1,(num + 1)):\n",
        "  print(i * (str(i)+ \" \"))"
      ],
      "execution_count": 22,
      "outputs": [
        {
          "output_type": "stream",
          "name": "stdout",
          "text": [
            "write a number: 5\n",
            "1 \n",
            "2 2 \n",
            "3 3 3 \n",
            "4 4 4 4 \n",
            "5 5 5 5 5 \n"
          ]
        }
      ]
    },
    {
      "cell_type": "markdown",
      "metadata": {
        "id": "58NTScyuUzRN"
      },
      "source": [
        "                              Question 5\n",
        "                              \n",
        "Fruit salads are served best when the fruits are sliced and diced into small chunks!\n",
        "\n",
        "For this challenge, slice each fruit in half and sort the chunks alphabetically. This recipe tastes best when the chunks are joined together to make a string.\n",
        "\n",
        "Worked Example\n",
        "\n",
        "[\"apple\", \"pear\", \"grapes\"] ➞ \"apargrapepesple\"\n",
        "\n",
        "Chunks: [\"ap\", \"ple\", \"pe\", \"ar\", \"gra\", \"pes\"]\n",
        "\n",
        "Sorted chunks: [\"ap\", \"ar\", \"gra\", \"pe\", \"pes\", \"ple\"]\n",
        "\n",
        "Final string: \"apargrapepesple\"\n",
        "\n",
        "Examples\n",
        "\n",
        "[\"apple\", \"pear\", \"grapes\"] ➞ \"apargrapepesple\"\n",
        "\n",
        "[\"raspberries\", \"mango\"] ➞ \"erriesmangoraspb\"\n",
        "\n",
        "[\"banana\"] ➞ \"anaban\"\n",
        "\n",
        "Notes\n",
        "\n",
        "If a fruit has an odd number of letters, make the right side larger than the left.\n",
        "\n",
        "For example: \"apple\" will be sliced into \"ap\" and \"ple\".\n",
        "\n",
        "All fruits will be given in lowercase."
      ]
    },
    {
      "cell_type": "code",
      "metadata": {
        "id": "ojlvVUHOU5iC",
        "colab": {
          "base_uri": "https://localhost:8080/",
          "height": 36
        },
        "outputId": "5b107298-2f4f-4e58-9798-5a7846992696"
      },
      "source": [
        "arry = [\"apple\", \"pear\", \"grapes\"]\n",
        "new_arry = []\n",
        "\n",
        "for i in arry :\n",
        "  new_arry.append(i[0 : len(i)//2])\n",
        "  new_arry.append(i[len(i) // 2 : ])\n",
        "\n",
        "new_arry.sort()\n",
        "new_arry\n",
        "\n",
        "salad = \"\"\n",
        "for i in new_arry :\n",
        "  salad += i\n",
        "\n",
        "salad"
      ],
      "execution_count": 39,
      "outputs": [
        {
          "output_type": "execute_result",
          "data": {
            "application/vnd.google.colaboratory.intrinsic+json": {
              "type": "string"
            },
            "text/plain": [
              "'apargrapepesple'"
            ]
          },
          "metadata": {},
          "execution_count": 39
        }
      ]
    },
    {
      "cell_type": "markdown",
      "metadata": {
        "id": "XrcfMShuU5yR"
      },
      "source": [
        "                              Question 6\n",
        "Given a positive integer N, The task is to write a Python program to check if the number is prime or not.\n",
        "\n",
        "Definition:\n",
        "\n",
        "A prime number is a natural number greater than 1 that has no positive divisors other than 1 and itself. \n",
        "\n",
        "The first few prime numbers are {2, 3, 5, 7, 11, ….}."
      ]
    },
    {
      "cell_type": "code",
      "metadata": {
        "id": "qsQVVZujVCVa",
        "colab": {
          "base_uri": "https://localhost:8080/"
        },
        "outputId": "0b991a83-9417-4a9c-e714-7fc4fc6f799f"
      },
      "source": [
        "\n",
        "num = int(input(\"write a number: \"))\n",
        "\n",
        "for i in range(2,num):\n",
        "  if num % i == 0 :\n",
        "    print(\"it's not a prime a number\")\n",
        "    break\n",
        "  else :\n",
        "    print(\"it's a prime number\")\n",
        "    break\n"
      ],
      "execution_count": 48,
      "outputs": [
        {
          "output_type": "stream",
          "name": "stdout",
          "text": [
            "write a number: 21\n",
            "it's a prime number\n"
          ]
        }
      ]
    },
    {
      "cell_type": "markdown",
      "metadata": {
        "id": "TZsv9lgRVFEU"
      },
      "source": [
        "                                  Question 7\n",
        "Create a function that takes a word and extends all vowels by a number num.\n",
        "\n",
        "Examples\n",
        "\n",
        "\n",
        "\"Hello\", 5 ➞ \"Heeeeeelloooooo\"\n",
        "\n",
        "\"Edabit\", 3 ➞ \"EEEEdaaaabiiiit\"\n",
        "\n",
        "\"Extend\", 0 ➞ \"Extend\""
      ]
    },
    {
      "cell_type": "code",
      "metadata": {
        "id": "boeD9OaLVHd7"
      },
      "source": [
        ""
      ],
      "execution_count": null,
      "outputs": []
    },
    {
      "cell_type": "code",
      "metadata": {
        "colab": {
          "base_uri": "https://localhost:8080/"
        },
        "id": "Z0V7QSgM7DNO",
        "outputId": "b7223009-334e-443f-a060-5736be22c63d"
      },
      "source": [
        "a = (5, 2, 4, 3, 1)\n",
        "b = [6, 9, 8, 7]\n",
        "b.sort()\n",
        "b\n",
        "\n",
        "\n"
      ],
      "execution_count": 35,
      "outputs": [
        {
          "output_type": "execute_result",
          "data": {
            "text/plain": [
              "[6, 7, 8, 9]"
            ]
          },
          "metadata": {},
          "execution_count": 35
        }
      ]
    },
    {
      "cell_type": "code",
      "metadata": {
        "colab": {
          "base_uri": "https://localhost:8080/",
          "height": 36
        },
        "id": "JJKT0yqv7DQ_",
        "outputId": "456a05ff-e516-45f8-8286-c4aae7c57028"
      },
      "source": [
        "text = \"clarusway\"\n",
        "\"&\".join(text)"
      ],
      "execution_count": 40,
      "outputs": [
        {
          "output_type": "execute_result",
          "data": {
            "application/vnd.google.colaboratory.intrinsic+json": {
              "type": "string"
            },
            "text/plain": [
              "'c&l&a&r&u&s&w&a&y'"
            ]
          },
          "metadata": {},
          "execution_count": 40
        }
      ]
    },
    {
      "cell_type": "code",
      "metadata": {
        "colab": {
          "base_uri": "https://localhost:8080/"
        },
        "id": "1crveypb7DUc",
        "outputId": "32336628-147e-43e1-f74d-b1b5c7d86b66"
      },
      "source": [
        "L1 = []\n",
        "L1.append([1, [2, 3], 4])\n",
        "L1.extend([7, 8, 9])\n",
        "L1"
      ],
      "execution_count": 50,
      "outputs": [
        {
          "output_type": "execute_result",
          "data": {
            "text/plain": [
              "[[1, [2, 3], 4], 7, 8, 9]"
            ]
          },
          "metadata": {},
          "execution_count": 50
        }
      ]
    },
    {
      "cell_type": "code",
      "metadata": {
        "id": "yQqZpBrH7DZE"
      },
      "source": [
        ""
      ],
      "execution_count": null,
      "outputs": []
    },
    {
      "cell_type": "code",
      "metadata": {
        "id": "VgRhezEw7Dbk"
      },
      "source": [
        ""
      ],
      "execution_count": null,
      "outputs": []
    },
    {
      "cell_type": "code",
      "metadata": {
        "id": "4VaROFkP7DeN"
      },
      "source": [
        ""
      ],
      "execution_count": null,
      "outputs": []
    },
    {
      "cell_type": "code",
      "metadata": {
        "id": "8OPW_4lE7DhR"
      },
      "source": [
        ""
      ],
      "execution_count": null,
      "outputs": []
    },
    {
      "cell_type": "code",
      "metadata": {
        "id": "Nr5iPVZ77Djq"
      },
      "source": [
        ""
      ],
      "execution_count": null,
      "outputs": []
    },
    {
      "cell_type": "code",
      "metadata": {
        "id": "y-rziJKG7DmB"
      },
      "source": [
        ""
      ],
      "execution_count": null,
      "outputs": []
    },
    {
      "cell_type": "code",
      "metadata": {
        "id": "P7kKnDXc7Doo"
      },
      "source": [
        ""
      ],
      "execution_count": null,
      "outputs": []
    },
    {
      "cell_type": "code",
      "metadata": {
        "id": "mz-QDdtd7DrJ"
      },
      "source": [
        ""
      ],
      "execution_count": null,
      "outputs": []
    },
    {
      "cell_type": "code",
      "metadata": {
        "id": "qqA90sWG7Dtg"
      },
      "source": [
        ""
      ],
      "execution_count": null,
      "outputs": []
    },
    {
      "cell_type": "code",
      "metadata": {
        "id": "asIdDEE37DwU"
      },
      "source": [
        ""
      ],
      "execution_count": null,
      "outputs": []
    },
    {
      "cell_type": "code",
      "metadata": {
        "id": "H7PJ7WmZ7Dyu"
      },
      "source": [
        ""
      ],
      "execution_count": null,
      "outputs": []
    }
  ]
}