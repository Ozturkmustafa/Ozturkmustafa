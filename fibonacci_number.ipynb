{
  "nbformat": 4,
  "nbformat_minor": 0,
  "metadata": {
    "colab": {
      "name": "fibonacci_number.ipynb",
      "provenance": [],
      "authorship_tag": "ABX9TyOTdnuvjzo1yzPo51hmt6ll",
      "include_colab_link": true
    },
    "kernelspec": {
      "name": "python3",
      "display_name": "Python 3"
    },
    "language_info": {
      "name": "python"
    }
  },
  "cells": [
    {
      "cell_type": "markdown",
      "metadata": {
        "id": "view-in-github",
        "colab_type": "text"
      },
      "source": [
        "<a href=\"https://colab.research.google.com/github/Ozturkmustafa/Ozturkmustafa/blob/main/fibonacci_number.ipynb\" target=\"_parent\"><img src=\"https://colab.research.google.com/assets/colab-badge.svg\" alt=\"Open In Colab\"/></a>"
      ]
    },
    {
      "cell_type": "code",
      "metadata": {
        "colab": {
          "base_uri": "https://localhost:8080/"
        },
        "id": "v3YtjHo5lJ_n",
        "outputId": "1e124d6d-58c9-4e49-ab9c-058c61b51adf"
      },
      "source": [
        "n = int(input(\"write a number: \"))  #  input 9 for 55 number\n",
        "\n",
        "a = 0\n",
        "b = 1\n",
        "liste = [b]\n",
        "\n",
        "for i in range(n):\n",
        "  a,b = b,a+b\n",
        "  liste.append(b)\n",
        "  \n",
        "  # print(b, end=\" \")\n",
        "\n",
        "print(liste)  "
      ],
      "execution_count": 1,
      "outputs": [
        {
          "output_type": "stream",
          "name": "stdout",
          "text": [
            "write a number: 9\n",
            "[1, 1, 2, 3, 5, 8, 13, 21, 34, 55]\n"
          ]
        }
      ]
    },
    {
      "cell_type": "code",
      "metadata": {
        "id": "83Z0pztylbz1"
      },
      "source": [
        ""
      ],
      "execution_count": null,
      "outputs": []
    }
  ]
}