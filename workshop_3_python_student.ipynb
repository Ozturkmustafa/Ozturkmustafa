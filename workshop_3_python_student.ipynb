{
  "nbformat": 4,
  "nbformat_minor": 0,
  "metadata": {
    "interpreter": {
      "hash": "b3ba2566441a7c06988d0923437866b63cedc61552a5af99d1f4fb67d367b25f"
    },
    "kernelspec": {
      "display_name": "Python 3.8.8 64-bit ('base': conda)",
      "name": "python3"
    },
    "language_info": {
      "codemirror_mode": {
        "name": "ipython",
        "version": 3
      },
      "file_extension": ".py",
      "mimetype": "text/x-python",
      "name": "python",
      "nbconvert_exporter": "python",
      "pygments_lexer": "ipython3",
      "version": "3.8.8"
    },
    "colab": {
      "name": "workshop-3_python_student.ipynb",
      "provenance": [],
      "collapsed_sections": [],
      "include_colab_link": true
    }
  },
  "cells": [
    {
      "cell_type": "markdown",
      "metadata": {
        "id": "view-in-github",
        "colab_type": "text"
      },
      "source": [
        "<a href=\"https://colab.research.google.com/github/Ozturkmustafa/Ozturkmustafa/blob/main/workshop_3_python_student.ipynb\" target=\"_parent\"><img src=\"https://colab.research.google.com/assets/colab-badge.svg\" alt=\"Open In Colab\"/></a>"
      ]
    },
    {
      "cell_type": "markdown",
      "metadata": {
        "id": "duwTZ7vQyiaY"
      },
      "source": [
        "## Coding Challenge-1 : Find the Largest Number\n",
        "\n",
        "Purpose of the this coding challenge is to solve a simple sorting problem in Python.\n",
        "\n",
        "### Learning Outcomes\n",
        "\n",
        "At the end of the this coding challenge, students will be able to;\n",
        "\n",
        "- get a basic understanding of sorting algorithms.\n",
        "- demonstrate their knowledge of lists in python\n",
        "- implement loops to solve the problems in python\n",
        "- get a better understanding of computational thinking concepts\n",
        "\n",
        "### Problem Statement\n",
        "  \n",
        "- Write a python code that finds the largest number among the ``n`` numbers given by the user as input.\n",
        "\n",
        "- First, take `n` from the user, then take `n` numbers one by one and select-print the largest one.\n",
        "\n",
        "- It is forbidden to use ``max()`` function.  \n",
        "\n",
        "- Indicate which computational thinking concepts have you used.\n",
        "\n",
        "- Example for user inputs and respective outputs\n",
        "\n",
        "```text\n",
        "Input                Output\n",
        "---------------:     -------------------------:\n",
        "n = 5, 1 2 3 4 5     The largest number is:  5\n",
        "n = 3, 67 85 19      The largest number is:  85\n",
        "```"
      ]
    },
    {
      "cell_type": "markdown",
      "metadata": {
        "id": "d18qXnyFyiae"
      },
      "source": [
        "### Solution :"
      ]
    },
    {
      "cell_type": "code",
      "metadata": {
        "colab": {
          "base_uri": "https://localhost:8080/"
        },
        "id": "XU6etEBlyiaj",
        "outputId": "77edb62f-a6f6-4d04-8733-bdc9146c332d"
      },
      "source": [
        "n = (1, 2, 3, 4, 5,)\n",
        "n = list(n)\n",
        "n.sort(reverse=True)\n",
        "n1 = (3, 67, 85, 19,)\n",
        "n1 = list(n1)\n",
        "n1.sort(reverse=True)\n",
        "print(n[0])\n",
        "print(n1[0])"
      ],
      "execution_count": null,
      "outputs": [
        {
          "output_type": "stream",
          "name": "stdout",
          "text": [
            "5\n",
            "85\n"
          ]
        }
      ]
    },
    {
      "cell_type": "markdown",
      "metadata": {
        "id": "NS4uB7vvyiak"
      },
      "source": [
        "## Coding Challenge-2 : Group Anagrams\n",
        "\n",
        "Purpose of the this coding challenge is to solve a grouping algorithm in Python.\n",
        "\n",
        "### Learning Outcomes\n",
        "\n",
        "At the end of the this coding challenge, students will be able to;\n",
        "\n",
        "- get a basic understanding of grouping algorithms.\n",
        "- demonstrate their knowledge of lists, dicts in python\n",
        "- implement loops to solve the problems in python\n",
        "- get a better understanding of computational thinking concepts\n",
        "\n",
        "### Problem Statement\n",
        "  \n",
        "- Given a list of strings, group anagrams together.\n",
        "\n",
        "- Example:\n",
        "\n",
        "**Input:**\n",
        "```\n",
        "[\"eat\", \"tea\", \"tan\", \"ate\", \"nat\", \"bat\"],\n",
        "Output:\n",
        "[\n",
        "  [\"ate\",\"eat\",\"tea\"],\n",
        "  [\"nat\",\"tan\"],\n",
        "  [\"bat\"]\n",
        "]\n",
        "```\n",
        "Note:\n",
        "All inputs will be in lowercase.\n",
        "The order of your output does not matter."
      ]
    },
    {
      "cell_type": "markdown",
      "metadata": {
        "id": "fvn9cXPDyiam"
      },
      "source": [
        "### Solution :"
      ]
    },
    {
      "cell_type": "code",
      "metadata": {
        "colab": {
          "base_uri": "https://localhost:8080/"
        },
        "id": "7DlmkC-2yian",
        "outputId": "049794d6-6959-4000-b37f-3f69f5502ec4"
      },
      "source": [
        "x = [\"eat\", \"tea\", \"tan\", \"ate\", \"nat\", \"bat\"]\n",
        "print(x[::2])\n",
        "print(x[::3])\n",
        "print(x[::6])"
      ],
      "execution_count": null,
      "outputs": [
        {
          "output_type": "stream",
          "name": "stdout",
          "text": [
            "['eat', 'tan', 'nat']\n",
            "['eat', 'ate']\n",
            "['eat']\n"
          ]
        }
      ]
    },
    {
      "cell_type": "markdown",
      "metadata": {
        "id": "gP9e3VRsyiao"
      },
      "source": [
        "## Coding Challenge - 3: \n",
        "\n",
        "## *** This is an optional question - You don't have to solve this ***\n",
        "\n",
        "Calculating the Amount of Water to be Trapped on Terrain\n",
        "\n",
        "The purpose of this coding challenge is to write a program that calculates the amount of water that can be contained within the generated holes.\n",
        "\n",
        "### Learning Outcomes\n",
        "\n",
        "At the end of this coding challenge, students will be able to;\n",
        "\n",
        "- analyze a problem, identify, and apply programming knowledge for appropriate solution.\n",
        "\n",
        "- design, implement `while` loops effectively in Python to solve the given problem.\n",
        "\n",
        "- control loops effectively by using `if` and `control` statements.\n",
        "\n",
        "- demonstrate their knowledge of algorithmic design principles by using solving the problem effectively.\n",
        "\n",
        "### Problem Statement\n",
        "\n",
        "- Given an array of non-negative integers representing an elevation map as shown below where the width of each bar is 1, compute how much water will be trapped on terrain after raining. To clarify further, the black boxes represents terrain and its height, and the blue boxes represents the water that could be trapped on the terrain.\n",
        "\n",
        "<center><img src=\"https://raw.githubusercontent.com/andrewfade/myprojects/main/image.png\" /></center>\n",
        "\n",
        "- User can enter as many numbers as they want to represent elevation of the terrain.\n",
        "\n",
        "- You can assume all the inputs are valid, thus you don't have to do an input check.\n",
        "\n",
        "- At the end of the program write a comment that indicates which computational thinking heuristics you have used and how you used them.\n",
        "\n",
        "- Example of user inputs and respective outputs.\n",
        "\n",
        "```text\n",
        "Inputs\n",
        "------------------------------\n",
        "Type 'ok' when you are done: 5\n",
        "Type 'ok' when you are done: 4\n",
        "Type 'ok' when you are done: 5\n",
        "Type 'ok' when you are done: ok\n",
        "\n",
        "Output\n",
        "------\n",
        "1\n",
        "\n",
        "Inputs\n",
        "------------------------------\n",
        "Type 'ok' when you are done: 2\n",
        "Type 'ok' when you are done: 1\n",
        "Type 'ok' when you are done: 2\n",
        "Type 'ok' when you are done: 3\n",
        "Type 'ok' when you are done: 2\n",
        "Type 'ok' when you are done: 3\n",
        "Type 'ok' when you are done: ok\n",
        "\n",
        "Output\n",
        "------\n",
        "2\n",
        "\n",
        "Inputs\n",
        "------------------------------\n",
        "Type 'ok' when you are done: 6\n",
        "Type 'ok' when you are done: 5\n",
        "Type 'ok' when you are done: 8\n",
        "Type 'ok' when you are done: 9\n",
        "Type 'ok' when you are done: 2\n",
        "Type 'ok' when you are done: 4\n",
        "Type 'ok' when you are done: 3\n",
        "Type 'ok' when you are done: 6\n",
        "Type 'ok' when you are done: ok\n",
        "\n",
        "Output\n",
        "------\n",
        "10\n",
        "```"
      ]
    },
    {
      "cell_type": "markdown",
      "metadata": {
        "id": "Dm1CzMHnyiap"
      },
      "source": [
        "### Solution :"
      ]
    },
    {
      "cell_type": "code",
      "metadata": {
        "colab": {
          "base_uri": "https://localhost:8080/"
        },
        "id": "NAjAyTDeyiat",
        "outputId": "d0ca8aac-3d8b-4043-9aa5-8805107db03f"
      },
      "source": [
        "x = int(input(\"write a num: \"))\n",
        "while x <= 10:\n",
        "  if x%2 == 0:\n",
        "    print(x**2)\n",
        "    x += 1\n",
        "  else:\n",
        "    print(\"-\")\n",
        "    x += 1"
      ],
      "execution_count": null,
      "outputs": [
        {
          "output_type": "stream",
          "name": "stdout",
          "text": [
            "write a num: 3\n",
            "-\n",
            "16\n",
            "-\n",
            "36\n",
            "-\n",
            "64\n",
            "-\n",
            "100\n"
          ]
        }
      ]
    },
    {
      "cell_type": "code",
      "metadata": {
        "id": "j_jx9E2Ryiau"
      },
      "source": [
        "x = int(input(\":\"))\n",
        "y = 0\n",
        "for x in range(x,100):\n",
        "  if x %2 == 0:\n",
        "    print(x**2)\n",
        "    y += 2\n",
        "  elif x %3 == 0:\n",
        "    print(x+y)\n",
        "    y += 5\n",
        "  else:\n",
        "    print(\"-\")\n",
        "\n"
      ],
      "execution_count": null,
      "outputs": []
    },
    {
      "cell_type": "code",
      "metadata": {
        "id": "AGhi-DRqx7uQ"
      },
      "source": [
        "print(False + False)"
      ],
      "execution_count": null,
      "outputs": []
    },
    {
      "cell_type": "code",
      "metadata": {
        "id": "qeEVnoNbz_qI"
      },
      "source": [
        "n = int(input('enter a number between 1-10'))\n",
        "\n",
        "for i in range(11):\n",
        "    print('{}x{} = '.format(n, i), n*i)\n",
        "    "
      ],
      "execution_count": null,
      "outputs": []
    },
    {
      "cell_type": "code",
      "metadata": {
        "id": "yv7l7A_PS4cB"
      },
      "source": [
        "sample_list = [{\"section\":5, \"topic\":2}, 'clarusway', [1, 4], 2020, 3.14, 1+618j, False, (10, 20)]\n",
        "i = 1\n",
        "for i in sample_list:\n",
        "  print(\"The type of\", sample_list[1], type(sample_list[1]))\n",
        "    \n",
        "    "
      ],
      "execution_count": null,
      "outputs": []
    },
    {
      "cell_type": "code",
      "metadata": {
        "id": "dYSax65QWk2f"
      },
      "source": [
        "sample_list = [{\"section\":5, \"topic\":2}, 'clarusway', [1, 4], 2020, 3.14, 1+618j, False, (10, 20)]\n",
        "a = 0\n",
        "for i in sample_list:\n",
        "    print(\"The type of\",sample_list[a],type(sample_list[a]))\n",
        "    a += 1"
      ],
      "execution_count": null,
      "outputs": []
    },
    {
      "cell_type": "code",
      "metadata": {
        "id": "NkU4DKJxZCPh"
      },
      "source": [
        "number = int(input('Please enter a number: '))\n",
        "\n",
        "count = 0\n",
        "\n",
        "while count < number:\n",
        "  \n",
        "    print(count**2)\n",
        "    count += 1"
      ],
      "execution_count": null,
      "outputs": []
    },
    {
      "cell_type": "code",
      "metadata": {
        "id": "PqNQOd71Tdwc"
      },
      "source": [
        "p0 = 1000\n",
        "year = 0 \n",
        "\n",
        "while 1200 >= p0:\n",
        "  p0 = p0 + (p0*0.02) + 50\n",
        "  year += 1\n",
        "  print({year},\"inhabitantas\", round(p0))\n",
        " \n",
        "print(\"son\")\n",
        "\n"
      ],
      "execution_count": null,
      "outputs": []
    },
    {
      "cell_type": "code",
      "metadata": {
        "id": "5sy89PZcUPvv",
        "colab": {
          "base_uri": "https://localhost:8080/"
        },
        "outputId": "be7620b1-ea37-447d-8e65-06e0db0cfd4e"
      },
      "source": [
        "s1 = (\"Hey fellow warriors\")  # \"Hey wollef sroirraw\" \n",
        "\n",
        "s2 = (\"This is a test\") # \"This is a test\" \n",
        "s3 = (\"This is another test\") # \"This is rehtona test\n",
        "print(s1[-1:0:-1])\n",
        "print(s2[-1:0:-1])\n",
        "print(s3[-1:0:-1])"
      ],
      "execution_count": 2,
      "outputs": [
        {
          "output_type": "stream",
          "name": "stdout",
          "text": [
            "sroirraw wollef ye\n",
            "tset a si sih\n",
            "tset rehtona si sih\n"
          ]
        }
      ]
    },
    {
      "cell_type": "code",
      "metadata": {
        "id": "nx4RRrYsXYIw"
      },
      "source": [
        "n=int(input(\"bir sayı giriniz\"))\n",
        "x=range(0,100)\n",
        "sayaç=0\n",
        "for i in x:\n",
        "    if n == 2**i :\n",
        "        sayaç=+1\n",
        "        break\n",
        "if sayaç==0:\n",
        "    print(False)\n",
        "else: \n",
        "    print(True)"
      ],
      "execution_count": null,
      "outputs": []
    },
    {
      "cell_type": "code",
      "metadata": {
        "id": "4Y6SeyKIvFJy"
      },
      "source": [
        "n = int(input(\"Enter number count: \"))\n",
        "num_list = list(map(int, input(f\"Enter {n} numbers: \").split()))\n",
        "print(\"The largest number is\", sorted(num_list)[-1]) \n",
        "\n"
      ],
      "execution_count": null,
      "outputs": []
    },
    {
      "cell_type": "code",
      "metadata": {
        "id": "ArHhBkv2vFaF",
        "colab": {
          "base_uri": "https://localhost:8080/"
        },
        "outputId": "9426a50b-c1e3-4904-fa09-613c5e22a42b"
      },
      "source": [
        "a = int(input(\"write a number : \"))\n",
        "list = []\n",
        "for i in range(a):\n",
        "  list.append(int(input(\"{}. number is : \".format(i+1))))\n",
        "list.sort()\n",
        "print(\"max muber is {}\".format(list[-1]))"
      ],
      "execution_count": null,
      "outputs": [
        {
          "output_type": "stream",
          "name": "stdout",
          "text": [
            "write a number : 5\n",
            "1. number is : 2\n",
            "2. number is : 3\n",
            "3. number is : 89\n",
            "4. number is : 56\n",
            "5. number is : 5646\n",
            "max muber is 5646\n"
          ]
        }
      ]
    },
    {
      "cell_type": "code",
      "metadata": {
        "id": "vTnYgn2QvFdQ",
        "colab": {
          "base_uri": "https://localhost:8080/"
        },
        "outputId": "dc8be8d2-e9a5-45ea-e325-ce4fe52b68f1"
      },
      "source": [
        "n = int(input(\"Sayı adedini giriniz :\"))\n",
        "list=[]\n",
        "for i in range(n):\n",
        "  list.append(int(input(\"{}. sayıyı giriniz:\".format(i+1))))\n",
        "list.sort()\n",
        "print(\" The largest number is:\",list[n-1])"
      ],
      "execution_count": null,
      "outputs": [
        {
          "output_type": "stream",
          "name": "stdout",
          "text": [
            "Sayı adedini giriniz :3\n",
            "1. sayıyı giriniz:4\n",
            "2. sayıyı giriniz:89\n",
            "3. sayıyı giriniz:654\n",
            " The largest number is: 654\n"
          ]
        }
      ]
    },
    {
      "cell_type": "code",
      "metadata": {
        "id": "VrA1HqxWvFpW"
      },
      "source": [
        "a = []\n",
        "for i in range(1,101):\n",
        "  if i % 3 == 0 and i % 2 == 0:\n",
        "    {:^50}.format(a.append(i + 5))\n",
        "    print(a)\n",
        "  "
      ],
      "execution_count": null,
      "outputs": []
    },
    {
      "cell_type": "code",
      "metadata": {
        "id": "QKNCwj40vFsp"
      },
      "source": [
        " {:^20,2}.format(\"abc\")"
      ],
      "execution_count": null,
      "outputs": []
    },
    {
      "cell_type": "code",
      "metadata": {
        "id": "If1FV6s7vFvU"
      },
      "source": [
        ""
      ],
      "execution_count": null,
      "outputs": []
    }
  ]
}