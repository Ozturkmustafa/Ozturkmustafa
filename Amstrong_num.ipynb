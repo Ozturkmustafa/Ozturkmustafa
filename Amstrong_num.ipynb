{
  "nbformat": 4,
  "nbformat_minor": 0,
  "metadata": {
    "colab": {
      "name": "Amstrong_num.ipynb",
      "provenance": [],
      "authorship_tag": "ABX9TyPzFAPKM8oV9+oaAvU3kPUR",
      "include_colab_link": true
    },
    "kernelspec": {
      "name": "python3",
      "display_name": "Python 3"
    },
    "language_info": {
      "name": "python"
    }
  },
  "cells": [
    {
      "cell_type": "markdown",
      "metadata": {
        "id": "view-in-github",
        "colab_type": "text"
      },
      "source": [
        "<a href=\"https://colab.research.google.com/github/Ozturkmustafa/Ozturkmustafa/blob/main/Amstrong_num.ipynb\" target=\"_parent\"><img src=\"https://colab.research.google.com/assets/colab-badge.svg\" alt=\"Open In Colab\"/></a>"
      ]
    },
    {
      "cell_type": "code",
      "metadata": {
        "colab": {
          "base_uri": "https://localhost:8080/"
        },
        "id": "MxIii-gm_oxs",
        "outputId": "1cb2b276-ebfa-47c2-9021-fb434abb0711"
      },
      "source": [
        "num = input(\"write a number: \")\n",
        "\n",
        "total = 0\n",
        "\n",
        "\n",
        "if num.isdigit():\n",
        "  for i in num:\n",
        "    total1 = (int(i)**len(num))\n",
        "    total += total1\n",
        "    \n",
        "    if int(num)  == total :\n",
        "      print(\"it's a armstrong number\")\n",
        "      \n",
        "    elif int(num) != total :\n",
        "      print(\"it's not a armstrong number\")\n",
        "      \n",
        "\n",
        "\n",
        "    print(total)\n",
        "\n",
        "else:\n",
        "  print(\"it's not a number\")\n",
        "\n"
      ],
      "execution_count": null,
      "outputs": [
        {
          "output_type": "stream",
          "name": "stdout",
          "text": [
            "write a number: 123\n",
            "it's not a armstrong number\n",
            "1\n",
            "it's not a armstrong number\n",
            "9\n",
            "it's not a armstrong number\n",
            "36\n"
          ]
        }
      ]
    },
    {
      "cell_type": "code",
      "metadata": {
        "colab": {
          "base_uri": "https://localhost:8080/"
        },
        "id": "UbAkJNzA_vKM",
        "outputId": "a678d9e0-0ce6-4a52-c83d-0251436f7fa2"
      },
      "source": [
        "num = input(\"write a number: \")\n",
        "print(num.isdigit())"
      ],
      "execution_count": null,
      "outputs": [
        {
          "output_type": "stream",
          "name": "stdout",
          "text": [
            "write a number: a\n",
            "False\n"
          ]
        }
      ]
    },
    {
      "cell_type": "code",
      "metadata": {
        "colab": {
          "base_uri": "https://localhost:8080/"
        },
        "id": "Kz5vUFNX_vNn",
        "outputId": "89e250ed-c980-4695-9ad9-9fde5f6dd765"
      },
      "source": [
        "num = input(\"write a number: \")\n",
        "toplam = 0   # TOPLAM  ı başlangıç değeri olarak 0 almak uygun olur. Girilen sayının uzunluğu \n",
        "             # kadar iterasyon da oluşan her toplamı üzerine eklemeli\n",
        "i = 0\n",
        "if num.isdigit(): \n",
        "  while i < len(num) :   # i'yi len(num) kadar iterate etmeliyiz. Burayı FOR ile döndüremedim. WHILE kullandım.\n",
        "    toplam = toplam + int(num[i])**len(num)\n",
        "    i += 1\n",
        "  if int(num) == toplam :\n",
        "    print(num, \"it's a armstrong number\")\n",
        "  else :\n",
        "    print(num, \"is not an Armstrong number\")\n",
        "else :\n",
        "  print(\"It is an invalid entry. Don't use non-numeric, float, or negative values!\")"
      ],
      "execution_count": null,
      "outputs": [
        {
          "output_type": "stream",
          "name": "stdout",
          "text": [
            "write a number: 121\n",
            "121 is not an Armstrong number\n"
          ]
        }
      ]
    },
    {
      "cell_type": "code",
      "metadata": {
        "colab": {
          "base_uri": "https://localhost:8080/"
        },
        "id": "zJmOd3hL_vPh",
        "outputId": "fa0fa923-0c2c-4125-e345-ca2f33c8ff99"
      },
      "source": [
        "num = input(\"write a number: \")\n",
        "\n",
        "total = 0\n",
        "\n",
        "\n",
        "if num.isdigit():\n",
        "  for i in num:\n",
        "    total += int(i)**len(num)\n",
        "\n",
        "    \n",
        "    if int(num)  == total :\n",
        "      print(\"it's a armstrong number\")\n",
        "      \n",
        "    elif int(num) != total :\n",
        "      print(\"it's not a armstrong number\")\n",
        "\n",
        "\n",
        "\n",
        "else:\n",
        "  print(\"it's not a number\")"
      ],
      "execution_count": null,
      "outputs": [
        {
          "output_type": "stream",
          "name": "stdout",
          "text": [
            "write a number: 123\n",
            "it's not a armstrong number\n",
            "it's not a armstrong number\n",
            "it's not a armstrong number\n"
          ]
        }
      ]
    },
    {
      "cell_type": "code",
      "metadata": {
        "id": "U75Cc6kK_vTk",
        "colab": {
          "base_uri": "https://localhost:8080/"
        },
        "outputId": "a00ec1fa-7b3f-4b2d-d087-54626829ea12"
      },
      "source": [
        "total = 0\n",
        "for i in range(4):\n",
        "    total += i\n",
        "print(total)"
      ],
      "execution_count": null,
      "outputs": [
        {
          "output_type": "stream",
          "name": "stdout",
          "text": [
            "6\n"
          ]
        }
      ]
    },
    {
      "cell_type": "code",
      "metadata": {
        "id": "UnZEV3bT_vV7"
      },
      "source": [
        ""
      ],
      "execution_count": null,
      "outputs": []
    },
    {
      "cell_type": "code",
      "metadata": {
        "id": "I4NYKVaD_vYH"
      },
      "source": [
        ""
      ],
      "execution_count": null,
      "outputs": []
    },
    {
      "cell_type": "code",
      "metadata": {
        "id": "5CAkkJS6_vZ2"
      },
      "source": [
        ""
      ],
      "execution_count": null,
      "outputs": []
    },
    {
      "cell_type": "code",
      "metadata": {
        "id": "QctT-SM0_vci"
      },
      "source": [
        ""
      ],
      "execution_count": null,
      "outputs": []
    },
    {
      "cell_type": "code",
      "metadata": {
        "id": "v0pMh_bh_veP"
      },
      "source": [
        ""
      ],
      "execution_count": null,
      "outputs": []
    },
    {
      "cell_type": "code",
      "metadata": {
        "id": "FdA6URxJ_vg6"
      },
      "source": [
        ""
      ],
      "execution_count": null,
      "outputs": []
    }
  ]
}

