{
  "nbformat": 4,
  "nbformat_minor": 0,
  "metadata": {
    "colab": {
      "name": "phonebook.ipynb",
      "provenance": [],
      "collapsed_sections": [],
      "authorship_tag": "ABX9TyNeQ8rtlFIWIn8R8QIl+iLX",
      "include_colab_link": true
    },
    "kernelspec": {
      "name": "python3",
      "display_name": "Python 3"
    },
    "language_info": {
      "name": "python"
    }
  },
  "cells": [
    {
      "cell_type": "markdown",
      "metadata": {
        "id": "view-in-github",
        "colab_type": "text"
      },
      "source": [
        "<a href=\"https://colab.research.google.com/github/Ozturkmustafa/Ozturkmustafa/blob/main/phonebook.ipynb\" target=\"_parent\"><img src=\"https://colab.research.google.com/assets/colab-badge.svg\" alt=\"Open In Colab\"/></a>"
      ]
    },
    {
      "cell_type": "code",
      "execution_count": null,
      "metadata": {
        "id": "2g_Z6HCJwPv2"
      },
      "outputs": [],
      "source": [
        "phonebook = {}\n",
        "\n",
        "def find(keyword):\n",
        "    return phonebook.get(keyword, f\"Couldn't find phone number of {keyword}\")\n",
        "\n",
        "def add(name, phone_number):\n",
        "    phonebook[name] = phone_number\n",
        "    return f'Phone number of {name} is inserted into the phonebook'\n",
        "\n",
        "def delete(name):\n",
        "    try:\n",
        "        phonebook.pop(name)\n",
        "    except KeyError as err:\n",
        "        return f'{err} is not in the phonebook'\n",
        "    else:\n",
        "        return f'{name} is deleted from the phonebook'\n",
        "\n",
        "if __name__ == '__main__':\n",
        "    print('Welcome to the phonebook application')\n",
        "    print('1. Find phone number')\n",
        "    print('2. Insert a phone number')\n",
        "    print('3. Delete a person from the phonebook')\n",
        "    print('4. Terminate')\n",
        "    no = input('Select operation on Phonebook App (1/2/3) : ')\n",
        "    while True:\n",
        "        if no == '1':\n",
        "            name = input('Find the phone number of : ')\n",
        "            print(find(name))\n",
        "            print(\" \")\n",
        "        elif no == '2':\n",
        "            name = input('Insert name of the person : ')\n",
        "            try:\n",
        "                number = int(input('Insert phone number of the person: '))\n",
        "            except ValueError as err:\n",
        "                print('Invalid input format, cancelling operation ...')\n",
        "            else:\n",
        "                print(add(name, number))\n",
        "            print(\" \")\n",
        "        elif no == '3':\n",
        "            name = input('Whom to delete from phonebook : ')\n",
        "            print(delete(name))\n",
        "            print(\" \")\n",
        "        elif no == '4':\n",
        "            print('Exiting Phonebook')\n",
        "            break\n",
        "        else:\n",
        "            print('Wrong operation')\n",
        "\n",
        "        print('1. Find phone number')\n",
        "        print('2. Insert a phone number')\n",
        "        print('3. Delete a person from the phonebook')\n",
        "        print('4. Terminate')\n",
        "        no = input('Select operation on Phonebook App (1/2/3) : ')"
      ]
    }
  ]
}