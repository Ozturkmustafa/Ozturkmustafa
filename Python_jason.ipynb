{
  "cells": [
    {
      "cell_type": "markdown",
      "metadata": {
        "id": "view-in-github",
        "colab_type": "text"
      },
      "source": [
        "<a href=\"https://colab.research.google.com/github/Ozturkmustafa/Ozturkmustafa/blob/main/Python_jason.ipynb\" target=\"_parent\"><img src=\"https://colab.research.google.com/assets/colab-badge.svg\" alt=\"Open In Colab\"/></a>"
      ]
    },
    {
      "cell_type": "markdown",
      "metadata": {
        "id": "5BwSJycHWv6_"
      },
      "source": [
        "# EXERCISE 1"
      ]
    },
    {
      "cell_type": "markdown",
      "metadata": {
        "id": "RgxmfaFbWv7G"
      },
      "source": [
        "Write a Python code that displays the unique vowels found in a word entered by the user."
      ]
    },
    {
      "cell_type": "code",
      "execution_count": null,
      "metadata": {
        "id": "LaikemxeWv7K",
        "outputId": "3d280def-09d4-43f8-b173-dff02c33934b"
      },
      "outputs": [
        {
          "name": "stdout",
          "output_type": "stream",
          "text": [
            "Provide a string to search vowels: Clarusway Mini Bootcamp\n"
          ]
        }
      ],
      "source": [
        "#list all the vowels\n",
        "vowels = [\"a\", \"e\", \"i\", \"o\", \"u\"]\n",
        "string = input(\"Provide a string to search vowels: \").lower()"
      ]
    },
    {
      "cell_type": "code",
      "execution_count": null,
      "metadata": {
        "id": "52M_J4qBWv7T",
        "outputId": "0a4fc6e9-a811-4686-bb08-1cdc631f373e"
      },
      "outputs": [
        {
          "name": "stdout",
          "output_type": "stream",
          "text": [
            "Provide a string to search vowels: Clarusway Mini Bootcamp\n"
          ]
        }
      ],
      "source": [
        "string = input(\"Provide a string to search vowels: \").lower()"
      ]
    },
    {
      "cell_type": "code",
      "execution_count": null,
      "metadata": {
        "id": "4jf2IpWAWv7V",
        "outputId": "23f1286d-8b36-45bd-80e9-64fc8521738b"
      },
      "outputs": [
        {
          "data": {
            "text/plain": [
              "'clarusway mini bootcamp'"
            ]
          },
          "execution_count": 3,
          "metadata": {},
          "output_type": "execute_result"
        }
      ],
      "source": [
        "string"
      ]
    },
    {
      "cell_type": "code",
      "execution_count": null,
      "metadata": {
        "id": "DSeqiN5sWv7X"
      },
      "outputs": [],
      "source": [
        "result =[]\n",
        "\n",
        "for letter in string:\n",
        "    if letter in vowels and letter not in result:\n",
        "        result.append(letter)\n"
      ]
    },
    {
      "cell_type": "code",
      "execution_count": null,
      "metadata": {
        "id": "Hjw5MqV_Wv7Y",
        "outputId": "1e789a18-dead-43b3-c10f-6accd0d4d9f9"
      },
      "outputs": [
        {
          "name": "stdout",
          "output_type": "stream",
          "text": [
            "['a', 'u', 'i', 'o']\n"
          ]
        }
      ],
      "source": [
        "print(result)"
      ]
    },
    {
      "cell_type": "code",
      "execution_count": null,
      "metadata": {
        "id": "6xDAz1IuWv7b",
        "outputId": "6fd412b7-a00a-4f95-8663-2460c827154e"
      },
      "outputs": [
        {
          "data": {
            "text/plain": [
              "{'a', 'i', 'o', 'u'}"
            ]
          },
          "execution_count": 6,
          "metadata": {},
          "output_type": "execute_result"
        }
      ],
      "source": [
        "result =[]\n",
        "\n",
        "for letter in string:\n",
        "    if letter in vowels:\n",
        "        result.append(letter)\n",
        "        \n",
        "set(result)"
      ]
    },
    {
      "cell_type": "code",
      "execution_count": null,
      "metadata": {
        "id": "o8m9VJLAWv7c"
      },
      "outputs": [],
      "source": [
        ""
      ]
    },
    {
      "cell_type": "markdown",
      "metadata": {
        "id": "T7PkxIHGWv7e"
      },
      "source": [
        "# EXERCISE 2"
      ]
    },
    {
      "cell_type": "markdown",
      "metadata": {
        "id": "e25sv99qWv7f"
      },
      "source": [
        "Write a Python program to find those numbers which satisfies the following bullets:\n",
        "\n",
        "- divisible by 7\n",
        "- multiple of 3\n",
        "- between 100 and 500 (both included)."
      ]
    },
    {
      "cell_type": "code",
      "execution_count": null,
      "metadata": {
        "id": "sul45WDwWv7j",
        "outputId": "0c51a1a6-3e6e-42c9-9b18-f2c56cff11ec"
      },
      "outputs": [
        {
          "name": "stdout",
          "output_type": "stream",
          "text": [
            "[105, 126, 147, 168, 189, 210, 231, 252, 273, 294, 315, 336, 357, 378, 399, 420, 441, 462, 483]\n"
          ]
        }
      ],
      "source": [
        "numbers = []\n",
        "\n",
        "for i in range(100, 501):\n",
        "    if (i%7 == 0) & (i%3 == 0):\n",
        "        numbers.append(i)\n",
        "        \n",
        "print(numbers)"
      ]
    },
    {
      "cell_type": "code",
      "execution_count": null,
      "metadata": {
        "id": "MIryxgAhWv7p"
      },
      "outputs": [],
      "source": [
        ""
      ]
    },
    {
      "cell_type": "code",
      "execution_count": null,
      "metadata": {
        "id": "dtIO3NucWv7r",
        "outputId": "3892daf5-ce58-407b-b983-0f9f33494123"
      },
      "outputs": [
        {
          "name": "stdout",
          "output_type": "stream",
          "text": [
            "[105, 126, 147, 168, 189, 210, 231, 252, 273, 294, 315, 336, 357, 378, 399, 420, 441, 462, 483]\n"
          ]
        }
      ],
      "source": [
        "numbers = []\n",
        "\n",
        "for i in range(100, 501):\n",
        "    if i%7 == 0 and i%3 == 0:\n",
        "        numbers.append(i)\n",
        "        \n",
        "print(numbers)"
      ]
    },
    {
      "cell_type": "code",
      "execution_count": null,
      "metadata": {
        "id": "Ql4FiukAWv7t",
        "outputId": "638c008e-4561-45bd-cb1b-f8c961ad272b"
      },
      "outputs": [
        {
          "name": "stdout",
          "output_type": "stream",
          "text": [
            "[105, 126, 147, 168, 189, 210, 231, 252, 273, 294, 315, 336, 357, 378, 399, 420, 441, 462, 483]\n"
          ]
        }
      ],
      "source": [
        "numbers = []\n",
        "\n",
        "for i in range(100, 501):\n",
        "    if i%21 == 0:\n",
        "        numbers.append(i)\n",
        "        \n",
        "print(numbers)"
      ]
    },
    {
      "cell_type": "code",
      "execution_count": null,
      "metadata": {
        "id": "md-rkuS4Wv7v",
        "outputId": "873ff878-8749-42e9-cd3e-caa0e7487ac9"
      },
      "outputs": [
        {
          "name": "stdout",
          "output_type": "stream",
          "text": [
            "[105, 126, 147, 168, 189, 210, 231, 252, 273, 294, 315, 336, 357, 378, 399, 420, 441, 462, 483]\n"
          ]
        }
      ],
      "source": [
        "numbers = []\n",
        "\n",
        "for i in range(100, 501):\n",
        "    if i%7 == 0:\n",
        "        if i%3 == 0:\n",
        "            numbers.append(i)\n",
        "        \n",
        "print(numbers)"
      ]
    },
    {
      "cell_type": "markdown",
      "metadata": {
        "id": "O_UIIVckWv7z"
      },
      "source": [
        "# EXERCISE 3"
      ]
    },
    {
      "cell_type": "markdown",
      "metadata": {
        "id": "Qt1y3O_sWv70"
      },
      "source": [
        "Write a Python program that accepts the string and calculates the number of digits and letters in the string seperately."
      ]
    },
    {
      "cell_type": "code",
      "execution_count": null,
      "metadata": {
        "id": "p2iLWWNeWv71",
        "outputId": "f6156fcf-1956-4194-8194-a3222bab3bca"
      },
      "outputs": [
        {
          "name": "stdout",
          "output_type": "stream",
          "text": [
            "Please enter a string: Clarusway has 1000+ students and 5 different paths.\n"
          ]
        }
      ],
      "source": [
        "string = input(\"Please enter a string: \")"
      ]
    },
    {
      "cell_type": "code",
      "execution_count": null,
      "metadata": {
        "id": "aaQqeRnvWv72",
        "outputId": "69b6fc1b-0621-482f-d8b9-dac2a9f3944d"
      },
      "outputs": [
        {
          "data": {
            "text/plain": [
              "51"
            ]
          },
          "execution_count": 13,
          "metadata": {},
          "output_type": "execute_result"
        }
      ],
      "source": [
        "len(string)"
      ]
    },
    {
      "cell_type": "code",
      "execution_count": null,
      "metadata": {
        "id": "d-rRpZGRWv73",
        "outputId": "0ecbd4cc-17fe-4cdb-cbc2-db0d84d809d3"
      },
      "outputs": [
        {
          "name": "stdout",
          "output_type": "stream",
          "text": [
            "5\n",
            "37\n"
          ]
        }
      ],
      "source": [
        "digits = 0\n",
        "letters = 0\n",
        "for i in string:\n",
        "    if i.isdigit():\n",
        "        digits += 1\n",
        "    elif i.isalpha():\n",
        "        letters += 1\n",
        "        \n",
        "print(digits)\n",
        "print(letters)"
      ]
    },
    {
      "cell_type": "code",
      "execution_count": null,
      "metadata": {
        "id": "nP9d-6gIWv74",
        "outputId": "d85d04b5-415d-4cac-af50-6612f66a226a"
      },
      "outputs": [
        {
          "name": "stdout",
          "output_type": "stream",
          "text": [
            "51\n"
          ]
        }
      ],
      "source": [
        "letters = 0\n",
        "\n",
        "for i in string:\n",
        "    if i.isascii():\n",
        "        letters += 1\n",
        "        \n",
        "print(letters)"
      ]
    },
    {
      "cell_type": "code",
      "execution_count": null,
      "metadata": {
        "id": "YbX78m08Wv76"
      },
      "outputs": [],
      "source": [
        "a = \"1\""
      ]
    },
    {
      "cell_type": "code",
      "execution_count": null,
      "metadata": {
        "id": "GqlQxQk2Wv76",
        "outputId": "7cdfcec3-edde-44ac-97b8-a88d8f1e1c1f"
      },
      "outputs": [
        {
          "data": {
            "text/plain": [
              "True"
            ]
          },
          "execution_count": 17,
          "metadata": {},
          "output_type": "execute_result"
        }
      ],
      "source": [
        "a.isnumeric()"
      ]
    },
    {
      "cell_type": "markdown",
      "metadata": {
        "id": "q2ejNyMdWv77"
      },
      "source": [
        "# EXERCISE 4"
      ]
    },
    {
      "cell_type": "markdown",
      "metadata": {
        "id": "YR-MyQcfWv77"
      },
      "source": [
        "Write a Python program that calculates a square root using Newton's Method."
      ]
    },
    {
      "cell_type": "code",
      "execution_count": null,
      "metadata": {
        "id": "B0BrrPOgWv78",
        "outputId": "72727d83-5573-4bba-d799-25963bd8f593"
      },
      "outputs": [
        {
          "name": "stdout",
          "output_type": "stream",
          "text": [
            "Enter a number to calculate its square root: 49\n",
            "How many iterations?: 7\n"
          ]
        }
      ],
      "source": [
        "x = int(input(\"Enter a number to calculate its square root: \"))\n",
        "iteration = int(input(\"How many iterations?: \"))"
      ]
    },
    {
      "cell_type": "code",
      "execution_count": null,
      "metadata": {
        "id": "Zr_AwsFVWv79",
        "outputId": "07bf465c-b1c4-4524-a9ac-21a751a56035"
      },
      "outputs": [
        {
          "name": "stdout",
          "output_type": "stream",
          "text": [
            "7.000000000000002\n"
          ]
        }
      ],
      "source": [
        "r = x\n",
        "\n",
        "for i in range(iteration):\n",
        "    r = (r + x/r) / 2\n",
        "\n",
        "print(r)"
      ]
    },
    {
      "cell_type": "code",
      "execution_count": null,
      "metadata": {
        "id": "QlW1UqurWv79",
        "outputId": "63a9b09f-1a70-4343-ea22-46aadb6e174f"
      },
      "outputs": [
        {
          "data": {
            "text/plain": [
              "[0, 1, 2, 3, 4, 5, 6]"
            ]
          },
          "execution_count": 20,
          "metadata": {},
          "output_type": "execute_result"
        }
      ],
      "source": [
        "list(range(iteration))"
      ]
    },
    {
      "cell_type": "code",
      "execution_count": null,
      "metadata": {
        "id": "W1HP4zfgWv7-"
      },
      "outputs": [],
      "source": [
        ""
      ]
    },
    {
      "cell_type": "markdown",
      "metadata": {
        "id": "EhJRZlAjWv7-"
      },
      "source": [
        "# EXERCISE 5"
      ]
    },
    {
      "cell_type": "markdown",
      "metadata": {
        "id": "nhum0zmbWv7_"
      },
      "source": [
        "Program to remove vowels from a String"
      ]
    },
    {
      "cell_type": "code",
      "execution_count": null,
      "metadata": {
        "id": "8EsymlNvWv7_",
        "outputId": "6de3e10a-87da-4b4f-bef2-9107e7258768"
      },
      "outputs": [
        {
          "name": "stdout",
          "output_type": "stream",
          "text": [
            "Provide a string to remove vowels: United States of America\n"
          ]
        }
      ],
      "source": [
        "#list all the vowels\n",
        "vowels = [\"a\", \"e\", \"i\", \"o\", \"u\"]\n",
        "string = input(\"Provide a string to remove vowels: \").lower()"
      ]
    },
    {
      "cell_type": "code",
      "execution_count": null,
      "metadata": {
        "id": "8pORC-fuWv8A",
        "outputId": "7814556d-4ed3-4da6-dd9d-cb7634dc533c"
      },
      "outputs": [
        {
          "name": "stdout",
          "output_type": "stream",
          "text": [
            "ntd stts f mrc\n"
          ]
        }
      ],
      "source": [
        "removestring = \"\"\n",
        "\n",
        "for i in string:\n",
        "    if i not in vowels:\n",
        "        removestring += i\n",
        "        \n",
        "print(removestring)"
      ]
    },
    {
      "cell_type": "code",
      "execution_count": null,
      "metadata": {
        "id": "a_bTiKNhWv8C",
        "outputId": "4ba531d5-163a-4aa0-c661-7f6d3e62cfeb"
      },
      "outputs": [
        {
          "name": "stdout",
          "output_type": "stream",
          "text": [
            "ntd stts f mrc\n"
          ]
        }
      ],
      "source": [
        "for i in string:\n",
        "    if i in vowels:\n",
        "        string = string.replace(i, \"\")\n",
        "        \n",
        "print(string)"
      ]
    },
    {
      "cell_type": "code",
      "execution_count": null,
      "metadata": {
        "id": "aqKV2P1CWv8E"
      },
      "outputs": [],
      "source": [
        ""
      ]
    },
    {
      "cell_type": "markdown",
      "metadata": {
        "id": "24I9KuBVWv8E"
      },
      "source": [
        "# EXERCISE 6"
      ]
    },
    {
      "cell_type": "markdown",
      "metadata": {
        "id": "eOS28_kpWv8F"
      },
      "source": [
        "Given a string of odd length greater 7, return a string made of the middle three chars of a given String"
      ]
    },
    {
      "cell_type": "code",
      "execution_count": null,
      "metadata": {
        "id": "ik0qk-_YWv8F"
      },
      "outputs": [],
      "source": [
        "string = \"Clarusway\""
      ]
    },
    {
      "cell_type": "code",
      "execution_count": null,
      "metadata": {
        "id": "patBxjW8Wv8G"
      },
      "outputs": [],
      "source": [
        "midIndex = int((len(string)) / 2)"
      ]
    },
    {
      "cell_type": "code",
      "execution_count": null,
      "metadata": {
        "id": "RtqlmE-HWv8H",
        "outputId": "a5ffd929-99c7-40c4-f45c-40283b716713"
      },
      "outputs": [
        {
          "data": {
            "text/plain": [
              "'rus'"
            ]
          },
          "execution_count": 40,
          "metadata": {},
          "output_type": "execute_result"
        }
      ],
      "source": [
        "string[midIndex-1:midIndex+2]"
      ]
    },
    {
      "cell_type": "code",
      "execution_count": null,
      "metadata": {
        "id": "jR8k78EcWv8I"
      },
      "outputs": [],
      "source": [
        ""
      ]
    },
    {
      "cell_type": "markdown",
      "metadata": {
        "id": "nUt0hB4OWv8J"
      },
      "source": [
        "# EXERCISE 7"
      ]
    },
    {
      "cell_type": "markdown",
      "metadata": {
        "id": "vvKacot7Wv8K"
      },
      "source": [
        "Given 2 strings, s1 and s2, create a new string by appending s2 in the middle of s1"
      ]
    },
    {
      "cell_type": "code",
      "execution_count": null,
      "metadata": {
        "id": "_20xHhbzWv8L"
      },
      "outputs": [],
      "source": [
        "s1 = \"BestCamp\""
      ]
    },
    {
      "cell_type": "code",
      "execution_count": null,
      "metadata": {
        "id": "OxCbkzybWv8L"
      },
      "outputs": [],
      "source": [
        "s2 = \"Boot\""
      ]
    },
    {
      "cell_type": "code",
      "execution_count": null,
      "metadata": {
        "id": "NNZOFB67Wv8M"
      },
      "outputs": [],
      "source": [
        "midIndex = int(len(s1) / 2)"
      ]
    },
    {
      "cell_type": "code",
      "execution_count": null,
      "metadata": {
        "id": "b7z9jyIuWv8N",
        "outputId": "21464583-0159-4e09-823a-51796a5c74a8"
      },
      "outputs": [
        {
          "data": {
            "text/plain": [
              "'Best BootCamp'"
            ]
          },
          "execution_count": 30,
          "metadata": {},
          "output_type": "execute_result"
        }
      ],
      "source": [
        "s1[:midIndex] + \" \" + s2 + s1[midIndex:]"
      ]
    },
    {
      "cell_type": "code",
      "execution_count": null,
      "metadata": {
        "id": "Fpw_2U0WWv8O"
      },
      "outputs": [],
      "source": [
        ""
      ]
    },
    {
      "cell_type": "markdown",
      "metadata": {
        "id": "CB5woXe3Wv8O"
      },
      "source": [
        "# ECERCISE 8"
      ]
    },
    {
      "cell_type": "markdown",
      "metadata": {
        "id": "XDdvqV2IWv8P"
      },
      "source": [
        "Given 2 strings, s1, and s2 return a new string made of the first, middle and last char each input string"
      ]
    },
    {
      "cell_type": "code",
      "execution_count": null,
      "metadata": {
        "id": "8V0hWXi8Wv8P"
      },
      "outputs": [],
      "source": [
        "s1 = \"America\""
      ]
    },
    {
      "cell_type": "code",
      "execution_count": null,
      "metadata": {
        "id": "w_A1QC14Wv8Q"
      },
      "outputs": [],
      "source": [
        "s2 = \"Clarusway\""
      ]
    },
    {
      "cell_type": "code",
      "execution_count": null,
      "metadata": {
        "id": "ZuOAtb39Wv8R",
        "outputId": "61dd5763-e14a-4375-fa98-2797a9e274e4"
      },
      "outputs": [
        {
          "data": {
            "text/plain": [
              "'ACruay'"
            ]
          },
          "execution_count": 33,
          "metadata": {},
          "output_type": "execute_result"
        }
      ],
      "source": [
        "s1[0] + s2[0] + s1[int(len(s1) / 2)] + s2[int(len(s2) / 2)] + s1[-1] + s2[-1]"
      ]
    },
    {
      "cell_type": "code",
      "execution_count": null,
      "metadata": {
        "id": "xAyXDdkLWv8S"
      },
      "outputs": [],
      "source": [
        ""
      ]
    },
    {
      "cell_type": "markdown",
      "metadata": {
        "id": "ZQeFS-3kWv8S"
      },
      "source": [
        "# EXERCISE 9"
      ]
    },
    {
      "cell_type": "markdown",
      "metadata": {
        "id": "qw6DqH0rWv8U"
      },
      "source": [
        "Arrange String characters such that lowercase letters should come first"
      ]
    },
    {
      "cell_type": "code",
      "execution_count": null,
      "metadata": {
        "id": "4976moogWv8V"
      },
      "outputs": [],
      "source": [
        "string = \"NumPyistheBest\""
      ]
    },
    {
      "cell_type": "code",
      "execution_count": null,
      "metadata": {
        "id": "X23YV7HLWv8W"
      },
      "outputs": [],
      "source": [
        "lower = \"\"\n",
        "upper = \"\""
      ]
    },
    {
      "cell_type": "code",
      "execution_count": null,
      "metadata": {
        "id": "IrMa1rLvWv8X"
      },
      "outputs": [],
      "source": [
        "lower = \"\"\n",
        "upper = \"\"\n",
        "\n",
        "for i in string:\n",
        "    if i.islower():\n",
        "        lower += i\n",
        "    elif i.isupper():\n",
        "        upper += i"
      ]
    },
    {
      "cell_type": "code",
      "execution_count": null,
      "metadata": {
        "id": "3a5RQhQGWv8X",
        "outputId": "6648d73e-86dc-41d8-b7d9-ae532d2f20de"
      },
      "outputs": [
        {
          "data": {
            "text/plain": [
              "'umyistheestNPB'"
            ]
          },
          "execution_count": 37,
          "metadata": {},
          "output_type": "execute_result"
        }
      ],
      "source": [
        "lower + upper"
      ]
    }
  ],
  "metadata": {
    "kernelspec": {
      "display_name": "Python 3",
      "language": "python",
      "name": "python3"
    },
    "language_info": {
      "codemirror_mode": {
        "name": "ipython",
        "version": 3
      },
      "file_extension": ".py",
      "mimetype": "text/x-python",
      "name": "python",
      "nbconvert_exporter": "python",
      "pygments_lexer": "ipython3",
      "version": "3.7.11"
    },
    "colab": {
      "name": "Python_jason.ipynb",
      "provenance": [],
      "include_colab_link": true
    }
  },
  "nbformat": 4,
  "nbformat_minor": 0
}

