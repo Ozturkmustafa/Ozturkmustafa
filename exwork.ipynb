{
  "nbformat": 4,
  "nbformat_minor": 0,
  "metadata": {
    "colab": {
      "name": "exwork.ipynb",
      "provenance": [],
      "authorship_tag": "ABX9TyPJcS/ChOmcPTKGELFqXQj1",
      "include_colab_link": true
    },
    "kernelspec": {
      "name": "python3",
      "display_name": "Python 3"
    },
    "language_info": {
      "name": "python"
    }
  },
  "cells": [
    {
      "cell_type": "markdown",
      "metadata": {
        "id": "view-in-github",
        "colab_type": "text"
      },
      "source": [
        "<a href=\"https://colab.research.google.com/github/Ozturkmustafa/Ozturkmustafa/blob/main/exwork.ipynb\" target=\"_parent\"><img src=\"https://colab.research.google.com/assets/colab-badge.svg\" alt=\"Open In Colab\"/></a>"
      ]
    },
    {
      "cell_type": "code",
      "metadata": {
        "colab": {
          "base_uri": "https://localhost:8080/"
        },
        "id": "FS7NZuhsCtDa",
        "outputId": "daa44e6d-6bc0-4416-ff1f-3ad8f8112048"
      },
      "source": [
        "\n",
        "def en_uzun(iterable):\n",
        "  counter = 0\n",
        "  enuzun = \"\"\n",
        "  for i in iterable:\n",
        "    if len(i) >= counter:\n",
        "      counter = len(i)\n",
        "      enuzun = i\n",
        "  print(\"Girdiginiz en uzun isim\", enuzun, \"ve\", counter, \"karakterdir\")\n",
        "\n",
        "\n",
        "girdi = list(map(str, input(\"Lütfen girmek istediginiz isimleri yaziniz: \").split()))\n",
        "\n",
        "en_uzun(girdi)"
      ],
      "execution_count": 2,
      "outputs": [
        {
          "output_type": "stream",
          "name": "stdout",
          "text": [
            "Lütfen girmek istediginiz isimleri yaziniz: ali veli ferhat murtaza\n",
            "Girdiginiz en uzun isim murtaza ve 7 karakterdir\n"
          ]
        }
      ]
    },
    {
      "cell_type": "code",
      "metadata": {
        "colab": {
          "base_uri": "https://localhost:8080/"
        },
        "id": "qsscPPHsD51t",
        "outputId": "98b849ce-63d8-4cf8-b84d-0d244c20cbf4"
      },
      "source": [
        "num = input(\"write a number :\").split()\n",
        "bos = []\n",
        "\n",
        "for i in num :\n",
        "  i = int(i)\n",
        "  bos.append(i)\n",
        "\n",
        "print(bos)\n"
      ],
      "execution_count": 3,
      "outputs": [
        {
          "output_type": "stream",
          "name": "stdout",
          "text": [
            "write a number :34 56 87\n",
            "[34, 56, 87]\n"
          ]
        }
      ]
    },
    {
      "cell_type": "code",
      "metadata": {
        "id": "bRxx6AAND5-n"
      },
      "source": [
        "girdi = input(\"Lütfen bir cümle giriniz: \").split()\n",
        "bos = []\n",
        "for i in girdi:\n",
        "  bos.append(len(i))\n",
        "  enuzun = max(bos)\n",
        "  enkisa = min(bos)\n",
        "\n",
        "print(enuzun)\n",
        "print(enkisa)"
      ],
      "execution_count": null,
      "outputs": []
    },
    {
      "cell_type": "code",
      "metadata": {
        "id": "QUKqQmiPD6BS"
      },
      "source": [
        "aylikciro = [10000, 12000, 20000, 50000, 100000]\n",
        "aylikmaliyet = [5000, 6000, 10000, 25000, 50000]\n",
        "\n",
        "topciro = sum(aylikciro)\n",
        "topmaliyet = sum(aylikmaliyet)\n",
        "\n",
        "print(topciro)\n",
        "print(topmaliyet)\n",
        "\n",
        "# aylik kar hesaplama(her bir ayin cirosundan o ayin maliyetini cikaracagiz)\n",
        "\n",
        "aylikkar = []\n",
        "\n",
        "for i, j in zip(aylikciro, aylikmaliyet):\n",
        "  kar = i -j\n",
        "  aylikkar.append(kar)\n",
        "print(aylikkar)\n",
        "\n",
        "## simdi de toplam yillik kari hesaplayalim\n",
        "\n",
        "toplamkar = sum(aylikkar)  # yada\n",
        "toplamkar2 = topciro - topmaliyet\n",
        "\n",
        "print(toplamkar)\n",
        "print(toplamkar2)"
      ],
      "execution_count": null,
      "outputs": []
    },
    {
      "cell_type": "code",
      "metadata": {
        "id": "dgs4yzPWD6Gy"
      },
      "source": [
        ""
      ],
      "execution_count": null,
      "outputs": []
    },
    {
      "cell_type": "code",
      "metadata": {
        "id": "afA28bzFD6Jb"
      },
      "source": [
        ""
      ],
      "execution_count": null,
      "outputs": []
    },
    {
      "cell_type": "code",
      "metadata": {
        "id": "6oyhgZbAD6L6"
      },
      "source": [
        ""
      ],
      "execution_count": null,
      "outputs": []
    },
    {
      "cell_type": "code",
      "metadata": {
        "id": "-VPq-PZ-D6Oc"
      },
      "source": [
        ""
      ],
      "execution_count": null,
      "outputs": []
    },
    {
      "cell_type": "code",
      "metadata": {
        "id": "DtJcET09D6Q1"
      },
      "source": [
        ""
      ],
      "execution_count": null,
      "outputs": []
    },
    {
      "cell_type": "code",
      "metadata": {
        "id": "jxXWeJt6D6dZ"
      },
      "source": [
        ""
      ],
      "execution_count": null,
      "outputs": []
    }
  ]
}