{
  "nbformat": 4,
  "nbformat_minor": 0,
  "metadata": {
    "colab": {
      "name": "python_only_solution.ipynb",
      "provenance": [],
      "authorship_tag": "ABX9TyP85j0qAkyKjDmGU01MXCIr",
      "include_colab_link": true
    },
    "kernelspec": {
      "name": "python3",
      "display_name": "Python 3"
    },
    "language_info": {
      "name": "python"
    }
  },
  "cells": [
    {
      "cell_type": "markdown",
      "metadata": {
        "id": "view-in-github",
        "colab_type": "text"
      },
      "source": [
        "<a href=\"https://colab.research.google.com/github/Ozturkmustafa/Ozturkmustafa/blob/main/python_only_solution.ipynb\" target=\"_parent\"><img src=\"https://colab.research.google.com/assets/colab-badge.svg\" alt=\"Open In Colab\"/></a>"
      ]
    },
    {
      "cell_type": "code",
      "execution_count": null,
      "metadata": {
        "colab": {
          "base_uri": "https://localhost:8080/",
          "height": 36
        },
        "id": "DUY7HhEMJ-P8",
        "outputId": "59daa993-3234-41fe-b420-0813cb890a59"
      },
      "outputs": [
        {
          "output_type": "execute_result",
          "data": {
            "application/vnd.google.colaboratory.intrinsic+json": {
              "type": "string"
            },
            "text/plain": [
              "'10000000001000000000101000000001'"
            ]
          },
          "metadata": {},
          "execution_count": 14
        }
      ],
      "source": [
        "x = 2149583361\n",
        "donusturulmus = \"{0:b}\".format(x).rjust(32, \"0\")\n",
        "donusturulmus"
      ]
    },
    {
      "cell_type": "code",
      "source": [
        "def function(a) :\n",
        "  donusturulmus = \"{0:b}\".format(x).rjust(32, \"0\")\n",
        "  return \".\".join([str(int(donusturulmus[x : x + 8], 2)) for x in range(0, 32, 8)])\n",
        "function(2149583361)\n"
      ],
      "metadata": {
        "colab": {
          "base_uri": "https://localhost:8080/",
          "height": 36
        },
        "id": "7MPFhtCgKILn",
        "outputId": "48f4ea23-f86d-4a98-eb9f-177a51c906c1"
      },
      "execution_count": null,
      "outputs": [
        {
          "output_type": "execute_result",
          "data": {
            "application/vnd.google.colaboratory.intrinsic+json": {
              "type": "string"
            },
            "text/plain": [
              "'128.32.10.1'"
            ]
          },
          "metadata": {},
          "execution_count": 15
        }
      ]
    },
    {
      "cell_type": "code",
      "source": [
        "function(2149583361)"
      ],
      "metadata": {
        "colab": {
          "base_uri": "https://localhost:8080/",
          "height": 36
        },
        "id": "-XS-hWIKKIPT",
        "outputId": "0f2777d6-e21c-4e13-c2de-6ffe2a7de70c"
      },
      "execution_count": null,
      "outputs": [
        {
          "output_type": "execute_result",
          "data": {
            "application/vnd.google.colaboratory.intrinsic+json": {
              "type": "string"
            },
            "text/plain": [
              "'128.32.10.1'"
            ]
          },
          "metadata": {},
          "execution_count": 16
        }
      ]
    },
    {
      "cell_type": "code",
      "source": [
        "alpha = \"abcdefghijklmnopqrsyuvwxyz\"\n",
        "vowels = \"aeiou\"\n",
        "\n",
        "def StringChallenge(text) :\n",
        "  new_text = \"\"\n",
        "  for i in text :\n",
        "    if i.isalpha() :\n",
        "      new_text += alpha[(alpha.index(i)+1) % len(alpha)]\n",
        "    else :\n",
        "      new_text += i\n",
        "\n",
        "    for j in new_text :\n",
        "      if j in vowels :\n",
        "        new_text = new_text.replace(j, j.upper())\n",
        "\n",
        "  return new_text\n"
      ],
      "metadata": {
        "id": "L2NeSNNQKIS3"
      },
      "execution_count": null,
      "outputs": []
    },
    {
      "cell_type": "code",
      "source": [
        "print(StringChallenge(\"hello*3\"))"
      ],
      "metadata": {
        "colab": {
          "base_uri": "https://localhost:8080/"
        },
        "id": "bddXufysKIWm",
        "outputId": "bf53486b-575e-4f6c-ded6-081e762aa96c"
      },
      "execution_count": null,
      "outputs": [
        {
          "output_type": "stream",
          "name": "stdout",
          "text": [
            "Ifmmp*3\n"
          ]
        }
      ]
    },
    {
      "cell_type": "code",
      "source": [
        "import random\n",
        "throw = []\n",
        "for i in range(5) :\n",
        "  throw += [random.randint(1, 6)]\n",
        "\n",
        "print(throw)\n",
        "\n",
        "my_dict = {\"1\" : 0, \"2\" : 0, \"3\" : 0, \"4\" : 0, \"5\" : 0, \"6\" : 0}\n",
        "point = 0\n",
        "for i in range(len(throw)):\n",
        "  my_dict[str(throw[i])] += 1\n",
        "\n",
        "results = list(my_dict.values())\n",
        "print(results)\n",
        "\n",
        "if results[0] >= 3 :\n",
        "  point += 1000 + (results[0] - 3) * 100 + results[4] * 50\n",
        "elif results[4] >= 3 :\n",
        "  point += 500 + (results[4] - 3) * 50 + results[0] * 100\n",
        "elif results[0] < 3 or results[4] < 3 :\n",
        "  for x in [1, 2, 3, 5] :\n",
        "    if results[x] == 3 :\n",
        "      point += (x + 1) * 100 + results[0] * 100 + results[4] * 50\n",
        "    else :\n",
        "      point += (x + 1) * 100 + results[0] * 50\n",
        "\n",
        "print(f\"score: {point}\")"
      ],
      "metadata": {
        "colab": {
          "base_uri": "https://localhost:8080/"
        },
        "id": "2U84NpLhKIZh",
        "outputId": "850421dc-48c5-4614-cc16-21719296fbd8"
      },
      "execution_count": null,
      "outputs": [
        {
          "output_type": "stream",
          "name": "stdout",
          "text": [
            "[4, 5, 4, 4, 3]\n",
            "[0, 0, 1, 3, 1, 0]\n",
            "score: 1550\n"
          ]
        }
      ]
    },
    {
      "cell_type": "code",
      "source": [
        "def harmonic_sum(n) :\n",
        "  if n < 2 :\n",
        "    return 1\n",
        "\n",
        "  else :\n",
        "    return 1/n + harmonic_sum(n-1)\n",
        "\n",
        "harmonic_sum(9)"
      ],
      "metadata": {
        "colab": {
          "base_uri": "https://localhost:8080/"
        },
        "id": "NB8wDeABKIcz",
        "outputId": "109a2374-f18b-44a7-9ab7-70c67aa2b5fe"
      },
      "execution_count": null,
      "outputs": [
        {
          "output_type": "execute_result",
          "data": {
            "text/plain": [
              "2.8289682539682537"
            ]
          },
          "metadata": {},
          "execution_count": 32
        }
      ]
    },
    {
      "cell_type": "code",
      "source": [
        "def pyramid(ball) :\n",
        "  kat = 0\n",
        "  while ball > kat :\n",
        "    kat += 1\n",
        "    ball -= kat\n",
        "  return kat"
      ],
      "metadata": {
        "id": "s18J7og5HZw7"
      },
      "execution_count": null,
      "outputs": []
    },
    {
      "cell_type": "code",
      "source": [
        "print(pyramid(40))"
      ],
      "metadata": {
        "colab": {
          "base_uri": "https://localhost:8080/"
        },
        "id": "-gcvjANyHZzk",
        "outputId": "628568d2-34fc-4dc3-c428-70dc6c3dbd33"
      },
      "execution_count": null,
      "outputs": [
        {
          "output_type": "stream",
          "name": "stdout",
          "text": [
            "8\n"
          ]
        }
      ]
    },
    {
      "cell_type": "code",
      "source": [
        "palindrome = 0 \n",
        "\n",
        "for i in range(100, 1000) :\n",
        "  for j in range(100, 1000) :\n",
        "    temp = i * j\n",
        "    if str(temp) == str(temp)[::-1] :\n",
        "      if temp > palindrome :\n",
        "        palindrome = temp\n",
        "\n",
        "print(palindrome)"
      ],
      "metadata": {
        "colab": {
          "base_uri": "https://localhost:8080/"
        },
        "id": "tD4WIonHHZ4N",
        "outputId": "fb68a098-8f19-4382-b9af-bf689a7f9a8e"
      },
      "execution_count": null,
      "outputs": [
        {
          "output_type": "stream",
          "name": "stdout",
          "text": [
            "906609\n"
          ]
        }
      ]
    },
    {
      "cell_type": "code",
      "source": [
        "def zeros(sayi) :\n",
        "  faktoriyel = 1 # default değer\n",
        "  if sayi < 0 :\n",
        "    return \" negatif bir sayının faktöryeli hesaplanamaz!\"\n",
        "  elif sayi == 0 :\n",
        "    return \"0! = 1 olduğundan faktoriyel değerinde 0 yok: 0\"\n",
        "  else :\n",
        "    for i in range(sayi, 0, -1) :\n",
        "      faktoriyel *= i\n",
        "\n",
        "  sifir_sayisi = 0\n",
        "  if sayi <= 4 :\n",
        "    return sifir_sayisi\n",
        "  else :\n",
        "    for i in str(faktoriyel)[::-1] :\n",
        "      if i == \"0\" :\n",
        "        sifir_sayisi += 1\n",
        "      else :\n",
        "        break\n",
        "\n",
        "\n",
        "  return sifir_sayisi\n"
      ],
      "metadata": {
        "id": "4kwxXYAoHZ7A"
      },
      "execution_count": null,
      "outputs": []
    },
    {
      "cell_type": "code",
      "source": [
        "zeros(8)"
      ],
      "metadata": {
        "colab": {
          "base_uri": "https://localhost:8080/"
        },
        "id": "zcIX_T0dHZ9s",
        "outputId": "39804d4e-00dc-45ce-c25e-c78f44694d9e"
      },
      "execution_count": null,
      "outputs": [
        {
          "output_type": "execute_result",
          "data": {
            "text/plain": [
              "1"
            ]
          },
          "metadata": {},
          "execution_count": 53
        }
      ]
    },
    {
      "cell_type": "code",
      "source": [
        ""
      ],
      "metadata": {
        "id": "iGUBbvYPHaA4"
      },
      "execution_count": null,
      "outputs": []
    },
    {
      "cell_type": "code",
      "source": [
        ""
      ],
      "metadata": {
        "id": "uEClhRFIHaD_"
      },
      "execution_count": null,
      "outputs": []
    },
    {
      "cell_type": "code",
      "source": [
        ""
      ],
      "metadata": {
        "id": "NUGb3rrGHaG9"
      },
      "execution_count": null,
      "outputs": []
    },
    {
      "cell_type": "code",
      "source": [
        ""
      ],
      "metadata": {
        "id": "AB6p_YYjHaJu"
      },
      "execution_count": null,
      "outputs": []
    },
    {
      "cell_type": "code",
      "source": [
        ""
      ],
      "metadata": {
        "id": "lMvcU7wyKIwM"
      },
      "execution_count": null,
      "outputs": []
    },
    {
      "cell_type": "code",
      "source": [
        ""
      ],
      "metadata": {
        "id": "AIbn88N7KIzC"
      },
      "execution_count": null,
      "outputs": []
    }
  ]
}