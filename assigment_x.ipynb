{
  "nbformat": 4,
  "nbformat_minor": 0,
  "metadata": {
    "colab": {
      "name": "assigment_1.ipynb",
      "provenance": [],
      "collapsed_sections": [],
      "authorship_tag": "ABX9TyPOIQeVve1Gn4yTyM48YBhH",
      "include_colab_link": true
    },
    "kernelspec": {
      "name": "python3",
      "display_name": "Python 3"
    },
    "language_info": {
      "name": "python"
    }
  },
  "cells": [
    {
      "cell_type": "markdown",
      "metadata": {
        "id": "view-in-github",
        "colab_type": "text"
      },
      "source": [
        "<a href=\"https://colab.research.google.com/github/Ozturkmustafa/Ozturkmustafa/blob/main/assigment_x.ipynb\" target=\"_parent\"><img src=\"https://colab.research.google.com/assets/colab-badge.svg\" alt=\"Open In Colab\"/></a>"
      ]
    },
    {
      "cell_type": "code",
      "metadata": {
        "id": "k8NMcV_r_ZJ0"
      },
      "source": [
        "principal = 1000\n",
        "interest_rate = 7\n",
        "day = 7\n",
        "formula = ((principal/100)*(interest_rate/100)*(number_of_days))   #  if_the_formula_is_correct\n",
        "\n",
        "principal = x\n",
        "interest_rate = y\n",
        "day = z\n"
      ],
      "execution_count": null,
      "outputs": []
    },
    {
      "cell_type": "code",
      "metadata": {
        "colab": {
          "base_uri": "https://localhost:8080/"
        },
        "id": "LDiFa4D7Ce5_",
        "outputId": "cb6b6b55-2cc2-45bd-8556-f400ba2b44c5"
      },
      "source": [
        " x = 1000 \n",
        "y = 7\n",
        "z = 1\n",
        "print(((x/100)*(y/100)*z)+x) # 1.day"
      ],
      "execution_count": null,
      "outputs": [
        {
          "output_type": "stream",
          "name": "stdout",
          "text": [
            "1000.7\n"
          ]
        }
      ]
    },
    {
      "cell_type": "code",
      "metadata": {
        "id": "_TrpuOQDISHW",
        "colab": {
          "base_uri": "https://localhost:8080/"
        },
        "outputId": "47e194e0-b603-4597-dea9-82cf0e6a26f5"
      },
      "source": [
        "x = 1000 #\n",
        "y = 7\n",
        "z = 1\n",
        "print((x/100)*(y/100)*(z)+x) \n",
        "\n"
      ],
      "execution_count": null,
      "outputs": [
        {
          "output_type": "stream",
          "name": "stdout",
          "text": [
            "1000.7\n"
          ]
        }
      ]
    },
    {
      "cell_type": "code",
      "metadata": {
        "colab": {
          "base_uri": "https://localhost:8080/"
        },
        "id": "sFDDNvMZDq1c",
        "outputId": "837a0218-8913-49f8-b99f-ab57dda2df79"
      },
      "source": [
        "x = 1000.7 \n",
        "print(((x/100)*(y/100)*(z))+x)  # 2.day"
      ],
      "execution_count": null,
      "outputs": [
        {
          "output_type": "stream",
          "name": "stdout",
          "text": [
            "1001.40049\n"
          ]
        }
      ]
    },
    {
      "cell_type": "code",
      "metadata": {
        "colab": {
          "base_uri": "https://localhost:8080/"
        },
        "id": "TzD7QWQEDrBw",
        "outputId": "0a099f96-2839-4038-871a-ecbcca3ee6b9"
      },
      "source": [
        "x = 1001.40049\n",
        "print(((x/100)*(y/100)*(z))+x)  # 3.day\n"
      ],
      "execution_count": null,
      "outputs": [
        {
          "output_type": "stream",
          "name": "stdout",
          "text": [
            "1002.101470343\n"
          ]
        }
      ]
    },
    {
      "cell_type": "code",
      "metadata": {
        "colab": {
          "base_uri": "https://localhost:8080/"
        },
        "id": "7L75Ga7ZHToI",
        "outputId": "b6daa629-6ce6-4330-8234-48bf7aaa59ec"
      },
      "source": [
        "x = 1002.101470343\n",
        "print(((x/100)*(y/100)*(z))+x)  # 4.day"
      ],
      "execution_count": null,
      "outputs": [
        {
          "output_type": "stream",
          "name": "stdout",
          "text": [
            "1002.8029413722401\n"
          ]
        }
      ]
    },
    {
      "cell_type": "code",
      "metadata": {
        "colab": {
          "base_uri": "https://localhost:8080/"
        },
        "id": "7A0z0EcHHVEu",
        "outputId": "8e84deb9-60b3-4dfc-e23e-0be53cf272b5"
      },
      "source": [
        "x = 1002.8029413722401\n",
        "print(((x/100)*(y/100)*(z))+x)  # 5.day"
      ],
      "execution_count": null,
      "outputs": [
        {
          "output_type": "stream",
          "name": "stdout",
          "text": [
            "1003.5049034312007\n"
          ]
        }
      ]
    },
    {
      "cell_type": "code",
      "metadata": {
        "colab": {
          "base_uri": "https://localhost:8080/"
        },
        "id": "dcr67Ke_HVL5",
        "outputId": "e7690874-bf32-42cb-c0b6-3321da5edcd7"
      },
      "source": [
        "x = 1003.5049034312007\n",
        "print(((x/100)*(y/100)*(z))+x)  # 6.day"
      ],
      "execution_count": null,
      "outputs": [
        {
          "output_type": "stream",
          "name": "stdout",
          "text": [
            "1004.2073568636025\n"
          ]
        }
      ]
    },
    {
      "cell_type": "code",
      "metadata": {
        "colab": {
          "base_uri": "https://localhost:8080/"
        },
        "id": "dtX840RwHVVT",
        "outputId": "75bb3e40-c26d-4be1-c730-a60d005c739e"
      },
      "source": [
        "x = 1004.2073568636025\n",
        "print(((x/100)*(y/100)*(z))+x)  # 7.day"
      ],
      "execution_count": null,
      "outputs": [
        {
          "output_type": "stream",
          "name": "stdout",
          "text": [
            "1004.9103020134071\n"
          ]
        }
      ]
    },
    {
      "cell_type": "code",
      "source": [
        "## hocanın çözümü \n",
        "para = 1000\n",
        "para = para * 1.07 ** 7\n",
        "para"
      ],
      "metadata": {
        "id": "LftRbvreNVZz"
      },
      "execution_count": null,
      "outputs": []
    },
    {
      "cell_type": "code",
      "source": [
        ""
      ],
      "metadata": {
        "id": "SsgayCFyNVnO"
      },
      "execution_count": null,
      "outputs": []
    },
    {
      "cell_type": "code",
      "metadata": {
        "colab": {
          "base_uri": "https://localhost:8080/"
        },
        "id": "dNreyLnGzJSO",
        "outputId": "fa76ec57-db9e-4325-83bd-ae8828b9bf7d"
      },
      "source": [
        "f= int(input(\"Sıcaklığı F cinsinden giriniz: \")) \n",
        "c=(f-32)/1.8 \n",
        "print(f, \"F = \", c,\"C'dir\") "
      ],
      "execution_count": null,
      "outputs": [
        {
          "output_type": "stream",
          "name": "stdout",
          "text": [
            "Sıcaklığı F cinsinden giriniz: 32\n",
            "32 F =  0.0 C'dir\n"
          ]
        }
      ]
    },
    {
      "cell_type": "code",
      "metadata": {
        "id": "8rK6xaSqzJFG",
        "colab": {
          "base_uri": "https://localhost:8080/"
        },
        "outputId": "4d4a1634-9413-4379-f255-a6d7734dd582"
      },
      "source": [
        "a = int(input('Sıcaklığı C cinsinden giriniz: '))  # derece float değil integer olarak alınmıştır\n",
        "b = a*1.8 + 32   # çarpma işlemi otomatik float yapacak\n",
        "print(a, 'C olarak girilen değer', b , 'F\\'dır.')  "
      ],
      "execution_count": null,
      "outputs": [
        {
          "output_type": "stream",
          "name": "stdout",
          "text": [
            "Sıcaklığı C cinsinden giriniz:32\n",
            "32 C olarak girilen değer 89.6 F'dır.\n"
          ]
        }
      ]
    },
    {
      "cell_type": "code",
      "metadata": {
        "id": "GJxWZ_AGzI3z",
        "colab": {
          "base_uri": "https://localhost:8080/"
        },
        "outputId": "8ef36dd6-3b8b-4fd3-b5d4-a2210edddac1"
      },
      "source": [
        "\n",
        "a = int(input ('Km değerini giriniz : '))\n",
        "b = (a * 100 / 161)  # Kara Mili olarak hesaplanmıştır.\n",
        "print(a, 'Km değeri', b, 'Mil\\'dir')   "
      ],
      "execution_count": null,
      "outputs": [
        {
          "output_type": "stream",
          "name": "stdout",
          "text": [
            "Km değerini giriniz : 234\n",
            "234 Km değeri 145.3416149068323 Mil'dir\n"
          ]
        }
      ]
    },
    {
      "cell_type": "code",
      "metadata": {
        "colab": {
          "base_uri": "https://localhost:8080/"
        },
        "id": "l_sjblmOvFzH",
        "outputId": "c93d234e-562e-4b9f-c91c-8b9903297289"
      },
      "source": [
        "age = input(\"Are you a cigarette addict older than 75 years old? (# True or False): \" )\n",
        "chronic = input(\"Do you have a severe chronic disease? (# True or False): \")\n",
        "immune = input(\"Is your immune system too weak?(# True or False): \")\n",
        "\n",
        "print(\"Your death risk high\", age.capitalize() or (chronic.capitalize() or immune.capitalize()))\n",
        "\n"
      ],
      "execution_count": null,
      "outputs": [
        {
          "output_type": "stream",
          "name": "stdout",
          "text": [
            "Are you a cigarette addict older than 75 years old? (# True or False): true\n",
            "Do you have a severe chronic disease? (# True or False): false\n",
            "Is your immune system too weak?(# True or False): false\n",
            "Your death risk high True\n"
          ]
        }
      ]
    },
    {
      "cell_type": "code",
      "metadata": {
        "colab": {
          "base_uri": "https://localhost:8080/"
        },
        "id": "z3T8j6FWyhZU",
        "outputId": "80bf4d8a-cc98-4ba7-df00-a63e31261565"
      },
      "source": [
        "numbers = [1, 3, 7, 4, 3, 0, 3, 6, 3]\n",
        "my_numbers = set(numbers)\n",
        "my_numbers\n",
        "print(my_numbers)\n",
        "\n",
        "max(numbers, key = numbers.count)\n",
        "\n",
        "print(\"The most frequent number is\",max(numbers, key = numbers.count),\" and it was\",numbers.count(3), \"times repeated\")\n",
        "\n"
      ],
      "execution_count": null,
      "outputs": [
        {
          "output_type": "stream",
          "name": "stdout",
          "text": [
            "{0, 1, 3, 4, 6, 7}\n",
            "The most frequent number is 3  and it was 4 times repeated\n"
          ]
        }
      ]
    },
    {
      "cell_type": "code",
      "metadata": {
        "id": "u61espA08xgo",
        "colab": {
          "base_uri": "https://localhost:8080/"
        },
        "outputId": "56c3d891-ceb2-4c95-b1ec-218114e298f2"
      },
      "source": [
        "numbers = [1,3, 7, 4, 3, 0, 6, 3]\n",
        "\n",
        "new_number = max(numbers, key = numbers.count)\n",
        "\n",
        "print(\"repeated numder :\", new_number)"
      ],
      "execution_count": null,
      "outputs": [
        {
          "output_type": "stream",
          "name": "stdout",
          "text": [
            "repeated numder : 3\n"
          ]
        }
      ]
    },
    {
      "cell_type": "code",
      "metadata": {
        "id": "8imZjizosWHe",
        "colab": {
          "base_uri": "https://localhost:8080/"
        },
        "outputId": "0fd91a10-427b-4fe8-b35b-95cc6c5d23de"
      },
      "source": [
        "letter = input(\"write a word:\")\n",
        "  print(True)\n",
        "else:\n",
        "  print(False)"
      ],
      "execution_count": null,
      "outputs": [
        {
          "output_type": "error",
          "ename": "IndentationError",
          "evalue": "ignored",
          "traceback": [
            "\u001b[0;36m  File \u001b[0;32m\"<ipython-input-1-2048425acaf8>\"\u001b[0;36m, line \u001b[0;32m2\u001b[0m\n\u001b[0;31m    print(True)\u001b[0m\n\u001b[0m    ^\u001b[0m\n\u001b[0;31mIndentationError\u001b[0m\u001b[0;31m:\u001b[0m unexpected indent\n"
          ]
        }
      ]
    },
    {
      "cell_type": "code",
      "metadata": {
        "id": "BM05mUbgc_K1",
        "colab": {
          "base_uri": "https://localhost:8080/"
        },
        "outputId": "e2561865-48b8-40ac-9d97-7ccabfe627ff"
      },
      "source": [
        "list1 = [\"q\", \"w\", \"e\", \"r\", \"t\", \"a\", \"s\", \"d\", \"f\", \"g\", \"z\", \"x\", \"c\" , \"v\", \"b\"]\n",
        "list2 = (\"y h n u j m ı k ö o l ç p ş ğ i ü\").split()\n",
        "list2\n",
        "x = list(input(\"bir kelime giriniz:\"))\n",
        "if x in (list1 and list2):\n",
        "  print(False)\n",
        "else:\n",
        "  print(True)"
      ],
      "execution_count": null,
      "outputs": [
        {
          "output_type": "stream",
          "name": "stdout",
          "text": [
            "bir kelime giriniz:sdffghjklşkşjkljşl\n",
            "True\n"
          ]
        }
      ]
    },
    {
      "cell_type": "code",
      "metadata": {
        "id": "6ag6Fl4Cc_Ni",
        "colab": {
          "base_uri": "https://localhost:8080/"
        },
        "outputId": "2627d904-76f5-4fa1-b88f-b30a241b4914"
      },
      "source": [
        "list1 = [\"q\", \"w\", \"e\", \"r\", \"t\", \"a\", \"s\", \"d\", \"f\", \"g\", \"z\", \"x\", \"c\" , \"v\", \"b\"]\n",
        "list2 = (\"y h n u j m ı k ö o l ç p ş ğ i ü\").split()\n",
        "list2\n",
        "x = list(input(\"bir kelime giriniz:\"))\n",
        "print(x)\n"
      ],
      "execution_count": null,
      "outputs": [
        {
          "output_type": "stream",
          "name": "stdout",
          "text": [
            "bir kelime giriniz:sdfkl\n",
            "['s', 'd', 'f', 'k', 'l']\n"
          ]
        }
      ]
    },
    {
      "cell_type": "code",
      "metadata": {
        "id": "doaWbZd2c_Qd",
        "colab": {
          "base_uri": "https://localhost:8080/"
        },
        "outputId": "4ba1e821-bcfb-47e3-a88f-6f885b0ee8d5"
      },
      "source": [
        "list1 = [\"q\", \"w\", \"e\", \"r\", \"t\", \"a\", \"s\", \"d\", \"f\", \"g\", \"z\", \"x\", \"c\" , \"v\", \"b\"]\n",
        "print(*list1)"
      ],
      "execution_count": null,
      "outputs": [
        {
          "output_type": "stream",
          "name": "stdout",
          "text": [
            "q w e r t a s d f g z x c v b\n"
          ]
        }
      ]
    },
    {
      "cell_type": "code",
      "metadata": {
        "id": "um2Wc-NUc_ef",
        "colab": {
          "base_uri": "https://localhost:8080/"
        },
        "outputId": "3f37afdc-c3bb-4911-d6cf-cc46c2cb5f45"
      },
      "source": [
        "left_hand = set(\"qwertasdfgzxcvb\")\n",
        "right_hand = set(\"yuiophjklnm\")\n",
        "word = set(input(\"write a word : \"))\n",
        "word.intersection(right_hand) != set() and word.intersection(left_hand) != set()"
      ],
      "execution_count": null,
      "outputs": [
        {
          "name": "stdout",
          "output_type": "stream",
          "text": [
            "write a word : sdf\n"
          ]
        },
        {
          "output_type": "execute_result",
          "data": {
            "text/plain": [
              "False"
            ]
          },
          "metadata": {},
          "execution_count": 11
        }
      ]
    },
    {
      "cell_type": "code",
      "metadata": {
        "id": "ONpU-Rdgc_g8",
        "colab": {
          "base_uri": "https://localhost:8080/"
        },
        "outputId": "e4729e99-00aa-4309-fdf2-0e39c2b89d3d"
      },
      "source": [
        "left_hand =  set(\"qwertasdfgzxcvb\")\n",
        "right_hand = set(\"yuiophjklnm\")\n",
        "words = set(input(\"write a word : \").lower())\n",
        "print(words.intersection(left_hand) !=  set() and words.intersection(right_hand) != set())"
      ],
      "execution_count": null,
      "outputs": [
        {
          "output_type": "stream",
          "name": "stdout",
          "text": [
            "write a word : asdhjk\n",
            "True\n"
          ]
        }
      ]
    },
    {
      "cell_type": "code",
      "metadata": {
        "id": "UO_mFzhHc_l5",
        "colab": {
          "base_uri": "https://localhost:8080/"
        },
        "outputId": "228ca82d-f9bb-49b1-d9fc-a229c1745489"
      },
      "source": [
        "email = 'D999@clarusway.com'\n",
        "pswrd = 'd999'\n",
        "ent_mail = input('enter mail: ')\n",
        "ent_pswrd = input('enter password: ')\n",
        "if (ent_mail !=email and ent_pswrd==pswrd):\n",
        "  print('Wrong email address')\n",
        "elif(ent_mail==email and ent_pswrd !=pswrd):\n",
        "    print('wrong password')\n",
        "elif(ent_mail !=email and ent_pswrd !=pswrd):\n",
        "      print('wrong email and password')\n",
        "else:\n",
        "        print('login successfull')\n",
        "        "
      ],
      "execution_count": null,
      "outputs": [
        {
          "output_type": "stream",
          "name": "stdout",
          "text": [
            "enter mail: D999@clarusway.com\n",
            "enter password: d999\n",
            "login successfull\n"
          ]
        }
      ]
    },
    {
      "cell_type": "code",
      "metadata": {
        "id": "k_EvhOaoc_ok",
        "colab": {
          "base_uri": "https://localhost:8080/"
        },
        "outputId": "e320931c-2c0d-4278-df90-f17c8d48fa46"
      },
      "source": [
        "name = \"Joseph\"\n",
        "pswrd = \"W@12\"\n",
        "in_name = input(\"write a user name : \").title()\n",
        "in_pswrd = input(\"write a your pasword : \")\n",
        "if(in_name == name and in_pswrd != pswrd):\n",
        "  print((\"{} write a wrong pasword\".format(in_name)).title())\n",
        "elif(in_name != name and in_pswrd == pswrd):\n",
        "  print((\"{} is a wrong user name\".format(in_name)).title())\n",
        "elif(in_name != name and in_pswrd != pswrd):\n",
        "  print((\"{} is wrong user name and pasword\".format(in_name)).title())\n",
        "else:\n",
        "  print(\"welcome {}.your pasword is true\".format(in_name).title())"
      ],
      "execution_count": null,
      "outputs": [
        {
          "output_type": "stream",
          "name": "stdout",
          "text": [
            "write a user name : joseph\n",
            "write a your pasword : W@12\n",
            "welcome Joseph.your pasword is true\n"
          ]
        }
      ]
    },
    {
      "cell_type": "code",
      "metadata": {
        "id": "ExjO0LG1c_rn",
        "colab": {
          "base_uri": "https://localhost:8080/"
        },
        "outputId": "148a806d-300d-4245-93f1-5b0a8cd82fb6"
      },
      "source": [
        "age = input(\"Are you a cigarette addict older than 75 years old?(# Yes or No) : \")\n",
        "cronic = input(\"Do you have a severe chronic disease?(# Yes or No) : \")\n",
        "immune = input(\"Is your immune system too weak?(# Yes or No) : \")\n",
        "\n",
        "if (age.capitalize() or cronic.capitalize() or immune.capitalize()) == \"Yes\" :\n",
        "  print(\"You are in risky group\")\n",
        "else:\n",
        "  print(\"You aren't in risky group\")\n",
        "\n"
      ],
      "execution_count": null,
      "outputs": [
        {
          "output_type": "stream",
          "name": "stdout",
          "text": [
            "Are you a cigarette addict older than 75 years old?(# Yes or No) : yes\n",
            "Do you have a severe chronic disease?(# Yes or No) : no\n",
            "Is your immune system too weak?(# Yes or No) : no\n",
            "You are in risky group\n"
          ]
        }
      ]
    },
    {
      "cell_type": "code",
      "metadata": {
        "id": "Fz56NkdVc_uH",
        "colab": {
          "base_uri": "https://localhost:8080/"
        },
        "outputId": "32723313-f495-450f-9261-8a8a11c42855"
      },
      "source": [
        "num = input(\"write a number: \")\n",
        "\n",
        "total = 0\n",
        "\n",
        "\n",
        "if num.isdigit():\n",
        "  for i in num:\n",
        "    total1 = (int(i)**len(num))\n",
        "    total += total1\n",
        "    \n",
        "  if int(num)  == total :\n",
        "    print(\"it's a armstrong number\")\n",
        "      \n",
        "  elif int(num) != total :\n",
        "    \n",
        "    print(\"it's not a armstrong number\")\n",
        "      \n",
        "\n",
        "\n",
        "    print(total)\n",
        "\n",
        "else:\n",
        "  print(\"it's not a number\")"
      ],
      "execution_count": null,
      "outputs": [
        {
          "output_type": "stream",
          "name": "stdout",
          "text": [
            "write a number: 371\n",
            "it's a armstrong number\n"
          ]
        }
      ]
    },
    {
      "cell_type": "code",
      "metadata": {
        "id": "KGit7TqMc_xg",
        "colab": {
          "base_uri": "https://localhost:8080/"
        },
        "outputId": "17c8a1fe-19f6-4754-9621-afadcf4fa72f"
      },
      "source": [
        "strs = [\"eat\", \"tea\", \"tan\", \"ate\", \"nat\", \"bat\", \"cat\", \"tac\"]\n",
        "group = {}\n",
        "\n",
        "for i in strs :\n",
        "  kelime = \"\".join(sorted(i))\n",
        "  if kelime in group :\n",
        "    group[kelime].append(i)\n",
        "  else :\n",
        "    group[kelime] = [i]\n",
        "\n",
        "print(list(group.values()))"
      ],
      "execution_count": null,
      "outputs": [
        {
          "output_type": "stream",
          "name": "stdout",
          "text": [
            "[['eat', 'tea', 'ate'], ['tan', 'nat'], ['bat'], ['cat', 'tac']]\n"
          ]
        }
      ]
    },
    {
      "cell_type": "code",
      "metadata": {
        "id": "Nfn1x1RTc_0D",
        "colab": {
          "base_uri": "https://localhost:8080/"
        },
        "outputId": "7224a8d2-5702-4909-c52b-e6ec4c9fc759"
      },
      "source": [
        "num = input(\"write a number: \")\n",
        "toplam = 0  \n",
        "\n",
        "i = 0\n",
        "if num.isdigit(): \n",
        "  while i < len(num) :   \n",
        "    toplam = toplam + int(num[i])**len(num)\n",
        "    i += 1\n",
        "  if int(num) == toplam :\n",
        "    print(num, \"it's a armstrong number\")\n",
        "  else :\n",
        "    print(num, \"is not an Armstrong number\")\n",
        "else :\n",
        "  print(\"It is an invalid entry. Don't use non-numeric, float, or negative values!\")"
      ],
      "execution_count": null,
      "outputs": [
        {
          "output_type": "stream",
          "name": "stdout",
          "text": [
            "write a number: 5\n",
            "5 it's a armstrong number\n"
          ]
        }
      ]
    },
    {
      "cell_type": "code",
      "metadata": {
        "id": "eWY3Mzc0c_3J",
        "colab": {
          "base_uri": "https://localhost:8080/"
        },
        "outputId": "d050dce5-2d75-476f-98ff-ffbc64110bdd"
      },
      "source": [
        "\n",
        "\n",
        "n = input(\"write a number: \")\n",
        "\n",
        "\n",
        "k = []\n",
        "if n.isdigit():\n",
        "  while i <= int(n) :\n",
        "    for i in range(3,n+1) :\n",
        "      for j in range(2,i) :\n",
        "        if i % j == 0 :\n",
        "          \n",
        "          k.append(i)\n",
        "        else :\n",
        "         prime += [i]\n",
        "      \n",
        "else :\n",
        "  print(\"It is an invalid entry. Don't use non-numeric, float, or negative values!\")\n",
        "\n",
        "\n",
        "print(k)\n"
      ],
      "execution_count": null,
      "outputs": [
        {
          "output_type": "stream",
          "name": "stdout",
          "text": [
            "write a number: 7\n",
            "[]\n"
          ]
        }
      ]
    },
    {
      "cell_type": "code",
      "metadata": {
        "id": "UVJWASvtc_52",
        "colab": {
          "base_uri": "https://localhost:8080/"
        },
        "outputId": "bfbd50ea-d35c-4f9c-d885-3b1056715031"
      },
      "source": [
        "    "
      ],
      "execution_count": null,
      "outputs": [
        {
          "output_type": "stream",
          "name": "stdout",
          "text": [
            "write a number: 8\n",
            "[2, 3, 5, 7]\n"
          ]
        }
      ]
    },
    {
      "cell_type": "code",
      "metadata": {
        "id": "66IMygsmc_8j",
        "colab": {
          "base_uri": "https://localhost:8080/"
        },
        "outputId": "cb7a535e-bbc4-4ffd-970f-d4f9b61d8bc9"
      },
      "source": [
        "def team_league(team, league='Premier League'):\n",
        "    print(team, 'in', league)\n",
        "\n",
        "team_league('Liverpool')"
      ],
      "execution_count": null,
      "outputs": [
        {
          "output_type": "stream",
          "name": "stdout",
          "text": [
            "Liverpool in Premier League\n"
          ]
        }
      ]
    },
    {
      "cell_type": "code",
      "metadata": {
        "id": "7WPLE8yYc__H",
        "colab": {
          "base_uri": "https://localhost:8080/"
        },
        "outputId": "fab85fd3-0860-4f9c-ba60-e1d47029aa90"
      },
      "source": [
        "n = int(input(\"write a number: \"))  #  input 9 for 55 number\n",
        "\n",
        "a = 0\n",
        "b = 1\n",
        "liste = [b]\n",
        "\n",
        "for i in range(n):\n",
        "  a,b = b,a+b\n",
        "  liste.append(b)\n",
        "  \n",
        "  # print(b, end=\" \")\n",
        "\n",
        "print(liste)  "
      ],
      "execution_count": null,
      "outputs": [
        {
          "output_type": "stream",
          "name": "stdout",
          "text": [
            "write a number: 8\n",
            "[1, 1, 2, 3, 5, 8, 13, 21, 34]\n"
          ]
        }
      ]
    },
    {
      "cell_type": "code",
      "metadata": {
        "id": "xRaVjqs5dAB8",
        "colab": {
          "base_uri": "https://localhost:8080/"
        },
        "outputId": "076813d4-a367-4221-f8bb-5560b112388c"
      },
      "source": [
        "a,b = 0,1\n",
        "fibonacci = [a,b]\n",
        "for i in range(98) :\n",
        "  a,b = b,a+ b\n",
        "  fibonacci += [b]\n",
        "print(fibonacci[1:])\n",
        "print(len(fibonacci))"
      ],
      "execution_count": null,
      "outputs": [
        {
          "output_type": "stream",
          "name": "stdout",
          "text": [
            "[1, 1, 2, 3, 5, 8, 13, 21, 34, 55, 89, 144, 233, 377, 610, 987, 1597, 2584, 4181, 6765, 10946, 17711, 28657, 46368, 75025, 121393, 196418, 317811, 514229, 832040, 1346269, 2178309, 3524578, 5702887, 9227465, 14930352, 24157817, 39088169, 63245986, 102334155, 165580141, 267914296, 433494437, 701408733, 1134903170, 1836311903, 2971215073, 4807526976, 7778742049, 12586269025, 20365011074, 32951280099, 53316291173, 86267571272, 139583862445, 225851433717, 365435296162, 591286729879, 956722026041, 1548008755920, 2504730781961, 4052739537881, 6557470319842, 10610209857723, 17167680177565, 27777890035288, 44945570212853, 72723460248141, 117669030460994, 190392490709135, 308061521170129, 498454011879264, 806515533049393, 1304969544928657, 2111485077978050, 3416454622906707, 5527939700884757, 8944394323791464, 14472334024676221, 23416728348467685, 37889062373143906, 61305790721611591, 99194853094755497, 160500643816367088, 259695496911122585, 420196140727489673, 679891637638612258, 1100087778366101931, 1779979416004714189, 2880067194370816120, 4660046610375530309, 7540113804746346429, 12200160415121876738, 19740274219868223167, 31940434634990099905, 51680708854858323072, 83621143489848422977, 135301852344706746049, 218922995834555169026]\n",
            "100\n"
          ]
        }
      ]
    },
    {
      "cell_type": "code",
      "metadata": {
        "id": "zqViA07OdAEk"
      },
      "source": [
        "def sum_double(x, y):\n",
        "    if x == y :\n",
        "        return (x + y) * 2\n",
        "       \n",
        "    else :\n",
        "        return x + y\n",
        "        \n",
        "\n",
        "print(sum_double(1, 2))\n",
        "print(sum_double(5, 7))\n",
        "print(sum_double(5, 5))"
      ],
      "execution_count": null,
      "outputs": []
    },
    {
      "cell_type": "code",
      "metadata": {
        "id": "KG5TuSkAdAHA",
        "colab": {
          "base_uri": "https://localhost:8080/"
        },
        "outputId": "2c5d0f68-9b1d-4167-fd3f-423c5a1f3e9f"
      },
      "source": [
        "def parrot_trouble(talking, hour):\n",
        "    while 21 > hour and hour < 6 and talking  :\n",
        "       print(True)\n",
        "       break\n",
        "    else:\n",
        "       print(False)\n",
        "\n",
        "\n",
        "talking = input(\"write a your parrot talk before 6 or after 21 True or False :\")\n",
        "hour = int(input(\"Your parrot when talk (.. o'clock) :\"))\n",
        "parrot_trouble(talking, hour)"
      ],
      "execution_count": null,
      "outputs": [
        {
          "output_type": "stream",
          "name": "stdout",
          "text": [
            "write a your parrot talk before 6 or after 21 True or False :true\n",
            "Your parrot when talk (.. o'clock) :5\n",
            "True\n"
          ]
        }
      ]
    },
    {
      "cell_type": "code",
      "metadata": {
        "id": "bzn0pFYfdAJc",
        "colab": {
          "base_uri": "https://localhost:8080/"
        },
        "outputId": "5335aaea-5907-41cc-ca67-20193bef13e8"
      },
      "source": [
        "def parrot_trouble(talking, hour):\n",
        "    while 21 > hour and hour < 6 and talking  :\n",
        "       print(True)\n",
        "       break\n",
        "    else:\n",
        "       print(False)\n",
        "        \n",
        "talking = input(\"write a your parrot talk before 6 or after 21 True or False :\")\n",
        "hour = int(input(\"Your parrot when talk (.. o'clock) :\"))\n",
        "parrot_trouble(talking, hour)"
      ],
      "execution_count": null,
      "outputs": [
        {
          "output_type": "stream",
          "name": "stdout",
          "text": [
            "write a your parrot talk before 6 or after 21 True or False :true\n",
            "Your parrot when talk (.. o'clock) :5\n",
            "True\n"
          ]
        }
      ]
    },
    {
      "cell_type": "code",
      "metadata": {
        "id": "_yg0hrQSdAMB"
      },
      "source": [
        "n = int(input(\"Enter a positive number to check if it is a Prime Number\"))\n",
        "counter = 0\n",
        "\n",
        "for i in range(1, n+1) :\n",
        "    if n % i == 0 :\n",
        "        counter += 1\n",
        "        \n",
        "if (n == 0) or (n == 1) or (counter >= 3) :\n",
        "    print(n, \" is not a Prime Number\")\n",
        "    \n",
        "else :\n",
        "    print(n, \" is a Prime Number\")"
      ],
      "execution_count": null,
      "outputs": []
    },
    {
      "cell_type": "code",
      "metadata": {
        "id": "UlQXWr7QdAOs",
        "colab": {
          "base_uri": "https://localhost:8080/"
        },
        "outputId": "4376b3fa-9ec3-4451-eb00-d763f20e16a2"
      },
      "source": [
        "dictionary = {'s': 2, 'r': 1, 't': 1, 'h': 1, 'n': 1, \n",
        "'i': 1, 'u': 2, 'o': 2, 'p': 2, ' ': 3, '!': 1}\n",
        "def letter(text):\n",
        "  a = 0\n",
        "  for i in text :\n",
        "    a += dictionary[i]\n",
        "\n",
        "  return a\n",
        "\n",
        "print(letter(\"hippo runs to us!\"))  \n"
      ],
      "execution_count": null,
      "outputs": [
        {
          "output_type": "stream",
          "name": "stdout",
          "text": [
            "31\n"
          ]
        }
      ]
    },
    {
      "cell_type": "code",
      "source": [
        "def front_back(word):\n",
        "  a = word[0]\n",
        "  b = word[-1]\n",
        "  c = word.rstrip(word[-1]).lstrip(word[0])\n",
        " \n",
        "  return b + c + a\n",
        "print(front_back(\"ab\"))"
      ],
      "metadata": {
        "id": "8-vxAP_8NfLh",
        "colab": {
          "base_uri": "https://localhost:8080/"
        },
        "outputId": "44269055-9615-4573-9ac0-30822342fba6"
      },
      "execution_count": null,
      "outputs": [
        {
          "output_type": "stream",
          "name": "stdout",
          "text": [
            "ba\n"
          ]
        }
      ]
    },
    {
      "cell_type": "code",
      "source": [
        "print(front_back('clarusway'))"
      ],
      "metadata": {
        "id": "HtXceyaMNfOG",
        "colab": {
          "base_uri": "https://localhost:8080/"
        },
        "outputId": "920c6663-f2da-4d3c-bfb6-7ff41e15b040"
      },
      "execution_count": null,
      "outputs": [
        {
          "output_type": "stream",
          "name": "stdout",
          "text": [
            "ylaruswac\n"
          ]
        }
      ]
    },
    {
      "cell_type": "code",
      "metadata": {
        "id": "IGqOp76pdARU"
      },
      "source": [
        ""
      ],
      "execution_count": null,
      "outputs": []
    },
    {
      "cell_type": "code",
      "metadata": {
        "id": "VuWBJsVfdAVE"
      },
      "source": [
        ""
      ],
      "execution_count": null,
      "outputs": []
    }
  ]
}