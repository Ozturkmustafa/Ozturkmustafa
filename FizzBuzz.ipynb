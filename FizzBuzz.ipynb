{
  "nbformat": 4,
  "nbformat_minor": 0,
  "metadata": {
    "colab": {
      "name": "FizzBuzz.ipynb",
      "provenance": [],
      "authorship_tag": "ABX9TyMhaCpNA6n+uw8c359ZA44D",
      "include_colab_link": true
    },
    "kernelspec": {
      "name": "python3",
      "display_name": "Python 3"
    },
    "language_info": {
      "name": "python"
    }
  },
  "cells": [
    {
      "cell_type": "markdown",
      "metadata": {
        "id": "view-in-github",
        "colab_type": "text"
      },
      "source": [
        "<a href=\"https://colab.research.google.com/github/Ozturkmustafa/Ozturkmustafa/blob/main/FizzBuzz.ipynb\" target=\"_parent\"><img src=\"https://colab.research.google.com/assets/colab-badge.svg\" alt=\"Open In Colab\"/></a>"
      ]
    },
    {
      "cell_type": "code",
      "metadata": {
        "id": "2X8IgdYJfP3h"
      },
      "source": [
        "def fizz_buzz(maximum):\n",
        "    lst = list(range(1,maximum+1))\n",
        "    for i in lst:\n",
        "        if not i % 15:\n",
        "            lst[lst.index(i)] = \"FizzBuzz\"\n",
        "        elif not i % 5:\n",
        "            lst[lst.index(i)] = \"Buzz\"\n",
        "        elif not i % 3:\n",
        "            lst[lst.index(i)] = \"Fizz\"\n",
        "    return lst"
      ],
      "execution_count": 1,
      "outputs": []
    },
    {
      "cell_type": "code",
      "metadata": {
        "colab": {
          "base_uri": "https://localhost:8080/"
        },
        "id": "hP4YdyxTfQz6",
        "outputId": "eb6debc1-39b3-4c8f-bfef-6b239df1842c"
      },
      "source": [
        "print(fizz_buzz(100))"
      ],
      "execution_count": 2,
      "outputs": [
        {
          "output_type": "stream",
          "name": "stdout",
          "text": [
            "[1, 2, 'Fizz', 4, 'Buzz', 'Fizz', 7, 8, 'Fizz', 'Buzz', 11, 'Fizz', 13, 14, 'FizzBuzz', 16, 17, 'Fizz', 19, 'Buzz', 'Fizz', 22, 23, 'Fizz', 'Buzz', 26, 'Fizz', 28, 29, 'FizzBuzz', 31, 32, 'Fizz', 34, 'Buzz', 'Fizz', 37, 38, 'Fizz', 'Buzz', 41, 'Fizz', 43, 44, 'FizzBuzz', 46, 47, 'Fizz', 49, 'Buzz', 'Fizz', 52, 53, 'Fizz', 'Buzz', 56, 'Fizz', 58, 59, 'FizzBuzz', 61, 62, 'Fizz', 64, 'Buzz', 'Fizz', 67, 68, 'Fizz', 'Buzz', 71, 'Fizz', 73, 74, 'FizzBuzz', 76, 77, 'Fizz', 79, 'Buzz', 'Fizz', 82, 83, 'Fizz', 'Buzz', 86, 'Fizz', 88, 89, 'FizzBuzz', 91, 92, 'Fizz', 94, 'Buzz', 'Fizz', 97, 98, 'Fizz', 'Buzz']\n"
          ]
        }
      ]
    },
    {
      "cell_type": "code",
      "metadata": {
        "id": "vuHqSWhvfqFY"
      },
      "source": [
        "def fizz_buzz(maximum):\n",
        "    lst = list(range(1,maximum+1))\n",
        "    a = []\n",
        "    b = []\n",
        "    c = []\n",
        "    for i in lst:\n",
        "        if not i % 15:\n",
        "            lst[lst.index(i)] = \"FizzBuzz\"\n",
        "            a.append(i)\n",
        "        elif not i % 5:\n",
        "            lst[lst.index(i)] = \"Buzz\"\n",
        "            b.append(i)\n",
        "        elif not i % 3:\n",
        "            lst[lst.index(i)] = \"Fizz\"\n",
        "            c.append(i) \n",
        "    return c"
      ],
      "execution_count": 11,
      "outputs": []
    },
    {
      "cell_type": "code",
      "metadata": {
        "colab": {
          "base_uri": "https://localhost:8080/"
        },
        "id": "g4hkO3RDfqIn",
        "outputId": "38eda569-4fe8-4db4-94f4-4469e52e2f75"
      },
      "source": [
        "print(fizz_buzz(100))"
      ],
      "execution_count": 12,
      "outputs": [
        {
          "output_type": "stream",
          "name": "stdout",
          "text": [
            "[3, 6, 9, 12, 18, 21, 24, 27, 33, 36, 39, 42, 48, 51, 54, 57, 63, 66, 69, 72, 78, 81, 84, 87, 93, 96, 99]\n"
          ]
        }
      ]
    },
    {
      "cell_type": "code",
      "metadata": {
        "id": "SGc54unpfav_"
      },
      "source": [
        ""
      ],
      "execution_count": null,
      "outputs": []
    }
  ]
}
