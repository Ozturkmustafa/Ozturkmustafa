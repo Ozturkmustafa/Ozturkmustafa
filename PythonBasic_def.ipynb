{
  "cells": [
    {
      "cell_type": "markdown",
      "metadata": {
        "id": "view-in-github",
        "colab_type": "text"
      },
      "source": [
        "<a href=\"https://colab.research.google.com/github/Ozturkmustafa/Ozturkmustafa/blob/main/PythonBasic_def.ipynb\" target=\"_parent\"><img src=\"https://colab.research.google.com/assets/colab-badge.svg\" alt=\"Open In Colab\"/></a>"
      ]
    },
    {
      "cell_type": "markdown",
      "id": "22263af8",
      "metadata": {
        "id": "22263af8"
      },
      "source": [
        "<h1><p style=\"text-align: center; color:darkblue\">Python In-Class, <br>17 November 2021</p><h1>"
      ]
    },
    {
      "cell_type": "code",
      "execution_count": null,
      "id": "54cd4dbf",
      "metadata": {
        "id": "54cd4dbf"
      },
      "outputs": [],
      "source": [
        "listA = [\"susan\", \"tom\", False, 0, 22]\n",
        "filtered_list = filter(None, listA)"
      ]
    },
    {
      "cell_type": "code",
      "execution_count": null,
      "id": "8fd9da24",
      "metadata": {
        "id": "8fd9da24",
        "outputId": "08879557-4cf3-4eed-f7f9-cbf326748490"
      },
      "outputs": [
        {
          "data": {
            "text/plain": [
              "<filter at 0x7fe83824b640>"
            ]
          },
          "execution_count": 2,
          "metadata": {},
          "output_type": "execute_result"
        }
      ],
      "source": [
        "filtered_list"
      ]
    },
    {
      "cell_type": "code",
      "execution_count": null,
      "id": "1d34cf7d",
      "metadata": {
        "id": "1d34cf7d",
        "outputId": "3d969baf-2317-4c04-b3a7-8b535db6aff0"
      },
      "outputs": [
        {
          "name": "stdout",
          "output_type": "stream",
          "text": [
            "The filtered elements are :\n",
            "susan\n",
            "tom\n",
            "22\n"
          ]
        }
      ],
      "source": [
        "print(\"The filtered elements are :\")\n",
        "\n",
        "for i in filtered_list :\n",
        "    print(i)"
      ]
    },
    {
      "cell_type": "code",
      "execution_count": null,
      "id": "b07470f5",
      "metadata": {
        "id": "b07470f5",
        "outputId": "8fa47501-5ef7-404e-d70a-d09f813e2b64"
      },
      "outputs": [
        {
          "data": {
            "text/plain": [
              "'a'"
            ]
          },
          "execution_count": 4,
          "metadata": {},
          "output_type": "execute_result"
        }
      ],
      "source": [
        "min(\"ahmet\")"
      ]
    },
    {
      "cell_type": "code",
      "execution_count": null,
      "id": "dd8e22f7",
      "metadata": {
        "scrolled": true,
        "id": "dd8e22f7",
        "outputId": "06dd0ad8-d8f8-4f91-9a4b-68f91e9b6843"
      },
      "outputs": [
        {
          "data": {
            "text/plain": [
              "'t'"
            ]
          },
          "execution_count": 5,
          "metadata": {},
          "output_type": "execute_result"
        }
      ],
      "source": [
        "max(\"ahmet\")"
      ]
    },
    {
      "cell_type": "code",
      "execution_count": null,
      "id": "6fdffa6c",
      "metadata": {
        "id": "6fdffa6c",
        "outputId": "d1389186-734f-4641-872f-245d7ea17982"
      },
      "outputs": [
        {
          "data": {
            "text/plain": [
              "97"
            ]
          },
          "execution_count": 6,
          "metadata": {},
          "output_type": "execute_result"
        }
      ],
      "source": [
        "ord(\"a\")"
      ]
    },
    {
      "cell_type": "code",
      "execution_count": null,
      "id": "5783acb3",
      "metadata": {
        "id": "5783acb3",
        "outputId": "8627046d-5f41-496d-9723-432335e0b16b"
      },
      "outputs": [
        {
          "data": {
            "text/plain": [
              "116"
            ]
          },
          "execution_count": 7,
          "metadata": {},
          "output_type": "execute_result"
        }
      ],
      "source": [
        "ord(\"t\")"
      ]
    },
    {
      "cell_type": "code",
      "execution_count": null,
      "id": "29fdb5c3",
      "metadata": {
        "id": "29fdb5c3",
        "outputId": "3511b5b8-dfb0-42d4-bae7-afa8734e83d1"
      },
      "outputs": [
        {
          "data": {
            "text/plain": [
              "4"
            ]
          },
          "execution_count": 8,
          "metadata": {},
          "output_type": "execute_result"
        }
      ],
      "source": [
        "max(1,2,3,4)"
      ]
    },
    {
      "cell_type": "code",
      "execution_count": null,
      "id": "de994e18",
      "metadata": {
        "id": "de994e18",
        "outputId": "1ff217a7-9cba-44d8-e251-465621492fcc"
      },
      "outputs": [
        {
          "data": {
            "text/plain": [
              "1"
            ]
          },
          "execution_count": 9,
          "metadata": {},
          "output_type": "execute_result"
        }
      ],
      "source": [
        "min(1,2,3,4)"
      ]
    },
    {
      "cell_type": "code",
      "execution_count": null,
      "id": "a13871c2",
      "metadata": {
        "scrolled": true,
        "id": "a13871c2",
        "outputId": "7d1e6316-b7e8-4a51-83a6-25ecc88fdcca"
      },
      "outputs": [
        {
          "ename": "TypeError",
          "evalue": "sum() takes at most 2 arguments (4 given)",
          "output_type": "error",
          "traceback": [
            "\u001b[0;31m---------------------------------------------------------------------------\u001b[0m",
            "\u001b[0;31mTypeError\u001b[0m                                 Traceback (most recent call last)",
            "\u001b[0;32m<ipython-input-10-91d8ea3a7fc6>\u001b[0m in \u001b[0;36m<module>\u001b[0;34m\u001b[0m\n\u001b[0;32m----> 1\u001b[0;31m \u001b[0msum\u001b[0m\u001b[0;34m(\u001b[0m\u001b[0;36m1\u001b[0m\u001b[0;34m,\u001b[0m\u001b[0;36m2\u001b[0m\u001b[0;34m,\u001b[0m\u001b[0;36m3\u001b[0m\u001b[0;34m,\u001b[0m\u001b[0;36m4\u001b[0m\u001b[0;34m)\u001b[0m\u001b[0;34m\u001b[0m\u001b[0;34m\u001b[0m\u001b[0m\n\u001b[0m",
            "\u001b[0;31mTypeError\u001b[0m: sum() takes at most 2 arguments (4 given)"
          ]
        }
      ],
      "source": [
        "sum(1,2,3,4)"
      ]
    },
    {
      "cell_type": "code",
      "execution_count": null,
      "id": "8c4a525a",
      "metadata": {
        "id": "8c4a525a"
      },
      "outputs": [],
      "source": [
        "def ilk_fonksiyonum(x, y) :\n",
        "    print(x ** 2 + y ** 2)"
      ]
    },
    {
      "cell_type": "code",
      "execution_count": null,
      "id": "ce8fcf6d",
      "metadata": {
        "id": "ce8fcf6d",
        "outputId": "eb45884d-c910-4e76-b4b0-f53e1cb97ee0"
      },
      "outputs": [
        {
          "name": "stdout",
          "output_type": "stream",
          "text": [
            "25\n"
          ]
        }
      ],
      "source": [
        "ilk_fonksiyonum(3,4)"
      ]
    },
    {
      "cell_type": "code",
      "execution_count": null,
      "id": "0435af8b",
      "metadata": {
        "id": "0435af8b"
      },
      "outputs": [],
      "source": [
        "def hipotenus(a, b) :\n",
        "    print((a ** 2 + b ** 2) ** 0.5)"
      ]
    },
    {
      "cell_type": "code",
      "execution_count": null,
      "id": "e856baa6",
      "metadata": {
        "id": "e856baa6",
        "outputId": "648aeedc-c748-4cee-a173-4b63f05140b9"
      },
      "outputs": [
        {
          "name": "stdout",
          "output_type": "stream",
          "text": [
            "5.0\n"
          ]
        }
      ],
      "source": [
        "hipotenus(3, 4)"
      ]
    },
    {
      "cell_type": "code",
      "execution_count": null,
      "id": "9c88c54e",
      "metadata": {
        "id": "9c88c54e"
      },
      "outputs": [],
      "source": [
        "def rumi() :\n",
        "    print(\"\"\"\n",
        "    Duydum ki bizi bırakmaya azmediyorsun, etme.\n",
        "Başka bir yar, başka bir dosta meylediyorsun, etme.\n",
        "Sen yadeller dünyasında ne arıyorsun yabancı?\n",
        "Hangi hasta gönüllüyü kastediyorsun, etme.\n",
        "Çalma bizi, bizden bizi, gitme o ellere doğru.\n",
        "Çalınmış başkalarına nazar ediyorsun, etme.\n",
        "Ey ay, felek harab olmuş, altüst olmuş senin için...\n",
        "Bizi öyle harab, öyle altüst ediyorsun, etme.\n",
        "Ey, makamı var ve yokun üzerinde olan kişi,\n",
        "Sen varlık sahasını öyle terk ediyorsun, etme.\n",
        "Sen yüz çevirecek olsan, ay kapkara olur gamdan.\n",
        "    \"\"\")"
      ]
    },
    {
      "cell_type": "code",
      "execution_count": null,
      "id": "d65269b1",
      "metadata": {
        "id": "d65269b1",
        "outputId": "d60f5af8-fc9f-48a8-ea93-4528254cce2e"
      },
      "outputs": [
        {
          "name": "stdout",
          "output_type": "stream",
          "text": [
            "\n",
            "    Duydum ki bizi bırakmaya azmediyorsun, etme.\n",
            "Başka bir yar, başka bir dosta meylediyorsun, etme.\n",
            "Sen yadeller dünyasında ne arıyorsun yabancı?\n",
            "Hangi hasta gönüllüyü kastediyorsun, etme.\n",
            "Çalma bizi, bizden bizi, gitme o ellere doğru.\n",
            "Çalınmış başkalarına nazar ediyorsun, etme.\n",
            "Ey ay, felek harab olmuş, altüst olmuş senin için...\n",
            "Bizi öyle harab, öyle altüst ediyorsun, etme.\n",
            "Ey, makamı var ve yokun üzerinde olan kişi,\n",
            "Sen varlık sahasını öyle terk ediyorsun, etme.\n",
            "Sen yüz çevirecek olsan, ay kapkara olur gamdan.\n",
            "    \n"
          ]
        }
      ],
      "source": [
        "rumi()"
      ]
    },
    {
      "cell_type": "code",
      "execution_count": null,
      "id": "44df9410",
      "metadata": {
        "id": "44df9410"
      },
      "outputs": [],
      "source": [
        "def add(sayı1, sayı2) :\n",
        "    print(sayı1 + sayı2)"
      ]
    },
    {
      "cell_type": "code",
      "execution_count": null,
      "id": "23906b0a",
      "metadata": {
        "id": "23906b0a",
        "outputId": "9548d645-657c-45f2-db73-8c3cb143fb47"
      },
      "outputs": [
        {
          "name": "stdout",
          "output_type": "stream",
          "text": [
            "5\n"
          ]
        }
      ],
      "source": [
        "add(2, 3)"
      ]
    },
    {
      "cell_type": "code",
      "execution_count": null,
      "id": "9d8dbb6f",
      "metadata": {
        "id": "9d8dbb6f",
        "outputId": "ac7dfbf8-0b83-42ce-8e44-8d2c29306dd0"
      },
      "outputs": [
        {
          "name": "stdout",
          "output_type": "stream",
          "text": [
            "0\n"
          ]
        }
      ],
      "source": [
        "add(-5,5)"
      ]
    },
    {
      "cell_type": "code",
      "execution_count": null,
      "id": "6bb99c0c",
      "metadata": {
        "id": "6bb99c0c",
        "outputId": "2c1b0dfc-fde3-4bc4-bf2a-75c72b77d8a8"
      },
      "outputs": [
        {
          "name": "stdout",
          "output_type": "stream",
          "text": [
            "55\n"
          ]
        }
      ],
      "source": [
        "add(\"5\",\"5\")"
      ]
    },
    {
      "cell_type": "code",
      "execution_count": null,
      "id": "28197222",
      "metadata": {
        "id": "28197222"
      },
      "outputs": [],
      "source": [
        "def calculator(x, y, opr) :\n",
        "    if opr == \"+\" :\n",
        "        print(x + y)\n",
        "    elif opr == \"-\" :\n",
        "        print(x - y)\n",
        "    elif opr == \"*\" :\n",
        "        print(x * y)\n",
        "    elif opr == \"/\" :\n",
        "        print(x / y)\n",
        "    else :\n",
        "        print(\"Enter a valid operator\")"
      ]
    },
    {
      "cell_type": "code",
      "execution_count": null,
      "id": "118066a3",
      "metadata": {
        "id": "118066a3",
        "outputId": "15f46876-0cdf-4e67-df70-a0288d2fec74"
      },
      "outputs": [
        {
          "name": "stdout",
          "output_type": "stream",
          "text": [
            "2.0\n"
          ]
        }
      ],
      "source": [
        "calculator(22, 11, \"/\")"
      ]
    },
    {
      "cell_type": "code",
      "execution_count": null,
      "id": "0e23e6c0",
      "metadata": {
        "id": "0e23e6c0",
        "outputId": "2a87c1bf-a00d-420b-cf57-6618061f7d4b"
      },
      "outputs": [
        {
          "name": "stdout",
          "output_type": "stream",
          "text": [
            "Enter a valid operator\n"
          ]
        }
      ],
      "source": [
        "calculator(10, 5, \":\")"
      ]
    },
    {
      "cell_type": "code",
      "execution_count": null,
      "id": "fb1b5c74",
      "metadata": {
        "id": "fb1b5c74",
        "outputId": "aa570c91-30f5-4ed1-dbe6-eb0a72d4ceba"
      },
      "outputs": [
        {
          "data": {
            "text/plain": [
              "50"
            ]
          },
          "execution_count": 24,
          "metadata": {},
          "output_type": "execute_result"
        }
      ],
      "source": [
        "50"
      ]
    },
    {
      "cell_type": "code",
      "execution_count": null,
      "id": "844e615f",
      "metadata": {
        "id": "844e615f",
        "outputId": "89e6850b-d67f-4a21-bddc-1df694505dc5"
      },
      "outputs": [
        {
          "name": "stdout",
          "output_type": "stream",
          "text": [
            "50\n"
          ]
        }
      ],
      "source": [
        "print(50)"
      ]
    },
    {
      "cell_type": "code",
      "execution_count": null,
      "id": "af3c1b61",
      "metadata": {
        "id": "af3c1b61",
        "outputId": "65fa3ab4-3fbd-495b-ea3f-745f7f29e499"
      },
      "outputs": [
        {
          "data": {
            "text/plain": [
              "'string'"
            ]
          },
          "execution_count": 26,
          "metadata": {},
          "output_type": "execute_result"
        }
      ],
      "source": [
        "10\n",
        "\"string\""
      ]
    },
    {
      "cell_type": "code",
      "execution_count": null,
      "id": "f9b9ec52",
      "metadata": {
        "id": "f9b9ec52"
      },
      "outputs": [],
      "source": [
        "def topla(x, y) :\n",
        "    return x + y"
      ]
    },
    {
      "cell_type": "code",
      "execution_count": null,
      "id": "33307e24",
      "metadata": {
        "id": "33307e24",
        "outputId": "92f4eba7-4b9c-44c8-ce87-53d2102f1048"
      },
      "outputs": [
        {
          "data": {
            "text/plain": [
              "int"
            ]
          },
          "execution_count": 28,
          "metadata": {},
          "output_type": "execute_result"
        }
      ],
      "source": [
        "type(topla(3,5))"
      ]
    },
    {
      "cell_type": "code",
      "execution_count": null,
      "id": "0cb0f64e",
      "metadata": {
        "id": "0cb0f64e",
        "outputId": "73148503-ceeb-4d2c-f8de-777e92f02411"
      },
      "outputs": [
        {
          "data": {
            "text/plain": [
              "int"
            ]
          },
          "execution_count": 29,
          "metadata": {},
          "output_type": "execute_result"
        }
      ],
      "source": [
        "type(3 + 5)"
      ]
    },
    {
      "cell_type": "code",
      "execution_count": null,
      "id": "c44db495",
      "metadata": {
        "id": "c44db495"
      },
      "outputs": [],
      "source": [
        "def string() :\n",
        "    return \"alivelideli\""
      ]
    },
    {
      "cell_type": "code",
      "execution_count": null,
      "id": "7ac18f63",
      "metadata": {
        "id": "7ac18f63",
        "outputId": "2d22b342-1c0b-4e10-c1cf-3f4c8a823387"
      },
      "outputs": [
        {
          "data": {
            "text/plain": [
              "'alivelideli'"
            ]
          },
          "execution_count": 31,
          "metadata": {},
          "output_type": "execute_result"
        }
      ],
      "source": [
        "string()"
      ]
    },
    {
      "cell_type": "code",
      "execution_count": null,
      "id": "49da6637",
      "metadata": {
        "id": "49da6637",
        "outputId": "a305ca58-8ef1-4cc0-fade-6f74836d8b92"
      },
      "outputs": [
        {
          "data": {
            "text/plain": [
              "'alivelideli'"
            ]
          },
          "execution_count": 32,
          "metadata": {},
          "output_type": "execute_result"
        }
      ],
      "source": [
        "\"alivelideli\""
      ]
    },
    {
      "cell_type": "code",
      "execution_count": null,
      "id": "f923cb2f",
      "metadata": {
        "id": "f923cb2f"
      },
      "outputs": [],
      "source": [
        "def integer() :\n",
        "    return 22"
      ]
    },
    {
      "cell_type": "code",
      "execution_count": null,
      "id": "8ac0f4b5",
      "metadata": {
        "id": "8ac0f4b5",
        "outputId": "cd1d252e-9a82-4f27-f235-8144f5cf601d"
      },
      "outputs": [
        {
          "data": {
            "text/plain": [
              "22"
            ]
          },
          "execution_count": 34,
          "metadata": {},
          "output_type": "execute_result"
        }
      ],
      "source": [
        "integer()"
      ]
    },
    {
      "cell_type": "code",
      "execution_count": null,
      "id": "34d9fd5a",
      "metadata": {
        "id": "34d9fd5a",
        "outputId": "f124914f-b351-4c3a-fd70-0b211f75a378"
      },
      "outputs": [
        {
          "data": {
            "text/plain": [
              "22"
            ]
          },
          "execution_count": 35,
          "metadata": {},
          "output_type": "execute_result"
        }
      ],
      "source": [
        "22"
      ]
    },
    {
      "cell_type": "code",
      "execution_count": null,
      "id": "a6230d1b",
      "metadata": {
        "id": "a6230d1b",
        "outputId": "24987d99-fc98-400b-86c6-44312d2e25c9"
      },
      "outputs": [
        {
          "name": "stdout",
          "output_type": "stream",
          "text": [
            "22\n"
          ]
        }
      ],
      "source": [
        "print(integer())"
      ]
    },
    {
      "cell_type": "code",
      "execution_count": null,
      "id": "e352275e",
      "metadata": {
        "id": "e352275e"
      },
      "outputs": [],
      "source": [
        "def boolean() :\n",
        "    return True"
      ]
    },
    {
      "cell_type": "code",
      "execution_count": null,
      "id": "402c6f68",
      "metadata": {
        "id": "402c6f68",
        "outputId": "3122ab08-70eb-4646-94ac-303374120c3d"
      },
      "outputs": [
        {
          "name": "stdout",
          "output_type": "stream",
          "text": [
            "aaa çalıştım.\n"
          ]
        }
      ],
      "source": [
        "if boolean() :\n",
        "    print(\"aaa çalıştım.\")"
      ]
    },
    {
      "cell_type": "code",
      "execution_count": null,
      "id": "9b1752a7",
      "metadata": {
        "id": "9b1752a7"
      },
      "outputs": [],
      "source": [
        "def listem() :\n",
        "    return [1, 2, 3, 4, 5]"
      ]
    },
    {
      "cell_type": "code",
      "execution_count": null,
      "id": "0e2e64d4",
      "metadata": {
        "id": "0e2e64d4",
        "outputId": "37b83c3a-f2d2-4fde-b612-e80637091886"
      },
      "outputs": [
        {
          "data": {
            "text/plain": [
              "[1, 2, 3, 4, 5]"
            ]
          },
          "execution_count": 40,
          "metadata": {},
          "output_type": "execute_result"
        }
      ],
      "source": [
        "listem()"
      ]
    },
    {
      "cell_type": "code",
      "execution_count": null,
      "id": "966a26ad",
      "metadata": {
        "id": "966a26ad",
        "outputId": "eebbeb3f-70fa-49d1-c53e-18091fc95aab"
      },
      "outputs": [
        {
          "data": {
            "text/plain": [
              "list"
            ]
          },
          "execution_count": 41,
          "metadata": {},
          "output_type": "execute_result"
        }
      ],
      "source": [
        "type(listem())"
      ]
    },
    {
      "cell_type": "code",
      "execution_count": null,
      "id": "a7eea86b",
      "metadata": {
        "id": "a7eea86b",
        "outputId": "c7c215b5-1543-47a3-b513-a6401e892e98"
      },
      "outputs": [
        {
          "name": "stdout",
          "output_type": "stream",
          "text": [
            "1\n",
            "2\n",
            "3\n",
            "4\n",
            "5\n"
          ]
        }
      ],
      "source": [
        "for i in listem() :\n",
        "    print(i)"
      ]
    },
    {
      "cell_type": "code",
      "execution_count": null,
      "id": "ec24d64b",
      "metadata": {
        "id": "ec24d64b",
        "outputId": "73cdb499-cee4-4396-9872-1eb67cd2ab98"
      },
      "outputs": [
        {
          "data": {
            "text/plain": [
              "(1, 2, 3, 4, 5)"
            ]
          },
          "execution_count": 43,
          "metadata": {},
          "output_type": "execute_result"
        }
      ],
      "source": [
        "tuple([1, 2, 3, 4, 5])"
      ]
    },
    {
      "cell_type": "code",
      "execution_count": null,
      "id": "b8c441ef",
      "metadata": {
        "id": "b8c441ef",
        "outputId": "4ec77eac-464e-4368-8ea4-bdcfc3dd1d43"
      },
      "outputs": [
        {
          "data": {
            "text/plain": [
              "(1, 2, 3, 4, 5)"
            ]
          },
          "execution_count": 44,
          "metadata": {},
          "output_type": "execute_result"
        }
      ],
      "source": [
        "tuple(listem())"
      ]
    },
    {
      "cell_type": "code",
      "execution_count": null,
      "id": "c1235b24",
      "metadata": {
        "id": "c1235b24",
        "outputId": "767ba22b-172e-4607-eb83-ae5131e45fda"
      },
      "outputs": [
        {
          "data": {
            "text/plain": [
              "3"
            ]
          },
          "execution_count": 45,
          "metadata": {},
          "output_type": "execute_result"
        }
      ],
      "source": [
        "listem()[2]"
      ]
    },
    {
      "cell_type": "code",
      "execution_count": null,
      "id": "cd0204fa",
      "metadata": {
        "id": "cd0204fa"
      },
      "outputs": [],
      "source": [
        ""
      ]
    },
    {
      "cell_type": "code",
      "execution_count": null,
      "id": "bde32d47",
      "metadata": {
        "id": "bde32d47"
      },
      "outputs": [],
      "source": [
        "def calculator2(x, y, opr) :\n",
        "    if opr == \"+\" :\n",
        "        return (x + y)\n",
        "    elif opr == \"-\" :\n",
        "        return (x - y)\n",
        "    elif opr == \"*\" :\n",
        "        return (x * y)\n",
        "    elif opr == \"/\" :\n",
        "        return (x / y)\n",
        "    else :\n",
        "        return \"Enter a valid operator\""
      ]
    },
    {
      "cell_type": "code",
      "execution_count": null,
      "id": "f955bde9",
      "metadata": {
        "id": "f955bde9",
        "outputId": "586fde45-2f89-4663-df68-0bd497f5c9a5"
      },
      "outputs": [
        {
          "name": "stdout",
          "output_type": "stream",
          "text": [
            "15\n"
          ]
        }
      ],
      "source": [
        "print(calculator2(3, 5, \"*\"))"
      ]
    },
    {
      "cell_type": "code",
      "execution_count": null,
      "id": "6559f37f",
      "metadata": {
        "id": "6559f37f",
        "outputId": "eb7c1eb8-5318-4474-8681-b24dd378fa4a"
      },
      "outputs": [
        {
          "data": {
            "text/plain": [
              "22"
            ]
          },
          "execution_count": 50,
          "metadata": {},
          "output_type": "execute_result"
        }
      ],
      "source": [
        "a = -22\n",
        "-a"
      ]
    },
    {
      "cell_type": "code",
      "execution_count": null,
      "id": "df8b2e04",
      "metadata": {
        "id": "df8b2e04"
      },
      "outputs": [],
      "source": [
        "def absolute_value(num) :\n",
        "    \n",
        "    \"\"\"This function returns the absolute\n",
        "value of the given number\"\"\"\n",
        "    \n",
        "    if num >= 0 :\n",
        "        return num\n",
        "    else :\n",
        "        return -num"
      ]
    },
    {
      "cell_type": "code",
      "execution_count": null,
      "id": "ae9cfc7a",
      "metadata": {
        "id": "ae9cfc7a",
        "outputId": "3d14d5df-58a6-4da2-860d-da637a6b8551"
      },
      "outputs": [
        {
          "data": {
            "text/plain": [
              "22"
            ]
          },
          "execution_count": 52,
          "metadata": {},
          "output_type": "execute_result"
        }
      ],
      "source": [
        "absolute_value(-22)"
      ]
    },
    {
      "cell_type": "code",
      "execution_count": null,
      "id": "57e66225",
      "metadata": {
        "id": "57e66225",
        "outputId": "f739414c-000f-492f-d6ac-5bef3bb3a857"
      },
      "outputs": [
        {
          "name": "stdout",
          "output_type": "stream",
          "text": [
            "This function returns the absolute\n",
            "value of the given number\n"
          ]
        }
      ],
      "source": [
        "print(absolute_value.__doc__)"
      ]
    },
    {
      "cell_type": "code",
      "execution_count": null,
      "id": "b8b0e0df",
      "metadata": {
        "id": "b8b0e0df"
      },
      "outputs": [],
      "source": [
        "absolute_value()"
      ]
    },
    {
      "cell_type": "code",
      "execution_count": null,
      "id": "96812b19",
      "metadata": {
        "id": "96812b19",
        "outputId": "00eb6cbd-76bc-44c2-8b43-b00378b5f83b"
      },
      "outputs": [
        {
          "name": "stdout",
          "output_type": "stream",
          "text": [
            "Return the absolute value of the argument.\n"
          ]
        }
      ],
      "source": [
        "print(abs.__doc__)"
      ]
    },
    {
      "cell_type": "code",
      "execution_count": null,
      "id": "d4b65e93",
      "metadata": {
        "id": "d4b65e93"
      },
      "outputs": [],
      "source": [
        "yeni_listem = [i ** 2 for i in range(6)]"
      ]
    },
    {
      "cell_type": "code",
      "execution_count": null,
      "id": "c606dd88",
      "metadata": {
        "id": "c606dd88",
        "outputId": "72628b4f-9b6a-4a95-9219-d4fbfc712ba6"
      },
      "outputs": [
        {
          "data": {
            "text/plain": [
              "[0, 1, 4, 9, 16, 25]"
            ]
          },
          "execution_count": 56,
          "metadata": {},
          "output_type": "execute_result"
        }
      ],
      "source": [
        "yeni_listem"
      ]
    },
    {
      "cell_type": "code",
      "execution_count": null,
      "id": "18d44df0",
      "metadata": {
        "id": "18d44df0"
      },
      "outputs": [],
      "source": [
        "generator = (i ** 2 for i in range(6))"
      ]
    },
    {
      "cell_type": "code",
      "execution_count": null,
      "id": "0b95b474",
      "metadata": {
        "id": "0b95b474",
        "outputId": "9296df92-82c0-43a5-821c-024862792796"
      },
      "outputs": [
        {
          "data": {
            "text/plain": [
              "<generator object <genexpr> at 0x7fe869d4b190>"
            ]
          },
          "execution_count": 58,
          "metadata": {},
          "output_type": "execute_result"
        }
      ],
      "source": [
        "generator"
      ]
    },
    {
      "cell_type": "code",
      "execution_count": null,
      "id": "be8f65aa",
      "metadata": {
        "id": "be8f65aa",
        "outputId": "5a389cc4-d8e5-44f8-c26a-743298bbca64"
      },
      "outputs": [
        {
          "name": "stdout",
          "output_type": "stream",
          "text": [
            "0 1 4 9 16 25\n"
          ]
        }
      ],
      "source": [
        "print(* generator)"
      ]
    },
    {
      "cell_type": "code",
      "execution_count": null,
      "id": "05f0eb1f",
      "metadata": {
        "id": "05f0eb1f"
      },
      "outputs": [],
      "source": [
        "for i in generator :\n",
        "    print(i)"
      ]
    },
    {
      "cell_type": "code",
      "execution_count": null,
      "id": "5aba58f0",
      "metadata": {
        "id": "5aba58f0"
      },
      "outputs": [],
      "source": [
        "generator = (i ** 2 for i in range(6))"
      ]
    },
    {
      "cell_type": "code",
      "execution_count": null,
      "id": "ffe99cc6",
      "metadata": {
        "id": "ffe99cc6",
        "outputId": "09d3ff01-daf6-4b9c-d94a-93018603435e"
      },
      "outputs": [
        {
          "data": {
            "text/plain": [
              "[0, 1, 4, 9, 16, 25]"
            ]
          },
          "execution_count": 62,
          "metadata": {},
          "output_type": "execute_result"
        }
      ],
      "source": [
        "list(generator)"
      ]
    },
    {
      "cell_type": "code",
      "execution_count": null,
      "id": "682912cd",
      "metadata": {
        "id": "682912cd"
      },
      "outputs": [],
      "source": [
        "generator = (i ** 2 for i in range(6))"
      ]
    },
    {
      "cell_type": "code",
      "execution_count": null,
      "id": "c7562b8c",
      "metadata": {
        "id": "c7562b8c",
        "outputId": "b361d9a9-2a35-4fca-efe1-c11986b00259"
      },
      "outputs": [
        {
          "name": "stdout",
          "output_type": "stream",
          "text": [
            "0\n"
          ]
        }
      ],
      "source": [
        "print(next(generator))"
      ]
    },
    {
      "cell_type": "code",
      "execution_count": null,
      "id": "93212236",
      "metadata": {
        "id": "93212236",
        "outputId": "f2b336c5-bf54-459a-e90f-879447b6af9d"
      },
      "outputs": [
        {
          "name": "stdout",
          "output_type": "stream",
          "text": [
            "1\n"
          ]
        }
      ],
      "source": [
        "print(next(generator))"
      ]
    },
    {
      "cell_type": "code",
      "execution_count": null,
      "id": "0a2878f5",
      "metadata": {
        "id": "0a2878f5",
        "outputId": "f4de9543-8bdd-4c58-b5db-7999b5a24219"
      },
      "outputs": [
        {
          "name": "stdout",
          "output_type": "stream",
          "text": [
            "4\n"
          ]
        }
      ],
      "source": [
        "print(next(generator))"
      ]
    },
    {
      "cell_type": "code",
      "execution_count": null,
      "id": "0701a2f4",
      "metadata": {
        "id": "0701a2f4",
        "outputId": "feb45cf8-db0c-402e-c0e5-3fc7cc3f89a7"
      },
      "outputs": [
        {
          "name": "stdout",
          "output_type": "stream",
          "text": [
            "9\n"
          ]
        }
      ],
      "source": [
        "print(next(generator))"
      ]
    },
    {
      "cell_type": "code",
      "execution_count": null,
      "id": "4ff0103e",
      "metadata": {
        "id": "4ff0103e",
        "outputId": "120db6d3-b9c9-4695-d1d6-d25c77c800b3"
      },
      "outputs": [
        {
          "name": "stdout",
          "output_type": "stream",
          "text": [
            "16\n"
          ]
        }
      ],
      "source": [
        "print(next(generator))"
      ]
    },
    {
      "cell_type": "code",
      "execution_count": null,
      "id": "716b24a9",
      "metadata": {
        "id": "716b24a9",
        "outputId": "96126d86-c73d-4dce-d51d-7fcb341c0e59"
      },
      "outputs": [
        {
          "name": "stdout",
          "output_type": "stream",
          "text": [
            "25\n"
          ]
        }
      ],
      "source": [
        "print(next(generator))"
      ]
    },
    {
      "cell_type": "code",
      "execution_count": null,
      "id": "8aaccc56",
      "metadata": {
        "id": "8aaccc56",
        "outputId": "61be5775-e18a-44ef-edce-73f8f69cda95"
      },
      "outputs": [
        {
          "ename": "StopIteration",
          "evalue": "",
          "output_type": "error",
          "traceback": [
            "\u001b[0;31m---------------------------------------------------------------------------\u001b[0m",
            "\u001b[0;31mStopIteration\u001b[0m                             Traceback (most recent call last)",
            "\u001b[0;32m<ipython-input-70-19919da3e769>\u001b[0m in \u001b[0;36m<module>\u001b[0;34m\u001b[0m\n\u001b[0;32m----> 1\u001b[0;31m \u001b[0mprint\u001b[0m\u001b[0;34m(\u001b[0m\u001b[0mnext\u001b[0m\u001b[0;34m(\u001b[0m\u001b[0mgenerator\u001b[0m\u001b[0;34m)\u001b[0m\u001b[0;34m)\u001b[0m\u001b[0;34m\u001b[0m\u001b[0;34m\u001b[0m\u001b[0m\n\u001b[0m",
            "\u001b[0;31mStopIteration\u001b[0m: "
          ]
        }
      ],
      "source": [
        "print(next(generator))"
      ]
    },
    {
      "cell_type": "code",
      "execution_count": null,
      "id": "091c4705",
      "metadata": {
        "id": "091c4705"
      },
      "outputs": [],
      "source": [
        "generator = (i ** 2 for i in range(6))"
      ]
    },
    {
      "cell_type": "code",
      "execution_count": null,
      "id": "cb506dc7",
      "metadata": {
        "id": "cb506dc7",
        "outputId": "eee4d72e-daf4-4c5a-bdff-02b11260ecf6"
      },
      "outputs": [
        {
          "name": "stdout",
          "output_type": "stream",
          "text": [
            "0\n"
          ]
        }
      ],
      "source": [
        "print(next(generator))"
      ]
    },
    {
      "cell_type": "code",
      "execution_count": null,
      "id": "30a69b19",
      "metadata": {
        "id": "30a69b19",
        "outputId": "ef07945b-172b-4df3-ed9a-34206e5a6331"
      },
      "outputs": [
        {
          "name": "stdout",
          "output_type": "stream",
          "text": [
            "1\n"
          ]
        }
      ],
      "source": [
        "print(next(generator))"
      ]
    },
    {
      "cell_type": "code",
      "execution_count": null,
      "id": "71bd08a8",
      "metadata": {
        "id": "71bd08a8",
        "outputId": "33c84e86-1eda-423c-b934-a62b6b72fa1c"
      },
      "outputs": [
        {
          "name": "stdout",
          "output_type": "stream",
          "text": [
            "4\n"
          ]
        }
      ],
      "source": [
        "print(next(generator))"
      ]
    },
    {
      "cell_type": "code",
      "execution_count": null,
      "id": "35f00dca",
      "metadata": {
        "id": "35f00dca",
        "outputId": "9eda69a9-52be-48c1-e411-2d239507671a"
      },
      "outputs": [
        {
          "name": "stdout",
          "output_type": "stream",
          "text": [
            "9 16 25\n"
          ]
        }
      ],
      "source": [
        "print(* generator)"
      ]
    },
    {
      "cell_type": "code",
      "execution_count": null,
      "id": "46a845ea",
      "metadata": {
        "id": "46a845ea"
      },
      "outputs": [],
      "source": [
        "next()"
      ]
    }
  ],
  "metadata": {
    "kernelspec": {
      "display_name": "Python 3",
      "language": "python",
      "name": "python3"
    },
    "language_info": {
      "codemirror_mode": {
        "name": "ipython",
        "version": 3
      },
      "file_extension": ".py",
      "mimetype": "text/x-python",
      "name": "python",
      "nbconvert_exporter": "python",
      "pygments_lexer": "ipython3",
      "version": "3.8.8"
    },
    "colab": {
      "name": "15_PythonBasic_17-November-2021.ipynb",
      "provenance": [],
      "include_colab_link": true
    }
  },
  "nbformat": 4,
  "nbformat_minor": 5
}