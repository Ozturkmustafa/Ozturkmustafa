{
  "nbformat": 4,
  "nbformat_minor": 0,
  "metadata": {
    "colab": {
      "name": "letter_dictionary.ipynb",
      "provenance": [],
      "authorship_tag": "ABX9TyMwRubRAs7bmGAta2pF4VkI",
      "include_colab_link": true
    },
    "kernelspec": {
      "name": "python3",
      "display_name": "Python 3"
    },
    "language_info": {
      "name": "python"
    }
  },
  "cells": [
    {
      "cell_type": "markdown",
      "metadata": {
        "id": "view-in-github",
        "colab_type": "text"
      },
      "source": [
        "<a href=\"https://colab.research.google.com/github/Ozturkmustafa/Ozturkmustafa/blob/main/letter_dictionary.ipynb\" target=\"_parent\"><img src=\"https://colab.research.google.com/assets/colab-badge.svg\" alt=\"Open In Colab\"/></a>"
      ]
    },
    {
      "cell_type": "code",
      "execution_count": 1,
      "metadata": {
        "id": "CdS6bgAiKQ4l",
        "colab": {
          "base_uri": "https://localhost:8080/"
        },
        "outputId": "2d230c7d-6366-462a-ad4d-712266fe612e"
      },
      "outputs": [
        {
          "output_type": "stream",
          "name": "stdout",
          "text": [
            "31\n"
          ]
        }
      ],
      "source": [
        "dictionary = {'s': 2, 'r': 1, 't': 1, 'h': 1, 'n': 1, \n",
        "'i': 1, 'u': 2, 'o': 2, 'p': 2, ' ': 3, '!': 1}\n",
        "def letter(text):\n",
        "  a = 0\n",
        "  for i in text :\n",
        "    a += dictionary[i]\n",
        "\n",
        "  return a\n",
        "\n",
        "print(letter(\"hippo runs to us!\"))  "
      ]
    }
  ]
}