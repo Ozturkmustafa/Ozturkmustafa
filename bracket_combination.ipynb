{
  "nbformat": 4,
  "nbformat_minor": 0,
  "metadata": {
    "colab": {
      "name": "bracket-combination.ipynb",
      "provenance": [],
      "authorship_tag": "ABX9TyOyjOMp06ttz5bFlG8JHJhn",
      "include_colab_link": true
    },
    "kernelspec": {
      "name": "python3",
      "display_name": "Python 3"
    },
    "language_info": {
      "name": "python"
    }
  },
  "cells": [
    {
      "cell_type": "markdown",
      "metadata": {
        "id": "view-in-github",
        "colab_type": "text"
      },
      "source": [
        "<a href=\"https://colab.research.google.com/github/Ozturkmustafa/Ozturkmustafa/blob/main/bracket_combination.ipynb\" target=\"_parent\"><img src=\"https://colab.research.google.com/assets/colab-badge.svg\" alt=\"Open In Colab\"/></a>"
      ]
    },
    {
      "cell_type": "code",
      "execution_count": 1,
      "metadata": {
        "colab": {
          "base_uri": "https://localhost:8080/"
        },
        "id": "55y-7YqGqcdr",
        "outputId": "5a87741f-9d36-40e5-9abe-47b9c0132c79"
      },
      "outputs": [
        {
          "output_type": "stream",
          "name": "stdout",
          "text": [
            "Write a string that contains only `(`, `)`, `{`, `}`, `[` and `]`: {}\n",
            "True\n"
          ]
        }
      ],
      "source": [
        "def isValid(s):\n",
        "  bracket_map = {\"(\": \")\", \"[\": \"]\",  \"{\": \"}\"}\n",
        "  open_par = set([\"(\", \"[\", \"{\"])\n",
        "  stack = []\n",
        "  for i in s:\n",
        "    if i in open_par:\n",
        "        stack.append(i)\n",
        "    elif stack and i == bracket_map[stack[-1]]:\n",
        "        stack.pop()\n",
        "    else:\n",
        "        return False\n",
        "  return stack == []\n",
        "\n",
        "combination = input('Write a string that contains only `(`, `)`, `{`, `}`, `[` and `]`: ')\n",
        "print(isValid(combination))\n"
      ]
    }
  ]
}