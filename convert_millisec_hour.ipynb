{
  "nbformat": 4,
  "nbformat_minor": 0,
  "metadata": {
    "colab": {
      "name": "convert-millisec-hour.ipynb",
      "provenance": [],
      "collapsed_sections": [],
      "authorship_tag": "ABX9TyPoyGA82SymnwW9+DkmQFD+",
      "include_colab_link": true
    },
    "kernelspec": {
      "name": "python3",
      "display_name": "Python 3"
    },
    "language_info": {
      "name": "python"
    }
  },
  "cells": [
    {
      "cell_type": "markdown",
      "metadata": {
        "id": "view-in-github",
        "colab_type": "text"
      },
      "source": [
        "<a href=\"https://colab.research.google.com/github/Ozturkmustafa/Ozturkmustafa/blob/main/convert_millisec_hour.ipynb\" target=\"_parent\"><img src=\"https://colab.research.google.com/assets/colab-badge.svg\" alt=\"Open In Colab\"/></a>"
      ]
    },
    {
      "cell_type": "code",
      "execution_count": null,
      "metadata": {
        "id": "zu0wa9k4_sWI"
      },
      "outputs": [],
      "source": [
        "def convert_sec(num):\n",
        "    hours = num // 3600000\n",
        "    minutes = (num % 3600000) // 60000\n",
        "    second = (num % 60000) // 1000\n",
        "    millisec = num % 1000\n",
        "    return f'{hours} hour/s'*(hours != 0) + f' {minutes} minute/s'*(minutes != 0) + f' {second} second/s' *(second != 0) or f'just {millisec} millisecond/s' * (millisec < 1000)\n",
        "\n",
        "convert_sec(7322011)"
      ]
    },
    {
      "cell_type": "code",
      "source": [
        "num = 234566\n",
        "hours = num // 3600000\n",
        "minutes = (num % 3600000) // 60000\n",
        "second = (num % 60000) // 1000\n",
        "millisec = num % 1000\n",
        "\n",
        "# if hours == 0 or minutes == 0 or second == 0  :\n",
        "#         hours, minutes, second = \" \"\n",
        "# if num // 3600000 > 0 or (num % 3600000) // 60000 > 0 or (num % 60000) // 1000 > 0 :\n",
        "#         millisec = \"\"\n",
        "    \n",
        "print(f'{hours} hour/s'*(hours != 0) + f' {minutes} minute/s'*(minutes != 0) + f' {second} second/s' *(second != 0) or f'just {millisec} millisecond/s' * (millisec < 1000))"
      ],
      "metadata": {
        "id": "OCYYg4qz_05X"
      },
      "execution_count": null,
      "outputs": []
    },
    {
      "cell_type": "code",
      "source": [
        "def convert_sec(num):\n",
        "    hours = num // 3600000\n",
        "    minutes = (num % 3600000) // 60000\n",
        "    second = (num % 60000) // 1000\n",
        "    millisec = num % 1000\n",
        "    return f'{hours} hour/s'*(hours != 0) + f' {minutes} minute/s'*(minutes != 0) + f' {second} second/s' *(second != 0) or f'just {millisec} millisecond/s' * (millisec < 1000)\n",
        "\n",
        "\n",
        "is_invalid = False\n",
        "\n",
        "while True:\n",
        "   \n",
        "    info = \"\"\"\n",
        "###  This program converts milliseconds to hours, minutes, seconds ###\n",
        "(To exit the program, please type \"exit\")\n",
        "Please enter a decimal number greater then zero, inclusively : \"\"\"\n",
        "    \n",
        "    millisec = input('\\nNot Valid Input !!!\\n'*is_invalid + info).strip()\n",
        "    # if the input is not decimal number\n",
        "    if not millisec.isdecimal():\n",
        "        # then check, if it is the \"exit\" keyword\n",
        "        if millisec.lower() == 'exit':\n",
        "            print('\\nExiting the program... Good Bye')\n",
        "            break\n",
        "        \n",
        "        else:\n",
        "            is_invalid = True\n",
        "            continue\n",
        "   \n",
        "    number = int(millisec)\n",
        "    # if the number is between 1 and 3999, inclusively\n",
        "    if  number > 0:\n",
        "        print(\n",
        "            f'\\nMilisecond  of \"{number}\" is equal to {convert_sec(number)}')\n",
        "        # and set invalid flag to the False, it might be set the True in previous cycle\n",
        "        is_invalid = False\n",
        "    # if the number is out of bounds\n",
        "    else:\n",
        "        # then set to invalid flag to True to show warning\n",
        "        is_invalid = True\n"
      ],
      "metadata": {
        "id": "Xg0SPrcU_1G0"
      },
      "execution_count": null,
      "outputs": []
    },
    {
      "cell_type": "code",
      "source": [
        ""
      ],
      "metadata": {
        "id": "4AKKPIru_1Jl"
      },
      "execution_count": null,
      "outputs": []
    }
  ]
}