{
  "nbformat": 4,
  "nbformat_minor": 0,
  "metadata": {
    "colab": {
      "name": "covid-19.ipynb",
      "provenance": [],
      "authorship_tag": "ABX9TyNaFxYhIrjB7b8hzpjKkhnk",
      "include_colab_link": true
    },
    "kernelspec": {
      "name": "python3",
      "display_name": "Python 3"
    },
    "language_info": {
      "name": "python"
    }
  },
  "cells": [
    {
      "cell_type": "markdown",
      "metadata": {
        "id": "view-in-github",
        "colab_type": "text"
      },
      "source": [
        "<a href=\"https://colab.research.google.com/github/Ozturkmustafa/Ozturkmustafa/blob/main/covid_19.ipynb\" target=\"_parent\"><img src=\"https://colab.research.google.com/assets/colab-badge.svg\" alt=\"Open In Colab\"/></a>"
      ]
    },
    {
      "cell_type": "code",
      "metadata": {
        "colab": {
          "base_uri": "https://localhost:8080/"
        },
        "id": "4a4fky-_duQC",
        "outputId": "1b5788ca-f82a-4c9c-e5bc-5430f53707aa"
      },
      "source": [
        "age = input(\"Are you a cigarette addict older than 75 years old?(# Yes or No) : \")\n",
        "cronic = input(\"Do you have a severe chronic disease?(# Yes or No) : \")\n",
        "immune = input(\"Is your immune system too weak?(# Yes or No) : \")\n",
        "\n",
        "if (age.capitalize() or cronic.capitalize() or immune.capitalize()) == \"Yes\" :\n",
        "  print(\"You are in risky group\")\n",
        "else:\n",
        "  print(\"You aren't in risky group\")\n"
      ],
      "execution_count": 2,
      "outputs": [
        {
          "output_type": "stream",
          "name": "stdout",
          "text": [
            "Are you a cigarette addict older than 75 years old?(# Yes or No) : yes\n",
            "Do you have a severe chronic disease?(# Yes or No) : no\n",
            "Is your immune system too weak?(# Yes or No) : yes\n",
            "You are in risky group\n"
          ]
        }
      ]
    },
    {
      "cell_type": "code",
      "metadata": {
        "id": "7Maamuu6dvaq"
      },
      "source": [
        ""
      ],
      "execution_count": null,
      "outputs": []
    },
    {
      "cell_type": "code",
      "metadata": {
        "id": "W1NKST49dvii"
      },
      "source": [
        ""
      ],
      "execution_count": null,
      "outputs": []
    },
    {
      "cell_type": "code",
      "metadata": {
        "id": "zJRlbPkndvog"
      },
      "source": [
        ""
      ],
      "execution_count": null,
      "outputs": []
    },
    {
      "cell_type": "code",
      "metadata": {
        "id": "kdWjqh5HdvuJ"
      },
      "source": [
        ""
      ],
      "execution_count": null,
      "outputs": []
    }
  ]
}