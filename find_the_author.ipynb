{
  "nbformat": 4,
  "nbformat_minor": 0,
  "metadata": {
    "colab": {
      "name": "find-the-author.ipynb",
      "provenance": [],
      "authorship_tag": "ABX9TyO4Fy7j248omtR0N/ILx39X",
      "include_colab_link": true
    },
    "kernelspec": {
      "name": "python3",
      "display_name": "Python 3"
    },
    "language_info": {
      "name": "python"
    }
  },
  "cells": [
    {
      "cell_type": "markdown",
      "metadata": {
        "id": "view-in-github",
        "colab_type": "text"
      },
      "source": [
        "<a href=\"https://colab.research.google.com/github/Ozturkmustafa/Ozturkmustafa/blob/main/find_the_author.ipynb\" target=\"_parent\"><img src=\"https://colab.research.google.com/assets/colab-badge.svg\" alt=\"Open In Colab\"/></a>"
      ]
    },
    {
      "cell_type": "code",
      "execution_count": 1,
      "metadata": {
        "colab": {
          "base_uri": "https://localhost:8080/",
          "height": 380
        },
        "id": "WAg3xjz5ZVkF",
        "outputId": "4b3c9191-3b18-4077-864a-6355330038e9"
      },
      "outputs": [
        {
          "output_type": "error",
          "ename": "FileNotFoundError",
          "evalue": "ignored",
          "traceback": [
            "\u001b[0;31m---------------------------------------------------------------------------\u001b[0m",
            "\u001b[0;31mFileNotFoundError\u001b[0m                         Traceback (most recent call last)",
            "\u001b[0;32m<ipython-input-1-5f96fdbfbb95>\u001b[0m in \u001b[0;36m<module>\u001b[0;34m()\u001b[0m\n\u001b[1;32m     35\u001b[0m \u001b[0;34m\u001b[0m\u001b[0m\n\u001b[1;32m     36\u001b[0m \u001b[0;31m# MAIN\u001b[0m\u001b[0;34m\u001b[0m\u001b[0;34m\u001b[0m\u001b[0;34m\u001b[0m\u001b[0m\n\u001b[0;32m---> 37\u001b[0;31m \u001b[0mtext1\u001b[0m \u001b[0;34m=\u001b[0m \u001b[0mreadFileToStr\u001b[0m\u001b[0;34m(\u001b[0m\u001b[0;34m\"text1\"\u001b[0m\u001b[0;34m)\u001b[0m\u001b[0;34m\u001b[0m\u001b[0;34m\u001b[0m\u001b[0m\n\u001b[0m\u001b[1;32m     38\u001b[0m \u001b[0mtext2\u001b[0m \u001b[0;34m=\u001b[0m \u001b[0mreadFileToStr\u001b[0m\u001b[0;34m(\u001b[0m\u001b[0;34m\"text2\"\u001b[0m\u001b[0;34m)\u001b[0m\u001b[0;34m\u001b[0m\u001b[0;34m\u001b[0m\u001b[0m\n\u001b[1;32m     39\u001b[0m \u001b[0;34m\u001b[0m\u001b[0m\n",
            "\u001b[0;32m<ipython-input-1-5f96fdbfbb95>\u001b[0m in \u001b[0;36mreadFileToStr\u001b[0;34m(filename)\u001b[0m\n\u001b[1;32m      1\u001b[0m \u001b[0;32mdef\u001b[0m \u001b[0mreadFileToStr\u001b[0m\u001b[0;34m(\u001b[0m\u001b[0mfilename\u001b[0m\u001b[0;34m)\u001b[0m\u001b[0;34m:\u001b[0m\u001b[0;34m\u001b[0m\u001b[0;34m\u001b[0m\u001b[0m\n\u001b[0;32m----> 2\u001b[0;31m   \u001b[0mmyFile\u001b[0m \u001b[0;34m=\u001b[0m \u001b[0mopen\u001b[0m\u001b[0;34m(\u001b[0m\u001b[0mfilename\u001b[0m\u001b[0;34m+\u001b[0m\u001b[0;34m\".txt\"\u001b[0m\u001b[0;34m,\u001b[0m \u001b[0;34m\"r\"\u001b[0m\u001b[0;34m)\u001b[0m\u001b[0;34m\u001b[0m\u001b[0;34m\u001b[0m\u001b[0m\n\u001b[0m\u001b[1;32m      3\u001b[0m   \u001b[0mprint\u001b[0m\u001b[0;34m(\u001b[0m\u001b[0mfilename\u001b[0m\u001b[0;34m+\u001b[0m\u001b[0;34m\".txt is opened\"\u001b[0m\u001b[0;34m)\u001b[0m\u001b[0;34m\u001b[0m\u001b[0;34m\u001b[0m\u001b[0m\n\u001b[1;32m      4\u001b[0m   \u001b[0mfileStr\u001b[0m \u001b[0;34m=\u001b[0m \u001b[0mmyFile\u001b[0m\u001b[0;34m.\u001b[0m\u001b[0mread\u001b[0m\u001b[0;34m(\u001b[0m\u001b[0;34m)\u001b[0m\u001b[0;34m\u001b[0m\u001b[0;34m\u001b[0m\u001b[0m\n\u001b[1;32m      5\u001b[0m   \u001b[0mmyFile\u001b[0m\u001b[0;34m.\u001b[0m\u001b[0mclose\u001b[0m\u001b[0;34m(\u001b[0m\u001b[0;34m)\u001b[0m\u001b[0;34m\u001b[0m\u001b[0;34m\u001b[0m\u001b[0m\n",
            "\u001b[0;31mFileNotFoundError\u001b[0m: [Errno 2] No such file or directory: 'text1.txt'"
          ]
        }
      ],
      "source": [
        "def readFileToStr(filename):\n",
        "  myFile = open(filename+\".txt\", \"r\")\n",
        "  print(filename+\".txt is opened\")\n",
        "  fileStr = myFile.read()\n",
        "  myFile.close()\n",
        "  print(filename+\".txt is closed\")\n",
        "  return fileStr\n",
        "\n",
        "def findEndSentIndex(myStr):\n",
        "  endings = [\"...\", \".\", \":\", \"!\", \"?\"]\n",
        "  idxFirstPunc = 10000 # some arbitrarily large number   \n",
        "  for item in endings:\n",
        "    if item in myStr:\n",
        "      idx = myStr.index(item)\n",
        "      if idx < idxFirstPunc:\n",
        "        idxFirstPunc = idx\n",
        "  return idxFirstPunc\n",
        "    \n",
        "def avrSentLen(myStr):\n",
        "  lenSent = 0 # number of words in a sentence\n",
        "  numSent = 0 # total number of sentences\n",
        "\n",
        "  while len(myStr) > 0:\n",
        "    endIndex = findEndSentIndex(myStr)   # find the end of the first sentence\n",
        "    sent = myStr[:endIndex]             # retrieve the first sentence\n",
        "    words = sent.split(\" \")             # split the sentence into words\n",
        "    lenSent += len(words)               # update the number of words\n",
        "    numSent += 1                        # increment the number of  sentences\n",
        "    myStr = myStr[endIndex+1:]          # discard the considered sentence\n",
        "    if myStr[0:2] == \"..\":              # if the punc mark was \"...\"\n",
        "      myStr = myStr[2:]                 # discard the remaining \"..\" in the beginning\n",
        "      \n",
        "  avrSentLen = lenSent / numSent        # calculate the average word lenght\n",
        "  return avrSentLen \n",
        "\n",
        "# MAIN\n",
        "text1 = readFileToStr(\"text1\")\n",
        "text2 = readFileToStr(\"text2\")\n",
        "\n",
        "avrSentLen1 = avrSentLen(text1)\n",
        "avrSentLen2 = avrSentLen(text2)\n",
        "\n",
        "print(avrSentLen1, avrSentLen2)\n",
        "\n",
        "if avrSentLen1 > avrSentLen2:\n",
        "  firstText = \"Charles Dickens\"\n",
        "  secondText = \"Hemingway\"\n",
        "else:\n",
        "  firstText = \"Hemingway\"\n",
        "  secondText = \"Charles Dickens\"\n",
        "\n",
        "print(\"The first text belongs to \", firstText,\" and the second one belongs to \", secondText, \".\")\n"
      ]
    },
    {
      "cell_type": "code",
      "source": [
        ""
      ],
      "metadata": {
        "id": "vcQpWXyobObI"
      },
      "execution_count": null,
      "outputs": []
    }
  ]
}