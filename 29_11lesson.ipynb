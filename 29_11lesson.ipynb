{
  "nbformat": 4,
  "nbformat_minor": 0,
  "metadata": {
    "colab": {
      "name": "29_11lesson.ipynb",
      "provenance": [],
      "authorship_tag": "ABX9TyMuextXNoU6HZKpTr6BjCpc",
      "include_colab_link": true
    },
    "kernelspec": {
      "name": "python3",
      "display_name": "Python 3"
    },
    "language_info": {
      "name": "python"
    }
  },
  "cells": [
    {
      "cell_type": "markdown",
      "metadata": {
        "id": "view-in-github",
        "colab_type": "text"
      },
      "source": [
        "<a href=\"https://colab.research.google.com/github/Ozturkmustafa/Ozturkmustafa/blob/main/29_11lesson.ipynb\" target=\"_parent\"><img src=\"https://colab.research.google.com/assets/colab-badge.svg\" alt=\"Open In Colab\"/></a>"
      ]
    },
    {
      "cell_type": "code",
      "metadata": {
        "colab": {
          "base_uri": "https://localhost:8080/"
        },
        "id": "1gil2UPGdLPK",
        "outputId": "98ee5245-e70e-43a2-865e-1aef1d85ca1f"
      },
      "source": [
        "\n",
        "a = (lambda x : x[::-1])(\"ali\")\n",
        "print(a)"
      ],
      "execution_count": null,
      "outputs": [
        {
          "output_type": "stream",
          "name": "stdout",
          "text": [
            "ila\n"
          ]
        }
      ]
    },
    {
      "cell_type": "code",
      "metadata": {
        "colab": {
          "base_uri": "https://localhost:8080/"
        },
        "id": "9wfhwL5ZdL05",
        "outputId": "b5da747b-ec8a-43e7-fbd7-ddbe45d0650b"
      },
      "source": [
        "(lambda x,y : (x+y)/2)(2,6)"
      ],
      "execution_count": null,
      "outputs": [
        {
          "output_type": "execute_result",
          "data": {
            "text/plain": [
              "4.0"
            ]
          },
          "metadata": {},
          "execution_count": 9
        }
      ]
    },
    {
      "cell_type": "code",
      "metadata": {
        "colab": {
          "base_uri": "https://localhost:8080/"
        },
        "id": "Ojl65ka0dL4u",
        "outputId": "f5c8bd53-ddca-4656-81d8-7e9c7791d83f"
      },
      "source": [
        "liste = [1, 2, 3, 4, 5, 6]\n",
        "for i in liste :\n",
        "  print(i, \":\",(lambda x : \"odd\" if x % 2 != 0 else \"even\")(i))"
      ],
      "execution_count": null,
      "outputs": [
        {
          "output_type": "stream",
          "name": "stdout",
          "text": [
            "1 : odd\n",
            "2 : even\n",
            "3 : odd\n",
            "4 : even\n",
            "5 : odd\n",
            "6 : even\n"
          ]
        }
      ]
    },
    {
      "cell_type": "code",
      "metadata": {
        "id": "jm_4fGhwdL8o"
      },
      "source": [
        "finder = lambda x : \"odd\" if x % 2 != 0 else \"even\""
      ],
      "execution_count": null,
      "outputs": []
    },
    {
      "cell_type": "code",
      "metadata": {
        "colab": {
          "base_uri": "https://localhost:8080/",
          "height": 36
        },
        "id": "-4b5QVjkdL_g",
        "outputId": "6e30001e-3eca-4cb2-b77b-194445b918d6"
      },
      "source": [
        "finder(7)"
      ],
      "execution_count": null,
      "outputs": [
        {
          "output_type": "execute_result",
          "data": {
            "application/vnd.google.colaboratory.intrinsic+json": {
              "type": "string"
            },
            "text/plain": [
              "'odd'"
            ]
          },
          "metadata": {},
          "execution_count": 21
        }
      ]
    },
    {
      "cell_type": "code",
      "metadata": {
        "id": "wyXU_zosabKj"
      },
      "source": [
        "reverser = lambda x : x[::-1]"
      ],
      "execution_count": null,
      "outputs": []
    },
    {
      "cell_type": "code",
      "metadata": {
        "colab": {
          "base_uri": "https://localhost:8080/"
        },
        "id": "ItUlg1mBajHH",
        "outputId": "cd4cb2b6-4d7e-4c8f-f746-69b4969684a1"
      },
      "source": [
        "reverser([1, 2, 3, 4])"
      ],
      "execution_count": null,
      "outputs": [
        {
          "output_type": "execute_result",
          "data": {
            "text/plain": [
              "[4, 3, 2, 1]"
            ]
          },
          "metadata": {},
          "execution_count": 23
        }
      ]
    },
    {
      "cell_type": "code",
      "metadata": {
        "colab": {
          "base_uri": "https://localhost:8080/"
        },
        "id": "tmFRiEzqajMo",
        "outputId": "cf6f3d31-428f-49cb-8138-91b62abc2af2"
      },
      "source": [
        "sonuç = map(lambda x : x**2, [1, 2, 3])\n",
        "print(*sonuç)"
      ],
      "execution_count": null,
      "outputs": [
        {
          "output_type": "stream",
          "name": "stdout",
          "text": [
            "1 4 9\n"
          ]
        }
      ]
    },
    {
      "cell_type": "code",
      "metadata": {
        "colab": {
          "base_uri": "https://localhost:8080/"
        },
        "id": "nzbrZep7ajQJ",
        "outputId": "e7d24ce9-0727-4a81-cade-8f6758a3d720"
      },
      "source": [
        "print(type(sonuç))"
      ],
      "execution_count": null,
      "outputs": [
        {
          "output_type": "stream",
          "name": "stdout",
          "text": [
            "<class 'map'>\n"
          ]
        }
      ]
    },
    {
      "cell_type": "code",
      "metadata": {
        "id": "B6xXRO-VajUa"
      },
      "source": [
        "def kare(x) :\n",
        "  return x**2"
      ],
      "execution_count": null,
      "outputs": []
    },
    {
      "cell_type": "code",
      "metadata": {
        "colab": {
          "base_uri": "https://localhost:8080/"
        },
        "id": "qg4fRIRBajYT",
        "outputId": "bcc08679-61ff-46c0-c8da-4ca30fa3a565"
      },
      "source": [
        "iterable = [1, 2, 3, 4]\n",
        "\n",
        "sonuc2 = map(kare, iterable)\n",
        "print(*sonuc2)"
      ],
      "execution_count": null,
      "outputs": [
        {
          "output_type": "stream",
          "name": "stdout",
          "text": [
            "1 4 9 16\n"
          ]
        }
      ]
    },
    {
      "cell_type": "code",
      "metadata": {
        "id": "g7aqSxm8ajcJ"
      },
      "source": [
        "topla = map(lambda x, y, z : x+y+z, \"a\", \"l\", \"i\")"
      ],
      "execution_count": 42,
      "outputs": []
    },
    {
      "cell_type": "code",
      "metadata": {
        "id": "NTsy6M13ajgR",
        "colab": {
          "base_uri": "https://localhost:8080/"
        },
        "outputId": "f0af0061-3c0e-4f60-9a16-2c59f21f2e78"
      },
      "source": [
        "print(list(topla))"
      ],
      "execution_count": 35,
      "outputs": [
        {
          "output_type": "stream",
          "name": "stdout",
          "text": [
            "['ali']\n"
          ]
        }
      ]
    },
    {
      "cell_type": "code",
      "metadata": {
        "id": "sq35oJS6ajjq",
        "colab": {
          "base_uri": "https://localhost:8080/"
        },
        "outputId": "f2165897-ac2d-41e6-a2c9-6f1a416601cc"
      },
      "source": [
        "print(* topla)"
      ],
      "execution_count": 43,
      "outputs": [
        {
          "output_type": "stream",
          "name": "stdout",
          "text": [
            "ali\n"
          ]
        }
      ]
    },
    {
      "cell_type": "code",
      "metadata": {
        "id": "O_UINCo9ajnM"
      },
      "source": [
        "num1 = [9, 6, 7, 4]\n",
        "num2 = [3, 6, 5, 8]\n",
        "\n",
        "numbers = map(lambda x, y : (x + y)/2, num1, num2)"
      ],
      "execution_count": 45,
      "outputs": []
    },
    {
      "cell_type": "code",
      "metadata": {
        "id": "guPoJ5xDajrK",
        "colab": {
          "base_uri": "https://localhost:8080/"
        },
        "outputId": "f7b8c581-4e94-4ba0-c81e-b79734eddc83"
      },
      "source": [
        "print(*numbers)"
      ],
      "execution_count": 46,
      "outputs": [
        {
          "output_type": "stream",
          "name": "stdout",
          "text": [
            "6.0 6.0 6.0 6.0\n"
          ]
        }
      ]
    },
    {
      "cell_type": "code",
      "metadata": {
        "id": "exq98jzlaju8",
        "colab": {
          "base_uri": "https://localhost:8080/"
        },
        "outputId": "15654505-3375-4c46-aabc-47393d2bbd40"
      },
      "source": [
        "function = lambda x, y : (x + y)/2\n",
        "\n",
        "number = map(function, num1, num2)\n",
        "print(list(number))"
      ],
      "execution_count": 50,
      "outputs": [
        {
          "output_type": "stream",
          "name": "stdout",
          "text": [
            "[6.0, 6.0, 6.0, 6.0]\n"
          ]
        }
      ]
    },
    {
      "cell_type": "code",
      "metadata": {
        "id": "3OrfjGJHajz1"
      },
      "source": [
        "words1 = [\"you\", \"much\", \"hard\"]\n",
        "words2 = [\"i\", \"you\", \"he\"]\n",
        "words3 = [\"love\", \"ate\", \"works\"]\n",
        "\n",
        "task = map(lambda x, y, z : x +\" \" + y +\" \" + z, words2, words3, words1 )"
      ],
      "execution_count": 59,
      "outputs": []
    },
    {
      "cell_type": "code",
      "metadata": {
        "id": "JF2ZBKd0aj3L",
        "colab": {
          "base_uri": "https://localhost:8080/"
        },
        "outputId": "02ba7f60-ef8e-4d49-d398-801fc23c6609"
      },
      "source": [
        "print(list(task))"
      ],
      "execution_count": 60,
      "outputs": [
        {
          "output_type": "stream",
          "name": "stdout",
          "text": [
            "['i love you', 'you ate much', 'he works hard']\n"
          ]
        }
      ]
    },
    {
      "cell_type": "code",
      "metadata": {
        "id": "fnoDzC9Paj7o",
        "colab": {
          "base_uri": "https://localhost:8080/"
        },
        "outputId": "b13cd22a-8708-49cc-f5ba-cdce62f9a22b"
      },
      "source": [
        "words = [\"apple\", \"swim\", \"clock\", \"me\", \"kiwi\", \"banana\"]\n",
        "five = filter(lambda x : len(x)<5, words)\n",
        "print(list(five))"
      ],
      "execution_count": 62,
      "outputs": [
        {
          "output_type": "stream",
          "name": "stdout",
          "text": [
            "['swim', 'me', 'kiwi']\n"
          ]
        }
      ]
    },
    {
      "cell_type": "code",
      "metadata": {
        "id": "CXLXso_daj_b",
        "colab": {
          "base_uri": "https://localhost:8080/"
        },
        "outputId": "b1cc90e0-754d-4245-b9cb-b061b0b73b66"
      },
      "source": [
        "words = [\"apple\", \"swim\", \"clock\", \"me\", \"kiwi\", \"banana\"]\n",
        "for i in filter(lambda x : len(x)<5, words):\n",
        "  print(i)"
      ],
      "execution_count": 64,
      "outputs": [
        {
          "output_type": "stream",
          "name": "stdout",
          "text": [
            "swim\n",
            "me\n",
            "kiwi\n"
          ]
        }
      ]
    },
    {
      "cell_type": "code",
      "metadata": {
        "id": "Hf8jHGnxakCs"
      },
      "source": [
        "first_ten = [\"a\", \"b\", \"c\", \"d\", \"e\", \"f\", \"g\", \"i\", \"j\"]\n",
        "vowel_list = [\"a\", \"e\", \"i\", \"o\", \"u\"]\n",
        "\n"
      ],
      "execution_count": 66,
      "outputs": []
    },
    {
      "cell_type": "code",
      "metadata": {
        "id": "vjslI9B_akGV",
        "colab": {
          "base_uri": "https://localhost:8080/"
        },
        "outputId": "4f9408be-3920-4431-e65b-6833541bcd35"
      },
      "source": [
        "\"a\" in vowel_list"
      ],
      "execution_count": 67,
      "outputs": [
        {
          "output_type": "execute_result",
          "data": {
            "text/plain": [
              "True"
            ]
          },
          "metadata": {},
          "execution_count": 67
        }
      ]
    },
    {
      "cell_type": "code",
      "metadata": {
        "id": "Iv2kx69zakKe",
        "colab": {
          "base_uri": "https://localhost:8080/"
        },
        "outputId": "7fd09103-7433-48b5-d0be-c5c84c59f0b5"
      },
      "source": [
        "\"b\" in vowel_list"
      ],
      "execution_count": 68,
      "outputs": [
        {
          "output_type": "execute_result",
          "data": {
            "text/plain": [
              "False"
            ]
          },
          "metadata": {},
          "execution_count": 68
        }
      ]
    },
    {
      "cell_type": "code",
      "metadata": {
        "id": "7KIDeuE6akOf",
        "colab": {
          "base_uri": "https://localhost:8080/"
        },
        "outputId": "7b01cde7-d8ba-4ad4-ce75-8da15a576f65"
      },
      "source": [
        "vowels = filter(lambda x : x in vowel_list, first_ten)\n",
        "print(* vowels)"
      ],
      "execution_count": 70,
      "outputs": [
        {
          "output_type": "stream",
          "name": "stdout",
          "text": [
            "a e i\n"
          ]
        }
      ]
    },
    {
      "cell_type": "code",
      "metadata": {
        "id": "JT0JjP6takTC"
      },
      "source": [
        "def modular(n):\n",
        "  return lambda x : x**n"
      ],
      "execution_count": 71,
      "outputs": []
    },
    {
      "cell_type": "code",
      "metadata": {
        "id": "t_Kr1XzcakW9",
        "colab": {
          "base_uri": "https://localhost:8080/"
        },
        "outputId": "07763bed-824d-44f8-c9b3-014a1c89ad0d"
      },
      "source": [
        "karesinial = modular(2)\n",
        "karesinial(5)"
      ],
      "execution_count": 74,
      "outputs": [
        {
          "output_type": "execute_result",
          "data": {
            "text/plain": [
              "25"
            ]
          },
          "metadata": {},
          "execution_count": 74
        }
      ]
    },
    {
      "cell_type": "code",
      "metadata": {
        "id": "d1YC9iXnakas",
        "colab": {
          "base_uri": "https://localhost:8080/"
        },
        "outputId": "cea62746-251a-4058-99f8-61b2d47feae5"
      },
      "source": [
        "modular(2)(5)"
      ],
      "execution_count": 75,
      "outputs": [
        {
          "output_type": "execute_result",
          "data": {
            "text/plain": [
              "25"
            ]
          },
          "metadata": {},
          "execution_count": 75
        }
      ]
    },
    {
      "cell_type": "code",
      "metadata": {
        "id": "JnJGpx2dakeY",
        "colab": {
          "base_uri": "https://localhost:8080/"
        },
        "outputId": "285778fb-e487-48c8-e935-ba975e651bca"
      },
      "source": [
        "def functioner(n):\n",
        "  return lambda x : x+\" \"+n\n",
        "\n",
        "myPrint_smile = functioner(\":)\")\n",
        "myPrint_sad = functioner(\":(\")\n",
        "myPrint_neutral = functioner(\":|\")\n",
        "\n",
        "print(myPrint_smile(\"hello\"))\n",
        "\n"
      ],
      "execution_count": 98,
      "outputs": [
        {
          "output_type": "stream",
          "name": "stdout",
          "text": [
            "hello :)\n"
          ]
        }
      ]
    },
    {
      "cell_type": "code",
      "metadata": {
        "id": "xIDxyhIuaktz"
      },
      "source": [
        "def functioner(n) :\n",
        "  return lambda x :print(x, n)\n",
        "myPrint_smile = functioner(\":)\")\n",
        "myPrint_sad = functioner(\":(\")\n",
        "myPrint_neutral = functioner(\":|\")\n"
      ],
      "execution_count": 91,
      "outputs": []
    },
    {
      "cell_type": "code",
      "metadata": {
        "id": "3QTsxiiMakyT",
        "colab": {
          "base_uri": "https://localhost:8080/"
        },
        "outputId": "a892a005-21fb-4aeb-9f3c-1217154f62a8"
      },
      "source": [
        "print(myPrint_smile(\"hello\"))"
      ],
      "execution_count": 92,
      "outputs": [
        {
          "output_type": "stream",
          "name": "stdout",
          "text": [
            "hello :)\n",
            "None\n"
          ]
        }
      ]
    },
    {
      "cell_type": "code",
      "metadata": {
        "id": "h5VTAqBCak4x"
      },
      "source": [
        "def function_generator(func1) :\n",
        "  return lambda x : func1(x)"
      ],
      "execution_count": 96,
      "outputs": []
    },
    {
      "cell_type": "code",
      "metadata": {
        "id": "TsnSL8-Wak8R",
        "colab": {
          "base_uri": "https://localhost:8080/"
        },
        "outputId": "818c76c3-8487-4ca8-b7ca-d1d99760d613"
      },
      "source": [
        "(lambda x : max(x))((1,2,4))"
      ],
      "execution_count": 97,
      "outputs": [
        {
          "output_type": "execute_result",
          "data": {
            "text/plain": [
              "4"
            ]
          },
          "metadata": {},
          "execution_count": 97
        }
      ]
    },
    {
      "cell_type": "code",
      "metadata": {
        "id": "rEAmqP7Yak_D",
        "colab": {
          "base_uri": "https://localhost:8080/"
        },
        "outputId": "62518db9-18d1-4c37-d25b-799cd5dcf853"
      },
      "source": [
        "(lambda x : print(x))((\"ali\", \"veli\", \"deli\"))"
      ],
      "execution_count": 100,
      "outputs": [
        {
          "output_type": "stream",
          "name": "stdout",
          "text": [
            "('ali', 'veli', 'deli')\n"
          ]
        }
      ]
    },
    {
      "cell_type": "code",
      "metadata": {
        "id": "zxs0H12dalCC",
        "colab": {
          "base_uri": "https://localhost:8080/"
        },
        "outputId": "c5e34c38-f01b-4620-8374-cbb8e8132d2c"
      },
      "source": [
        "(lambda x : sorted(x))((5, 3, 9, 4))"
      ],
      "execution_count": 102,
      "outputs": [
        {
          "output_type": "execute_result",
          "data": {
            "text/plain": [
              "[3, 4, 5, 9]"
            ]
          },
          "metadata": {},
          "execution_count": 102
        }
      ]
    },
    {
      "cell_type": "code",
      "metadata": {
        "id": "kQYHWyN6alFm"
      },
      "source": [
        ""
      ],
      "execution_count": null,
      "outputs": []
    },
    {
      "cell_type": "code",
      "metadata": {
        "id": "pKOMvojyalJY"
      },
      "source": [
        ""
      ],
      "execution_count": null,
      "outputs": []
    },
    {
      "cell_type": "code",
      "metadata": {
        "id": "Dha1nDLpalNP"
      },
      "source": [
        ""
      ],
      "execution_count": null,
      "outputs": []
    },
    {
      "cell_type": "code",
      "metadata": {
        "id": "-Ah59EvKalQS"
      },
      "source": [
        ""
      ],
      "execution_count": null,
      "outputs": []
    },
    {
      "cell_type": "code",
      "metadata": {
        "id": "qcWt77BEalTp"
      },
      "source": [
        ""
      ],
      "execution_count": null,
      "outputs": []
    },
    {
      "cell_type": "code",
      "metadata": {
        "id": "xssixWH9alWn"
      },
      "source": [
        ""
      ],
      "execution_count": null,
      "outputs": []
    },
    {
      "cell_type": "code",
      "metadata": {
        "id": "JPDlGUwhalaR"
      },
      "source": [
        ""
      ],
      "execution_count": null,
      "outputs": []
    },
    {
      "cell_type": "code",
      "metadata": {
        "id": "wdBorpKTalem"
      },
      "source": [
        ""
      ],
      "execution_count": null,
      "outputs": []
    },
    {
      "cell_type": "code",
      "metadata": {
        "id": "BdrUfZm5aljV"
      },
      "source": [
        ""
      ],
      "execution_count": null,
      "outputs": []
    },
    {
      "cell_type": "code",
      "metadata": {
        "id": "sv4ionwoaloZ"
      },
      "source": [
        ""
      ],
      "execution_count": null,
      "outputs": []
    },
    {
      "cell_type": "code",
      "metadata": {
        "id": "ffvoTRR9altC"
      },
      "source": [
        ""
      ],
      "execution_count": null,
      "outputs": []
    },
    {
      "cell_type": "code",
      "metadata": {
        "id": "sItDo575alyd"
      },
      "source": [
        ""
      ],
      "execution_count": null,
      "outputs": []
    }
  ]
}