{
  "nbformat": 4,
  "nbformat_minor": 0,
  "metadata": {
    "colab": {
      "name": "13_12lesson.ipynb",
      "provenance": [],
      "collapsed_sections": [],
      "authorship_tag": "ABX9TyPK3ww5uP/IAX4f7cqk8llU",
      "include_colab_link": true
    },
    "kernelspec": {
      "name": "python3",
      "display_name": "Python 3"
    },
    "language_info": {
      "name": "python"
    }
  },
  "cells": [
    {
      "cell_type": "markdown",
      "metadata": {
        "id": "view-in-github",
        "colab_type": "text"
      },
      "source": [
        "<a href=\"https://colab.research.google.com/github/Ozturkmustafa/Ozturkmustafa/blob/main/13_12lesson.ipynb\" target=\"_parent\"><img src=\"https://colab.research.google.com/assets/colab-badge.svg\" alt=\"Open In Colab\"/></a>"
      ]
    },
    {
      "cell_type": "code",
      "execution_count": null,
      "metadata": {
        "colab": {
          "base_uri": "https://localhost:8080/"
        },
        "id": "jARrQTtulDg3",
        "outputId": "09b4132c-4dd5-4bb5-c323-84b2bafb1d5e"
      },
      "outputs": [
        {
          "output_type": "stream",
          "name": "stdout",
          "text": [
            "33\n"
          ]
        }
      ],
      "source": [
        "print(0xA + 0xB + 0xC)"
      ]
    },
    {
      "cell_type": "code",
      "source": [
        "while True:\n",
        "    no_one = int(input(\"The first number please : \"))\n",
        "    no_two = int(input(\"The second number please : \"))\n",
        "    try:\n",
        "        division = no_one / no_two\n",
        "        print(\"The result of the division is : \", division)\n",
        "        break\n",
        "    except Exception as e:\n",
        "        print(\"Something went wrong...Try again.\")\n",
        "        print(\"Probably it is because of '{}' error\".format(e))\n",
        "        break"
      ],
      "metadata": {
        "colab": {
          "base_uri": "https://localhost:8080/"
        },
        "id": "gkFUVio_-3ML",
        "outputId": "852baa63-888a-4832-b2cb-7b8d2b1d3aab"
      },
      "execution_count": null,
      "outputs": [
        {
          "output_type": "stream",
          "name": "stdout",
          "text": [
            "The first number please : 3\n",
            "The second number please : 0\n",
            "Something went wrong...Try again.\n",
            "Probably it is because of 'division by zero' error\n"
          ]
        }
      ]
    },
    {
      "cell_type": "code",
      "source": [
        "try:\n",
        "    x = 2/0\n",
        "\n",
        "except ZeroDivisionError:\n",
        "    print('Attempt to divide by zero')\n",
        "except:\n",
        "    print('Something else went wrong')"
      ],
      "metadata": {
        "colab": {
          "base_uri": "https://localhost:8080/"
        },
        "id": "jmbXKJpo-3Qf",
        "outputId": "42556d89-13de-4624-e0ad-18a8f3ddccf3"
      },
      "execution_count": null,
      "outputs": [
        {
          "output_type": "stream",
          "name": "stdout",
          "text": [
            "Attempt to divide by zero\n"
          ]
        }
      ]
    },
    {
      "cell_type": "code",
      "source": [
        "fruits = [\"banana\", \"mango\", \"pear\", \"apple\", \"kiwi\", \"grape\"]\n",
        "while True:\n",
        "    try:\n",
        "        # print(fruits)\n",
        "        a = int(input(\"Choose your favorite fruite by index: \"))\n",
        "        print(f\" Favourite fruit is {fruits[a]} \")\n",
        "        break\n",
        "    except IndexError :\n",
        "        print(\"Index not found. Try again.\")\n",
        "\n",
        "    except ValueError :\n",
        "      print(\"Please enter an a number.\")"
      ],
      "metadata": {
        "colab": {
          "base_uri": "https://localhost:8080/"
        },
        "id": "iAfgsViR-3bB",
        "outputId": "0883f827-75b8-482f-cc41-27acac2e3a94"
      },
      "execution_count": null,
      "outputs": [
        {
          "output_type": "stream",
          "name": "stdout",
          "text": [
            "Choose your favorite fruite by index: 4\n",
            " Favourite fruit is kiwi \n"
          ]
        }
      ]
    },
    {
      "cell_type": "code",
      "source": [
        "fruits = [\"banana\", \"mango\", \"pear\", \"apple\", \"kiwi\", \"grape\"]\n",
        "counter = 3\n",
        "while counter > 0:\n",
        "  try:\n",
        "    print(f\"you have {counter} right.\" )\n",
        "    index = int(input(\"sayi giriniz\"))\n",
        "    print(\"favorit fruit \", fruits[index])\n",
        "    break\n",
        "  except ValueError:\n",
        "    counter -= 1\n",
        "    print(f\"Lütfen dogru giris yapiniz, kalan hakkınız :{counter}\")\n",
        "    \n",
        "  except IndexError:\n",
        "    counter -= 1\n",
        "    print(f\"Lütfen dogru giris yapiniz, kalan hakkınız :{counter}\")\n",
        "\n",
        "\n",
        "  else:\n",
        "    print(\"Kodumuz problemsiz calisti Tebrikler\")\n",
        "  finally:\n",
        "    print(\"Benim meyvelerim her zaman tazedir\")"
      ],
      "metadata": {
        "colab": {
          "base_uri": "https://localhost:8080/"
        },
        "id": "5Cu_tC_i-3hD",
        "outputId": "588ff63a-489e-47fb-ecdb-39136a5376a6"
      },
      "execution_count": null,
      "outputs": [
        {
          "output_type": "stream",
          "name": "stdout",
          "text": [
            "you have 3 right.\n",
            "sayi giriniz7\n",
            "Lütfen dogru giris yapiniz, kalan hakkınız : 3\n",
            "Benim meyvelerim her zaman tazedir\n",
            "you have 2 right.\n",
            "sayi girinizhk\n",
            "Lütfen dogru giris yapiniz, kalan hakkınız : 2\n",
            "Benim meyvelerim her zaman tazedir\n",
            "you have 1 right.\n",
            "sayi girinizjk\n",
            "Lütfen dogru giris yapiniz, kalan hakkınız : 1\n",
            "Benim meyvelerim her zaman tazedir\n"
          ]
        }
      ]
    },
    {
      "cell_type": "code",
      "source": [
        "word = {}\n",
        "sentence = \"hippo runs to us!\"\n",
        "\n",
        "for i in sentence :\n",
        "  if i in word :\n",
        "    word[i] = word[i] +1\n",
        "  else:\n",
        "    word[i] = 1\n",
        "\n",
        "print(word)"
      ],
      "metadata": {
        "colab": {
          "base_uri": "https://localhost:8080/"
        },
        "id": "sqhcZgsQ-3l-",
        "outputId": "ad833f9a-22c9-4c90-a211-a80572624c95"
      },
      "execution_count": null,
      "outputs": [
        {
          "output_type": "stream",
          "name": "stdout",
          "text": [
            "{'h': 1, 'i': 1, 'p': 2, 'o': 2, ' ': 3, 'r': 1, 'u': 2, 'n': 1, 's': 2, 't': 1, '!': 1}\n"
          ]
        }
      ]
    },
    {
      "cell_type": "code",
      "source": [
        "veri = [\"a\", \"b\", True, (False, 1), {\"1\" : 2}, [1,2], {\"2\" : \"two\"}, {2, \"3\"}, \"c\", 23, 0]\n",
        "tipler = [\"int\", \"str\", \"bool\", \"list\", \"tuple\", \"dict\", \"set\"]\n",
        "\n",
        "dictionary = {}\n",
        "\n",
        "for i in veri:\n",
        "  if type(i) in dictionary :\n",
        "    dictionary[type(i)] += 1\n",
        "  else :\n",
        "    dictionary[type(i)] = 1\n",
        "\n",
        "print(dictionary)"
      ],
      "metadata": {
        "colab": {
          "base_uri": "https://localhost:8080/"
        },
        "id": "6wNaniFQ-3rI",
        "outputId": "27f2c087-dc0d-4769-b2c9-96e3eed04b59"
      },
      "execution_count": null,
      "outputs": [
        {
          "output_type": "stream",
          "name": "stdout",
          "text": [
            "{<class 'str'>: 3, <class 'bool'>: 1, <class 'tuple'>: 1, <class 'dict'>: 2, <class 'list'>: 1, <class 'set'>: 1, <class 'int'>: 2}\n"
          ]
        }
      ]
    },
    {
      "cell_type": "code",
      "source": [
        "veri = [\"a\", \"b\", True, (False, 1), {\"1\" : 2}, [1,2], {\"2\" : \"two\"}, {2, \"3\"}, \"c\", 23, 0]\n",
        "tipler = [\"int\", \"str\", \"bool\", \"list\", \"tuple\", \"dict\", \"set\"]\n",
        "toplam = 0"
      ],
      "metadata": {
        "id": "2rODe_PI-3wD"
      },
      "execution_count": null,
      "outputs": []
    },
    {
      "cell_type": "code",
      "source": [
        "{}.fromkeys(tipler, 0)"
      ],
      "metadata": {
        "colab": {
          "base_uri": "https://localhost:8080/"
        },
        "id": "0lJWAANb-31i",
        "outputId": "846aef13-f65c-47f6-a78d-1cd2ed5f97fd"
      },
      "execution_count": null,
      "outputs": [
        {
          "output_type": "execute_result",
          "data": {
            "text/plain": [
              "{'bool': 0, 'dict': 0, 'int': 0, 'list': 0, 'set': 0, 'str': 0, 'tuple': 0}"
            ]
          },
          "metadata": {},
          "execution_count": 27
        }
      ]
    },
    {
      "cell_type": "code",
      "source": [
        "for i in range(len(veri)) :\n",
        "    \n",
        "    if type(veri[i]) == int : toplam[\"int\"] += 1\n",
        "    elif type(veri[i]) == str : toplam[\"str\"] += 1\n",
        "    elif type(veri[i]) == bool : toplam[\"bool\"] += 1\n",
        "    elif type(veri[i]) == list : toplam[\"list\"] += 1\n",
        "    elif type(veri[i]) == tuple : toplam[\"tuple\"] += 1\n",
        "    elif type(veri[i]) == dict : toplam[\"dict\"] += 1\n",
        "    elif type(veri[i]) == set : toplam[\"set\"] += 1\n",
        "        \n",
        "toplam"
      ],
      "metadata": {
        "colab": {
          "base_uri": "https://localhost:8080/",
          "height": 246
        },
        "id": "VgHRCqYZ-356",
        "outputId": "5027399e-f15d-40d4-ed09-f7bef3819793"
      },
      "execution_count": 30,
      "outputs": [
        {
          "output_type": "error",
          "ename": "TypeError",
          "evalue": "ignored",
          "traceback": [
            "\u001b[0;31m---------------------------------------------------------------------------\u001b[0m",
            "\u001b[0;31mTypeError\u001b[0m                                 Traceback (most recent call last)",
            "\u001b[0;32m<ipython-input-30-976e0102c89e>\u001b[0m in \u001b[0;36m<module>\u001b[0;34m()\u001b[0m\n\u001b[1;32m      2\u001b[0m \u001b[0;34m\u001b[0m\u001b[0m\n\u001b[1;32m      3\u001b[0m     \u001b[0;32mif\u001b[0m \u001b[0mtype\u001b[0m\u001b[0;34m(\u001b[0m\u001b[0mveri\u001b[0m\u001b[0;34m[\u001b[0m\u001b[0mi\u001b[0m\u001b[0;34m]\u001b[0m\u001b[0;34m)\u001b[0m \u001b[0;34m==\u001b[0m \u001b[0mint\u001b[0m \u001b[0;34m:\u001b[0m \u001b[0mtoplam\u001b[0m\u001b[0;34m[\u001b[0m\u001b[0;34m\"int\"\u001b[0m\u001b[0;34m]\u001b[0m \u001b[0;34m+=\u001b[0m \u001b[0;36m1\u001b[0m\u001b[0;34m\u001b[0m\u001b[0;34m\u001b[0m\u001b[0m\n\u001b[0;32m----> 4\u001b[0;31m     \u001b[0;32melif\u001b[0m \u001b[0mtype\u001b[0m\u001b[0;34m(\u001b[0m\u001b[0mveri\u001b[0m\u001b[0;34m[\u001b[0m\u001b[0mi\u001b[0m\u001b[0;34m]\u001b[0m\u001b[0;34m)\u001b[0m \u001b[0;34m==\u001b[0m \u001b[0mstr\u001b[0m \u001b[0;34m:\u001b[0m \u001b[0mtoplam\u001b[0m\u001b[0;34m[\u001b[0m\u001b[0;34m\"str\"\u001b[0m\u001b[0;34m]\u001b[0m \u001b[0;34m+=\u001b[0m \u001b[0;36m1\u001b[0m\u001b[0;34m\u001b[0m\u001b[0;34m\u001b[0m\u001b[0m\n\u001b[0m\u001b[1;32m      5\u001b[0m     \u001b[0;32melif\u001b[0m \u001b[0mtype\u001b[0m\u001b[0;34m(\u001b[0m\u001b[0mveri\u001b[0m\u001b[0;34m[\u001b[0m\u001b[0mi\u001b[0m\u001b[0;34m]\u001b[0m\u001b[0;34m)\u001b[0m \u001b[0;34m==\u001b[0m \u001b[0mbool\u001b[0m \u001b[0;34m:\u001b[0m \u001b[0mtoplam\u001b[0m\u001b[0;34m[\u001b[0m\u001b[0;34m\"bool\"\u001b[0m\u001b[0;34m]\u001b[0m \u001b[0;34m+=\u001b[0m \u001b[0;36m1\u001b[0m\u001b[0;34m\u001b[0m\u001b[0;34m\u001b[0m\u001b[0m\n\u001b[1;32m      6\u001b[0m     \u001b[0;32melif\u001b[0m \u001b[0mtype\u001b[0m\u001b[0;34m(\u001b[0m\u001b[0mveri\u001b[0m\u001b[0;34m[\u001b[0m\u001b[0mi\u001b[0m\u001b[0;34m]\u001b[0m\u001b[0;34m)\u001b[0m \u001b[0;34m==\u001b[0m \u001b[0mlist\u001b[0m \u001b[0;34m:\u001b[0m \u001b[0mtoplam\u001b[0m\u001b[0;34m[\u001b[0m\u001b[0;34m\"list\"\u001b[0m\u001b[0;34m]\u001b[0m \u001b[0;34m+=\u001b[0m \u001b[0;36m1\u001b[0m\u001b[0;34m\u001b[0m\u001b[0;34m\u001b[0m\u001b[0m\n",
            "\u001b[0;31mTypeError\u001b[0m: 'int' object is not subscriptable"
          ]
        }
      ]
    },
    {
      "cell_type": "code",
      "source": [
        ""
      ],
      "metadata": {
        "id": "HHtN5vhw-39w"
      },
      "execution_count": null,
      "outputs": []
    },
    {
      "cell_type": "code",
      "source": [
        ""
      ],
      "metadata": {
        "id": "q103UONQ-4Ac"
      },
      "execution_count": null,
      "outputs": []
    },
    {
      "cell_type": "code",
      "source": [
        ""
      ],
      "metadata": {
        "id": "q8bDPrmK-4Dg"
      },
      "execution_count": null,
      "outputs": []
    },
    {
      "cell_type": "code",
      "source": [
        ""
      ],
      "metadata": {
        "id": "C2S9DpkY-4G_"
      },
      "execution_count": null,
      "outputs": []
    },
    {
      "cell_type": "code",
      "source": [
        ""
      ],
      "metadata": {
        "id": "IhROjH0o-4J7"
      },
      "execution_count": null,
      "outputs": []
    },
    {
      "cell_type": "code",
      "source": [
        ""
      ],
      "metadata": {
        "id": "X2wfD27r-4Mh"
      },
      "execution_count": null,
      "outputs": []
    },
    {
      "cell_type": "code",
      "source": [
        ""
      ],
      "metadata": {
        "id": "UTMvBpzK-4Pz"
      },
      "execution_count": null,
      "outputs": []
    },
    {
      "cell_type": "code",
      "source": [
        ""
      ],
      "metadata": {
        "id": "ZkIGSNrC-4S4"
      },
      "execution_count": null,
      "outputs": []
    },
    {
      "cell_type": "code",
      "source": [
        ""
      ],
      "metadata": {
        "id": "E7ZXqYlU-4VS"
      },
      "execution_count": null,
      "outputs": []
    },
    {
      "cell_type": "code",
      "source": [
        ""
      ],
      "metadata": {
        "id": "uzwoFie--4Xe"
      },
      "execution_count": null,
      "outputs": []
    },
    {
      "cell_type": "code",
      "source": [
        ""
      ],
      "metadata": {
        "id": "kziOn7Cr-4aQ"
      },
      "execution_count": null,
      "outputs": []
    },
    {
      "cell_type": "code",
      "source": [
        ""
      ],
      "metadata": {
        "id": "DC4tMgwv-4di"
      },
      "execution_count": null,
      "outputs": []
    },
    {
      "cell_type": "code",
      "source": [
        ""
      ],
      "metadata": {
        "id": "9Ik2iwDQ-4gx"
      },
      "execution_count": null,
      "outputs": []
    },
    {
      "cell_type": "code",
      "source": [
        ""
      ],
      "metadata": {
        "id": "d4Jojbl1-4jh"
      },
      "execution_count": null,
      "outputs": []
    },
    {
      "cell_type": "code",
      "source": [
        ""
      ],
      "metadata": {
        "id": "D8L0iW13-4nH"
      },
      "execution_count": null,
      "outputs": []
    },
    {
      "cell_type": "code",
      "source": [
        ""
      ],
      "metadata": {
        "id": "UZgQsVs0-4pz"
      },
      "execution_count": null,
      "outputs": []
    },
    {
      "cell_type": "code",
      "source": [
        ""
      ],
      "metadata": {
        "id": "X1cZ_x1G-4tP"
      },
      "execution_count": null,
      "outputs": []
    },
    {
      "cell_type": "code",
      "source": [
        ""
      ],
      "metadata": {
        "id": "WFafuZiJ-4v1"
      },
      "execution_count": null,
      "outputs": []
    },
    {
      "cell_type": "code",
      "source": [
        ""
      ],
      "metadata": {
        "id": "G-Gs69kP-4yu"
      },
      "execution_count": null,
      "outputs": []
    },
    {
      "cell_type": "code",
      "source": [
        ""
      ],
      "metadata": {
        "id": "4DXswSmj-41d"
      },
      "execution_count": null,
      "outputs": []
    },
    {
      "cell_type": "code",
      "source": [
        ""
      ],
      "metadata": {
        "id": "Im-E68MQ-44Y"
      },
      "execution_count": null,
      "outputs": []
    },
    {
      "cell_type": "code",
      "source": [
        ""
      ],
      "metadata": {
        "id": "agvueEbv-47J"
      },
      "execution_count": null,
      "outputs": []
    },
    {
      "cell_type": "code",
      "source": [
        ""
      ],
      "metadata": {
        "id": "VqYONG5o-4-F"
      },
      "execution_count": null,
      "outputs": []
    },
    {
      "cell_type": "code",
      "source": [
        ""
      ],
      "metadata": {
        "id": "mxAYF-Lp-5Cb"
      },
      "execution_count": null,
      "outputs": []
    },
    {
      "cell_type": "code",
      "source": [
        ""
      ],
      "metadata": {
        "id": "YV6VKVAe-5HB"
      },
      "execution_count": null,
      "outputs": []
    },
    {
      "cell_type": "code",
      "source": [
        ""
      ],
      "metadata": {
        "id": "VNP_bMyx-5L0"
      },
      "execution_count": null,
      "outputs": []
    },
    {
      "cell_type": "code",
      "source": [
        ""
      ],
      "metadata": {
        "id": "kC5GbzzU-5Rb"
      },
      "execution_count": null,
      "outputs": []
    },
    {
      "cell_type": "code",
      "source": [
        ""
      ],
      "metadata": {
        "id": "ywrRan9s-5VA"
      },
      "execution_count": null,
      "outputs": []
    },
    {
      "cell_type": "code",
      "source": [
        ""
      ],
      "metadata": {
        "id": "inTvO88s-5Y6"
      },
      "execution_count": null,
      "outputs": []
    },
    {
      "cell_type": "code",
      "source": [
        ""
      ],
      "metadata": {
        "id": "EaPx-C3u-5d7"
      },
      "execution_count": null,
      "outputs": []
    },
    {
      "cell_type": "code",
      "source": [
        ""
      ],
      "metadata": {
        "id": "Hj6BIZ4P-5ho"
      },
      "execution_count": null,
      "outputs": []
    },
    {
      "cell_type": "code",
      "source": [
        ""
      ],
      "metadata": {
        "id": "cpGOKPmQ-5lt"
      },
      "execution_count": null,
      "outputs": []
    },
    {
      "cell_type": "code",
      "source": [
        ""
      ],
      "metadata": {
        "id": "fV4pGcfe-5oi"
      },
      "execution_count": null,
      "outputs": []
    },
    {
      "cell_type": "code",
      "source": [
        ""
      ],
      "metadata": {
        "id": "-FPJEp3m-5rV"
      },
      "execution_count": null,
      "outputs": []
    },
    {
      "cell_type": "code",
      "source": [
        ""
      ],
      "metadata": {
        "id": "IZbvPYpZ-5uw"
      },
      "execution_count": null,
      "outputs": []
    },
    {
      "cell_type": "code",
      "source": [
        ""
      ],
      "metadata": {
        "id": "SURKvioq-5yb"
      },
      "execution_count": null,
      "outputs": []
    },
    {
      "cell_type": "code",
      "source": [
        ""
      ],
      "metadata": {
        "id": "cnxQNdjK-51Q"
      },
      "execution_count": null,
      "outputs": []
    }
  ]
}