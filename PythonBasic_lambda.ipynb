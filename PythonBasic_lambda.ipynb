{
  "cells": [
    {
      "cell_type": "markdown",
      "metadata": {
        "id": "view-in-github",
        "colab_type": "text"
      },
      "source": [
        "<a href=\"https://colab.research.google.com/github/Ozturkmustafa/Ozturkmustafa/blob/main/PythonBasic_lambda.ipynb\" target=\"_parent\"><img src=\"https://colab.research.google.com/assets/colab-badge.svg\" alt=\"Open In Colab\"/></a>"
      ]
    },
    {
      "cell_type": "markdown",
      "id": "22263af8",
      "metadata": {
        "id": "22263af8"
      },
      "source": [
        "<h1><p style=\"text-align: center; color:darkblue\">Python In-Class, <br>29 November 2021</p><h1>"
      ]
    },
    {
      "cell_type": "code",
      "execution_count": null,
      "id": "dd2803a0",
      "metadata": {
        "id": "dd2803a0",
        "outputId": "dadb4178-c1e3-4451-b9d2-2bbe8d639e2b"
      },
      "outputs": [
        {
          "data": {
            "text/plain": [
              "<function __main__.<lambda>(x)>"
            ]
          },
          "execution_count": 1,
          "metadata": {},
          "output_type": "execute_result"
        }
      ],
      "source": [
        "lambda x : \"odd\" if x % 2 != 0 else \"even\""
      ]
    },
    {
      "cell_type": "code",
      "execution_count": null,
      "id": "a0ddf63e",
      "metadata": {
        "id": "a0ddf63e",
        "outputId": "742f131d-80fa-434b-aedc-acbdef97aff9"
      },
      "outputs": [
        {
          "data": {
            "text/plain": [
              "'even'"
            ]
          },
          "execution_count": 2,
          "metadata": {},
          "output_type": "execute_result"
        }
      ],
      "source": [
        "(lambda x : \"odd\" if x % 2 != 0 else \"even\")(2)"
      ]
    },
    {
      "cell_type": "code",
      "execution_count": null,
      "id": "9eec0f3d",
      "metadata": {
        "id": "9eec0f3d",
        "outputId": "77818dca-3a9f-4bc0-a9c4-925ae6afadff"
      },
      "outputs": [
        {
          "data": {
            "text/plain": [
              "'odd'"
            ]
          },
          "execution_count": 3,
          "metadata": {},
          "output_type": "execute_result"
        }
      ],
      "source": [
        "(lambda x : \"odd\" if x % 2 != 0 else \"even\")(3)"
      ]
    },
    {
      "cell_type": "code",
      "execution_count": null,
      "id": "bd2d76ea",
      "metadata": {
        "id": "bd2d76ea",
        "outputId": "6eb2a6de-2779-4815-c29b-233ff1a0a243"
      },
      "outputs": [
        {
          "data": {
            "text/plain": [
              "'ilaa'"
            ]
          },
          "execution_count": 5,
          "metadata": {},
          "output_type": "execute_result"
        }
      ],
      "source": [
        "(lambda x : x[::-1])(\"aali\")"
      ]
    },
    {
      "cell_type": "code",
      "execution_count": null,
      "id": "b78f662b",
      "metadata": {
        "id": "b78f662b",
        "outputId": "7d100a44-651e-4afa-f4b3-f22fa36337ab"
      },
      "outputs": [
        {
          "data": {
            "text/plain": [
              "[3, 2, 1]"
            ]
          },
          "execution_count": 6,
          "metadata": {},
          "output_type": "execute_result"
        }
      ],
      "source": [
        "(lambda x : x[::-1])([1,2,3])"
      ]
    },
    {
      "cell_type": "code",
      "execution_count": null,
      "id": "7eb1e60e",
      "metadata": {
        "id": "7eb1e60e",
        "outputId": "9cfc1288-31d0-4b1f-8a63-7d5bb2be97ed"
      },
      "outputs": [
        {
          "data": {
            "text/plain": [
              "4.0"
            ]
          },
          "execution_count": 7,
          "metadata": {},
          "output_type": "execute_result"
        }
      ],
      "source": [
        "(lambda a, b : (a + b) / 2)(3, 5) "
      ]
    },
    {
      "cell_type": "code",
      "execution_count": null,
      "id": "192a89c2",
      "metadata": {
        "id": "192a89c2"
      },
      "outputs": [],
      "source": [
        "lambda x : \"odd\" if x % 2 != 0 else \"even\""
      ]
    },
    {
      "cell_type": "code",
      "execution_count": null,
      "id": "4d98517f",
      "metadata": {
        "id": "4d98517f"
      },
      "outputs": [],
      "source": [
        "sayılar = [1, 2, 3, 4, 5, 6]"
      ]
    },
    {
      "cell_type": "code",
      "execution_count": null,
      "id": "2cf982f7",
      "metadata": {
        "id": "2cf982f7",
        "outputId": "cf46a0a9-eb10-42a2-ba03-3cb7b5af5c4f"
      },
      "outputs": [
        {
          "name": "stdout",
          "output_type": "stream",
          "text": [
            "1 : odd\n",
            "2 : even\n",
            "3 : odd\n",
            "4 : even\n",
            "5 : odd\n",
            "6 : even\n"
          ]
        }
      ],
      "source": [
        "for a in sayılar :\n",
        "    print(a, \":\", (lambda x : \"odd\" if x % 2 != 0 else \"even\")(a))"
      ]
    },
    {
      "cell_type": "code",
      "execution_count": null,
      "id": "a53190be",
      "metadata": {
        "id": "a53190be"
      },
      "outputs": [],
      "source": [
        "finder = lambda x : \"odd\" if x % 2 != 0 else \"even\""
      ]
    },
    {
      "cell_type": "code",
      "execution_count": null,
      "id": "20deafeb",
      "metadata": {
        "id": "20deafeb",
        "outputId": "c5304d8a-2e39-4e06-a965-f0f2247aa0c3"
      },
      "outputs": [
        {
          "name": "stdout",
          "output_type": "stream",
          "text": [
            "odd\n"
          ]
        }
      ],
      "source": [
        "print(finder(5))"
      ]
    },
    {
      "cell_type": "code",
      "execution_count": null,
      "id": "7db8e84a",
      "metadata": {
        "id": "7db8e84a"
      },
      "outputs": [],
      "source": [
        "reverser = lambda x : x[::-1]"
      ]
    },
    {
      "cell_type": "code",
      "execution_count": null,
      "id": "9ae0784b",
      "metadata": {
        "id": "9ae0784b",
        "outputId": "e1d2ac6f-be69-4960-b6cd-6630037f2dc6"
      },
      "outputs": [
        {
          "data": {
            "text/plain": [
              "[4, 3, 2, 1]"
            ]
          },
          "execution_count": 14,
          "metadata": {},
          "output_type": "execute_result"
        }
      ],
      "source": [
        "reverser([1, 2, 3, 4])"
      ]
    },
    {
      "cell_type": "code",
      "execution_count": null,
      "id": "0da4140f",
      "metadata": {
        "id": "0da4140f"
      },
      "outputs": [],
      "source": [
        "fonksiyon = lambda x : x ** 2\n",
        "iterable = [1, 2, 3]"
      ]
    },
    {
      "cell_type": "code",
      "execution_count": null,
      "id": "a60d64c8",
      "metadata": {
        "id": "a60d64c8",
        "outputId": "9cc1fb49-5e8c-4c10-f567-74e10d3bbb46"
      },
      "outputs": [
        {
          "name": "stdout",
          "output_type": "stream",
          "text": [
            "1 4 9\n"
          ]
        }
      ],
      "source": [
        "sonuc = map(fonksiyon, iterable)\n",
        "print(* sonuc)"
      ]
    },
    {
      "cell_type": "code",
      "execution_count": null,
      "id": "36d7c2a2",
      "metadata": {
        "id": "36d7c2a2"
      },
      "outputs": [],
      "source": [
        "def kare(b) :\n",
        "    return b ** 2"
      ]
    },
    {
      "cell_type": "code",
      "execution_count": null,
      "id": "3fd55033",
      "metadata": {
        "id": "3fd55033",
        "outputId": "16a422d7-5ee1-4d8a-f39c-c7c79b9a6530"
      },
      "outputs": [
        {
          "name": "stdout",
          "output_type": "stream",
          "text": [
            "1 4 9\n"
          ]
        }
      ],
      "source": [
        "sonuc2 = map(kare, iterable)\n",
        "print(* sonuc2)"
      ]
    },
    {
      "cell_type": "code",
      "execution_count": null,
      "id": "1a852729",
      "metadata": {
        "id": "1a852729"
      },
      "outputs": [],
      "source": [
        "map()"
      ]
    },
    {
      "cell_type": "code",
      "execution_count": null,
      "id": "87b4fa09",
      "metadata": {
        "id": "87b4fa09"
      },
      "outputs": [],
      "source": [
        "topla = lambda x, y, z : x + y + z"
      ]
    },
    {
      "cell_type": "code",
      "execution_count": null,
      "id": "e4748050",
      "metadata": {
        "id": "e4748050",
        "outputId": "a5943d4a-e1d4-4b89-cd36-4ba535dcb4fa"
      },
      "outputs": [
        {
          "data": {
            "text/plain": [
              "'ali'"
            ]
          },
          "execution_count": 20,
          "metadata": {},
          "output_type": "execute_result"
        }
      ],
      "source": [
        "topla(\"a\", \"l\", \"i\")"
      ]
    },
    {
      "cell_type": "code",
      "execution_count": null,
      "id": "202fa373",
      "metadata": {
        "id": "202fa373"
      },
      "outputs": [],
      "source": [
        "num1 = [9, 6, 7, 4]\n",
        "num2 = [3, 6, 5, 8]"
      ]
    },
    {
      "cell_type": "code",
      "execution_count": null,
      "id": "2e9d139f",
      "metadata": {
        "id": "2e9d139f"
      },
      "outputs": [],
      "source": [
        "func = lambda x, y : (x + y) / 2"
      ]
    },
    {
      "cell_type": "code",
      "execution_count": null,
      "id": "91577a51",
      "metadata": {
        "id": "91577a51",
        "outputId": "b5c8b6c5-9a93-4724-92d8-7c32c7c81dcd"
      },
      "outputs": [
        {
          "name": "stdout",
          "output_type": "stream",
          "text": [
            "[6.0, 6.0, 6.0, 6.0]\n"
          ]
        }
      ],
      "source": [
        "numbers = map(func, num1, num2)\n",
        "print(list(numbers))"
      ]
    },
    {
      "cell_type": "code",
      "execution_count": null,
      "id": "06686ac2",
      "metadata": {
        "id": "06686ac2"
      },
      "outputs": [],
      "source": [
        "words = [\"apple\", \"swim\", \"clock\", \"me\", \"kiwi\", \"banana\"]"
      ]
    },
    {
      "cell_type": "code",
      "execution_count": null,
      "id": "05e1769f",
      "metadata": {
        "id": "05e1769f",
        "outputId": "9ae35dba-c9ed-45a1-9cf5-205a87288ebc"
      },
      "outputs": [
        {
          "name": "stdout",
          "output_type": "stream",
          "text": [
            "swim\n",
            "me\n",
            "kiwi\n"
          ]
        }
      ],
      "source": [
        "for i in filter(lambda x : len(x) < 5, words) :\n",
        "    print(i)"
      ]
    },
    {
      "cell_type": "code",
      "execution_count": null,
      "id": "55f12d71",
      "metadata": {
        "id": "55f12d71"
      },
      "outputs": [],
      "source": [
        "vowel_list = ['a', 'e', 'i', 'o', 'u']\n",
        "first_ten = ['a', 'b', 'c', 'd', 'e', 'f', 'g', 'h', 'i', 'j']"
      ]
    },
    {
      "cell_type": "code",
      "execution_count": null,
      "id": "5e083a58",
      "metadata": {
        "id": "5e083a58",
        "outputId": "ef2fba34-9d86-4b38-8ea0-49b5b43011dc"
      },
      "outputs": [
        {
          "data": {
            "text/plain": [
              "True"
            ]
          },
          "execution_count": 27,
          "metadata": {},
          "output_type": "execute_result"
        }
      ],
      "source": [
        "\"a\" in vowel_list"
      ]
    },
    {
      "cell_type": "code",
      "execution_count": null,
      "id": "a74d49ef",
      "metadata": {
        "id": "a74d49ef",
        "outputId": "197dc7f9-a47b-4ad1-d966-13b89cb541c4"
      },
      "outputs": [
        {
          "data": {
            "text/plain": [
              "False"
            ]
          },
          "execution_count": 28,
          "metadata": {},
          "output_type": "execute_result"
        }
      ],
      "source": [
        "\"b\" in vowel_list"
      ]
    },
    {
      "cell_type": "code",
      "execution_count": null,
      "id": "6dda768f",
      "metadata": {
        "id": "6dda768f",
        "outputId": "75bf65be-294a-437a-b2af-d66de4fefb24"
      },
      "outputs": [
        {
          "name": "stdout",
          "output_type": "stream",
          "text": [
            "['a', 'e', 'i']\n"
          ]
        }
      ],
      "source": [
        "vowels = filter(lambda x : x in vowel_list, first_ten)\n",
        "print(list(vowels))"
      ]
    },
    {
      "cell_type": "code",
      "execution_count": null,
      "id": "3bb87e27",
      "metadata": {
        "id": "3bb87e27"
      },
      "outputs": [],
      "source": [
        "def modular(n) :\n",
        "    return lambda x : x ** n"
      ]
    },
    {
      "cell_type": "code",
      "execution_count": null,
      "id": "08a43ec5",
      "metadata": {
        "id": "08a43ec5"
      },
      "outputs": [],
      "source": [
        "karesinial = modular(2)"
      ]
    },
    {
      "cell_type": "code",
      "execution_count": null,
      "id": "1ade37d4",
      "metadata": {
        "id": "1ade37d4",
        "outputId": "a17fb330-283d-41c4-819d-c568360198fa"
      },
      "outputs": [
        {
          "data": {
            "text/plain": [
              "9"
            ]
          },
          "execution_count": 33,
          "metadata": {},
          "output_type": "execute_result"
        }
      ],
      "source": [
        "karesinial(3)"
      ]
    },
    {
      "cell_type": "code",
      "execution_count": null,
      "id": "3021b7f6",
      "metadata": {
        "id": "3021b7f6"
      },
      "outputs": [],
      "source": [
        "kupunual = modular(3)"
      ]
    },
    {
      "cell_type": "code",
      "execution_count": null,
      "id": "ac54cebf",
      "metadata": {
        "id": "ac54cebf",
        "outputId": "7a5b41e4-e980-4e89-c1f7-42a2ecf034e2"
      },
      "outputs": [
        {
          "data": {
            "text/plain": [
              "8"
            ]
          },
          "execution_count": 35,
          "metadata": {},
          "output_type": "execute_result"
        }
      ],
      "source": [
        "kupunual(2)"
      ]
    },
    {
      "cell_type": "code",
      "execution_count": null,
      "id": "00d0d378",
      "metadata": {
        "id": "00d0d378",
        "outputId": "440748f1-a1b2-40ea-af9a-0f4341dd8325"
      },
      "outputs": [
        {
          "name": "stdout",
          "output_type": "stream",
          "text": [
            "ali :)\n"
          ]
        }
      ],
      "source": [
        "(lambda x : print(x, \":)\"))(\"ali\")"
      ]
    },
    {
      "cell_type": "code",
      "execution_count": null,
      "id": "2fe9958e",
      "metadata": {
        "id": "2fe9958e",
        "outputId": "91cd1d25-0107-4fef-89f0-569f0a63401e"
      },
      "outputs": [
        {
          "name": "stdout",
          "output_type": "stream",
          "text": [
            "ali :)\n"
          ]
        }
      ],
      "source": [
        "print(\"ali\", \":)\")"
      ]
    },
    {
      "cell_type": "code",
      "execution_count": null,
      "id": "8a5cef61",
      "metadata": {
        "id": "8a5cef61",
        "outputId": "6ea7b82c-1d0d-4c21-a684-c5f1f4fb9327"
      },
      "outputs": [
        {
          "name": "stdout",
          "output_type": "stream",
          "text": [
            "ali :(\n"
          ]
        }
      ],
      "source": [
        "(lambda x : print(x, \":(\"))(\"ali\")"
      ]
    },
    {
      "cell_type": "code",
      "execution_count": null,
      "id": "5a3af549",
      "metadata": {
        "id": "5a3af549",
        "outputId": "27c964b2-3a2f-4925-bea6-1e325c1d74e9"
      },
      "outputs": [
        {
          "name": "stdout",
          "output_type": "stream",
          "text": [
            "ali :|\n"
          ]
        }
      ],
      "source": [
        "(lambda x : print(x, \":|\"))(\"ali\")"
      ]
    },
    {
      "cell_type": "code",
      "execution_count": null,
      "id": "ce225b7a",
      "metadata": {
        "id": "ce225b7a"
      },
      "outputs": [],
      "source": [
        "def functioner(emoji) :\n",
        "    return lambda x : print(x, emoji)"
      ]
    },
    {
      "cell_type": "code",
      "execution_count": null,
      "id": "e1de42f2",
      "metadata": {
        "id": "e1de42f2"
      },
      "outputs": [],
      "source": [
        "myPrint_smile = functioner(\":)\")\n",
        "myPrint_sad = functioner(\":(\")\n",
        "myPrint_neutral = functioner(\":|\")"
      ]
    },
    {
      "cell_type": "code",
      "execution_count": null,
      "id": "6f98b881",
      "metadata": {
        "id": "6f98b881",
        "outputId": "c034ffa5-f1a9-4fce-f9ab-95d820d3cab0"
      },
      "outputs": [
        {
          "name": "stdout",
          "output_type": "stream",
          "text": [
            "hello :(\n"
          ]
        }
      ],
      "source": [
        "myPrint_sad(\"hello\")"
      ]
    },
    {
      "cell_type": "code",
      "execution_count": null,
      "id": "ec853f67",
      "metadata": {
        "id": "ec853f67"
      },
      "outputs": [],
      "source": [
        "def function_generator(function_name) :\n",
        "    return lambda x : function_name(x)"
      ]
    },
    {
      "cell_type": "code",
      "execution_count": null,
      "id": "f6d2da11",
      "metadata": {
        "id": "f6d2da11"
      },
      "outputs": [],
      "source": [
        "# ali_print() --> print()\n",
        "# ali_max() --> max()\n",
        "# ali_bool() --> bool()\n",
        "# ali_sorted() --> sorted()"
      ]
    },
    {
      "cell_type": "code",
      "execution_count": null,
      "id": "e3f4a946",
      "metadata": {
        "id": "e3f4a946",
        "outputId": "d6a94d1c-14a8-4309-f650-7f62173b50f7"
      },
      "outputs": [
        {
          "name": "stdout",
          "output_type": "stream",
          "text": [
            "ali veli deli\n"
          ]
        }
      ],
      "source": [
        "(lambda x : print(x))(\"ali veli deli\")"
      ]
    },
    {
      "cell_type": "code",
      "execution_count": null,
      "id": "9d580003",
      "metadata": {
        "id": "9d580003",
        "outputId": "5b638b37-34ad-4b70-ed6e-d27323f2bb00"
      },
      "outputs": [
        {
          "data": {
            "text/plain": [
              "3"
            ]
          },
          "execution_count": 47,
          "metadata": {},
          "output_type": "execute_result"
        }
      ],
      "source": [
        "(lambda x : max(x))((1,2,3))"
      ]
    },
    {
      "cell_type": "code",
      "execution_count": null,
      "id": "062c8dd1",
      "metadata": {
        "id": "062c8dd1",
        "outputId": "ace71577-d57f-40d5-9f8e-130f9cb77027"
      },
      "outputs": [
        {
          "data": {
            "text/plain": [
              "[1, 3, 5]"
            ]
          },
          "execution_count": 49,
          "metadata": {},
          "output_type": "execute_result"
        }
      ],
      "source": [
        "(lambda x : sorted(x))((3,5,1))"
      ]
    },
    {
      "cell_type": "code",
      "execution_count": null,
      "id": "0d2f3e8d",
      "metadata": {
        "id": "0d2f3e8d"
      },
      "outputs": [],
      "source": [
        "joseph_max = function_generator(max)\n",
        "joseph_sorted = function_generator(sorted)"
      ]
    },
    {
      "cell_type": "code",
      "execution_count": null,
      "id": "3c2492a5",
      "metadata": {
        "id": "3c2492a5",
        "outputId": "f1789f54-0652-4d36-8591-841bdb9e67c8"
      },
      "outputs": [
        {
          "data": {
            "text/plain": [
              "22"
            ]
          },
          "execution_count": 52,
          "metadata": {},
          "output_type": "execute_result"
        }
      ],
      "source": [
        "joseph_max((2,22,3))"
      ]
    },
    {
      "cell_type": "code",
      "execution_count": null,
      "id": "4ff9f0ca",
      "metadata": {
        "id": "4ff9f0ca"
      },
      "outputs": [],
      "source": [
        ""
      ]
    },
    {
      "cell_type": "code",
      "execution_count": null,
      "id": "be8c6006",
      "metadata": {
        "id": "be8c6006"
      },
      "outputs": [],
      "source": [
        ""
      ]
    }
  ],
  "metadata": {
    "kernelspec": {
      "display_name": "Python 3",
      "language": "python",
      "name": "python3"
    },
    "language_info": {
      "codemirror_mode": {
        "name": "ipython",
        "version": 3
      },
      "file_extension": ".py",
      "mimetype": "text/x-python",
      "name": "python",
      "nbconvert_exporter": "python",
      "pygments_lexer": "ipython3",
      "version": "3.8.8"
    },
    "colab": {
      "name": "17_PythonBasic_29-November-2021.ipynb",
      "provenance": [],
      "include_colab_link": true
    }
  },
  "nbformat": 4,
  "nbformat_minor": 5
}
