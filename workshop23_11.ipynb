{
  "nbformat": 4,
  "nbformat_minor": 0,
  "metadata": {
    "colab": {
      "name": "workshop23_11.ipynb",
      "provenance": [],
      "authorship_tag": "ABX9TyM0IbEyD3M+AGHiFKeIB5z5",
      "include_colab_link": true
    },
    "kernelspec": {
      "name": "python3",
      "display_name": "Python 3"
    },
    "language_info": {
      "name": "python"
    }
  },
  "cells": [
    {
      "cell_type": "markdown",
      "metadata": {
        "id": "view-in-github",
        "colab_type": "text"
      },
      "source": [
        "<a href=\"https://colab.research.google.com/github/Ozturkmustafa/Ozturkmustafa/blob/main/workshop23_11.ipynb\" target=\"_parent\"><img src=\"https://colab.research.google.com/assets/colab-badge.svg\" alt=\"Open In Colab\"/></a>"
      ]
    },
    {
      "cell_type": "code",
      "metadata": {
        "id": "zbZzZE1AdCHr"
      },
      "source": [
        "def büyük_küçük(yazi):\n",
        "  return yazi.upper() == yazi or yazi.lower() == yazi"
      ],
      "execution_count": null,
      "outputs": []
    },
    {
      "cell_type": "code",
      "metadata": {
        "colab": {
          "base_uri": "https://localhost:8080/"
        },
        "id": "6NqlY2SQdDVQ",
        "outputId": "3ec0dd84-6147-42f8-e0dd-bcc719d45be9"
      },
      "source": [
        "büyük_küçük(\"ali\")"
      ],
      "execution_count": null,
      "outputs": [
        {
          "output_type": "execute_result",
          "data": {
            "text/plain": [
              "True"
            ]
          },
          "metadata": {},
          "execution_count": 2
        }
      ]
    },
    {
      "cell_type": "code",
      "metadata": {
        "colab": {
          "base_uri": "https://localhost:8080/"
        },
        "id": "rB-K2d_jdDYd",
        "outputId": "b956f350-4d97-42b0-d592-6dedc882b4bb"
      },
      "source": [
        "büyük_küçük(\"SALİM\")"
      ],
      "execution_count": null,
      "outputs": [
        {
          "output_type": "execute_result",
          "data": {
            "text/plain": [
              "True"
            ]
          },
          "metadata": {},
          "execution_count": 3
        }
      ]
    },
    {
      "cell_type": "code",
      "metadata": {
        "colab": {
          "base_uri": "https://localhost:8080/"
        },
        "id": "N_b_MnUAdDbK",
        "outputId": "b17b03e9-6d5f-468b-c61a-d5ccfc4a44c1"
      },
      "source": [
        "büyük_küçük(\"Ali\")"
      ],
      "execution_count": null,
      "outputs": [
        {
          "output_type": "execute_result",
          "data": {
            "text/plain": [
              "False"
            ]
          },
          "metadata": {},
          "execution_count": 4
        }
      ]
    },
    {
      "cell_type": "code",
      "metadata": {
        "id": "HmSAcVwPdDd4"
      },
      "source": [
        "def kalansız_bolenler(sayı):\n",
        "  a = []\n",
        "  for i in range(1, sayı+1):\n",
        "    if sayı % i == 0:\n",
        "      a.append(i)\n",
        "\n",
        "  return a"
      ],
      "execution_count": 8,
      "outputs": []
    },
    {
      "cell_type": "code",
      "metadata": {
        "id": "TqEuIBs4dDgV",
        "colab": {
          "base_uri": "https://localhost:8080/"
        },
        "outputId": "05e01dec-e4e9-4b83-8338-b4146745182b"
      },
      "source": [
        "print(kalansız_bolenler(250))"
      ],
      "execution_count": 10,
      "outputs": [
        {
          "output_type": "stream",
          "name": "stdout",
          "text": [
            "[1, 2, 5, 10, 25, 50, 125, 250]\n"
          ]
        }
      ]
    },
    {
      "cell_type": "code",
      "metadata": {
        "id": "4siLUUUEdDi7"
      },
      "source": [
        "def sessiz_yap(cümle):\n",
        "  sesliler = \"aeıioöuüAEIİOÖUÜ\"\n",
        "  for i in set(cümle):\n",
        "    if i in sesliler:\n",
        "      cümle = cümle.replace(i, \" \")\n",
        "\n",
        "  return cümle"
      ],
      "execution_count": 11,
      "outputs": []
    },
    {
      "cell_type": "code",
      "metadata": {
        "id": "pLJ4as03dDlJ"
      },
      "source": [
        "def sessiz_yap(cümle):\n",
        "  sesliler = \"aeıioöuüAEIİOÖUÜ\"\n",
        "  yeni = \"\"\n",
        "  for i in set(cümle):\n",
        "    if i not in sesliler:\n",
        "      yeni += i\n",
        "  return yeni"
      ],
      "execution_count": 13,
      "outputs": []
    },
    {
      "cell_type": "code",
      "metadata": {
        "id": "PsfJ00J1dDnu",
        "colab": {
          "base_uri": "https://localhost:8080/",
          "height": 36
        },
        "outputId": "06774e2a-ec74-4749-ac3d-2bf7c66d77ab"
      },
      "source": [
        "sessiz_yap(\"Hayat beni neen yoruyorsun?\")"
      ],
      "execution_count": 15,
      "outputs": [
        {
          "output_type": "execute_result",
          "data": {
            "application/vnd.google.colaboratory.intrinsic+json": {
              "type": "string"
            },
            "text/plain": [
              "'tyb nrs?H'"
            ]
          },
          "metadata": {},
          "execution_count": 15
        }
      ]
    },
    {
      "cell_type": "code",
      "metadata": {
        "id": "wPxESriHdDqP",
        "colab": {
          "base_uri": "https://localhost:8080/",
          "height": 36
        },
        "outputId": "dcb3af2e-adc2-4ef6-9403-821ee571ea05"
      },
      "source": [
        "sessiz_yap(\"Hayat beni neden yoruyorsun?\")"
      ],
      "execution_count": 16,
      "outputs": [
        {
          "output_type": "execute_result",
          "data": {
            "application/vnd.google.colaboratory.intrinsic+json": {
              "type": "string"
            },
            "text/plain": [
              "'tybd nrs?H'"
            ]
          },
          "metadata": {},
          "execution_count": 16
        }
      ]
    },
    {
      "cell_type": "code",
      "metadata": {
        "id": "DdGJ6EVEdDtA"
      },
      "source": [
        "def yüzyıl_yap(yıl):\n",
        "  return f\"{(yıl//100)+1}.yüzyıl\""
      ],
      "execution_count": 17,
      "outputs": []
    },
    {
      "cell_type": "code",
      "metadata": {
        "id": "PqaANTFXdDvy",
        "colab": {
          "base_uri": "https://localhost:8080/",
          "height": 36
        },
        "outputId": "1c2eb58d-d8ab-4685-909f-d4f6a97c9aaa"
      },
      "source": [
        "yüzyıl_yap(1728)"
      ],
      "execution_count": 19,
      "outputs": [
        {
          "output_type": "execute_result",
          "data": {
            "application/vnd.google.colaboratory.intrinsic+json": {
              "type": "string"
            },
            "text/plain": [
              "'18.yüzyıl'"
            ]
          },
          "metadata": {},
          "execution_count": 19
        }
      ]
    },
    {
      "cell_type": "code",
      "metadata": {
        "id": "sHPaP4V_dDx9"
      },
      "source": [
        "def dönüştür(yazi):\n",
        "  liste = yazi.split()\n",
        "  yeni = \"\"\n",
        "  for i in liste:\n",
        "    for k in range(len(i)):\n",
        "      if k == 0 :\n",
        "        yeni += i[k]\n",
        "      elif k == len(i)-1 :\n",
        "        yeni += i[k] + \" \"\n",
        "      else:\n",
        "        yeni += \"-\"\n",
        "  return yeni.strip()"
      ],
      "execution_count": 24,
      "outputs": []
    },
    {
      "cell_type": "code",
      "metadata": {
        "id": "EZUQJOmUdD0K",
        "colab": {
          "base_uri": "https://localhost:8080/",
          "height": 36
        },
        "outputId": "b1a52ee0-3915-42ef-8d1a-3bd325c5f811"
      },
      "source": [
        "dönüştür(\"hellloooo world\")"
      ],
      "execution_count": 25,
      "outputs": [
        {
          "output_type": "execute_result",
          "data": {
            "application/vnd.google.colaboratory.intrinsic+json": {
              "type": "string"
            },
            "text/plain": [
              "'h-------o w---d'"
            ]
          },
          "metadata": {},
          "execution_count": 25
        }
      ]
    },
    {
      "cell_type": "code",
      "metadata": {
        "id": "BHtH2hs5dD2R",
        "colab": {
          "base_uri": "https://localhost:8080/"
        },
        "outputId": "5b97f075-5850-4dde-922d-73e73ef71b1b"
      },
      "source": [
        "kelime = \"Hello world\" # input(\"Lütfen bir cümle girin : \")\n",
        "kelime = list(kelime.split())\n",
        "n_kelime = \"\"\n",
        "for i in kelime:\n",
        "  n_kelime += i[0]+(len(i)-2)*\"-\"+i[-1]+\" \"\n",
        "print(n_kelime)"
      ],
      "execution_count": 26,
      "outputs": [
        {
          "output_type": "stream",
          "name": "stdout",
          "text": [
            "H---o w---d \n"
          ]
        }
      ]
    },
    {
      "cell_type": "code",
      "metadata": {
        "id": "rdSh_NEadD40",
        "colab": {
          "base_uri": "https://localhost:8080/"
        },
        "outputId": "51a3e1f0-94b5-4c90-9480-b8a6888825cd"
      },
      "source": [
        "kelime = \"abow ne olur\" # input(\"Lütfen bir cümle girin : \")\n",
        "kelime = list(kelime.split())\n",
        "n_kelime = \"\"\n",
        "for i in kelime:\n",
        "  n_kelime += i[0]+(len(i)-2)*\"-\"+i[-1]+\" \"\n",
        "print(n_kelime)"
      ],
      "execution_count": 27,
      "outputs": [
        {
          "output_type": "stream",
          "name": "stdout",
          "text": [
            "a--w ne o--r \n"
          ]
        }
      ]
    },
    {
      "cell_type": "code",
      "metadata": {
        "id": "fTcOe_u5dD7R"
      },
      "source": [
        "def benzersizi_bul(a):\n",
        "  b = \"\"\n",
        "  n = []\n",
        "  for i in a:\n",
        "    b += str(i)\n",
        "  for i in set(b):\n",
        "    for j in a:\n",
        "      if b.count(i) == 1 and i in str(j):\n",
        "        n.append(j)\n",
        "  return list(set(n))"
      ],
      "execution_count": 31,
      "outputs": []
    },
    {
      "cell_type": "code",
      "metadata": {
        "id": "YfcPZeWydD95",
        "colab": {
          "base_uri": "https://localhost:8080/"
        },
        "outputId": "e3876f7b-bfa6-4631-bf02-bd9c16e5a6b1"
      },
      "source": [
        "benzersizi_bul([9,2,2,3,4,4,11,5,67,5])"
      ],
      "execution_count": 35,
      "outputs": [
        {
          "output_type": "execute_result",
          "data": {
            "text/plain": [
              "[3, 9, 67]"
            ]
          },
          "metadata": {},
          "execution_count": 35
        }
      ]
    },
    {
      "cell_type": "code",
      "metadata": {
        "id": "nhGZV5SWdEA4",
        "colab": {
          "base_uri": "https://localhost:8080/"
        },
        "outputId": "419faffc-b88e-4f7b-ec33-c85a7921fe13"
      },
      "source": [
        "a = [2,2,3,11,3,6,5]\n",
        "b = \"\"\n",
        "liste = []\n",
        "for i in a:\n",
        "    b+= str(i)\n",
        "for i in b:\n",
        "    if b.count(i) <=1:\n",
        "        liste.append(int(i))\n",
        "print(liste)"
      ],
      "execution_count": 28,
      "outputs": [
        {
          "output_type": "stream",
          "name": "stdout",
          "text": [
            "[6, 5]\n"
          ]
        }
      ]
    },
    {
      "cell_type": "code",
      "metadata": {
        "colab": {
          "base_uri": "https://localhost:8080/"
        },
        "id": "UNE54nY7h34h",
        "outputId": "9db6fc25-6b5f-4d5a-9110-1630c386a2c6"
      },
      "source": [
        "a = [2,2,3,11,3,6,5]\n",
        "c = list(map(str, a))\n",
        "c"
      ],
      "execution_count": 37,
      "outputs": [
        {
          "output_type": "execute_result",
          "data": {
            "text/plain": [
              "['2', '2', '3', '11', '3', '6', '5']"
            ]
          },
          "metadata": {},
          "execution_count": 37
        }
      ]
    },
    {
      "cell_type": "code",
      "metadata": {
        "id": "ZKJXy7eJh5h7"
      },
      "source": [
        "def çıkar(kelime):\n",
        "  yeni = \"\"\n",
        "  for i in range(len(kelime)-1):\n",
        "    if kelime[i] != kelime[i+1]:\n",
        "      yeni += kelime[i]\n",
        "  yeni += kelime[-1]\n",
        "  return yeni    "
      ],
      "execution_count": 38,
      "outputs": []
    },
    {
      "cell_type": "code",
      "metadata": {
        "colab": {
          "base_uri": "https://localhost:8080/",
          "height": 36
        },
        "id": "yzSYOcu6h5nV",
        "outputId": "f1fadf60-90e5-48fd-8688-f674160d0ce4"
      },
      "source": [
        "çıkar(\"mmmmmmeeeerrrrrrhhaabbbbaaaaa\")"
      ],
      "execution_count": 39,
      "outputs": [
        {
          "output_type": "execute_result",
          "data": {
            "application/vnd.google.colaboratory.intrinsic+json": {
              "type": "string"
            },
            "text/plain": [
              "'merhaba'"
            ]
          },
          "metadata": {},
          "execution_count": 39
        }
      ]
    },
    {
      "cell_type": "code",
      "metadata": {
        "id": "7UzVxtnoh5qz"
      },
      "source": [
        "def kaç_tane(başlangıç, bitiş, sayı):\n",
        "  sonuç = 0\n",
        "  for i in range(başlangıç,bitiş + 1):\n",
        "    sonuç += str(i).count(str(sayı))\n",
        "  return sayı  "
      ],
      "execution_count": 43,
      "outputs": []
    },
    {
      "cell_type": "code",
      "metadata": {
        "colab": {
          "base_uri": "https://localhost:8080/"
        },
        "id": "5Arsv8S6h5y6",
        "outputId": "8af46d04-da7a-4942-fb31-8143628594fe"
      },
      "source": [
        "kaç_tane(50, 55, 5)"
      ],
      "execution_count": 44,
      "outputs": [
        {
          "output_type": "execute_result",
          "data": {
            "text/plain": [
              "5"
            ]
          },
          "metadata": {},
          "execution_count": 44
        }
      ]
    },
    {
      "cell_type": "code",
      "metadata": {
        "id": "BH_dHf5Jh51l"
      },
      "source": [
        "def agac(n):\n",
        "  for i in range(1,2*n,2):\n",
        "    print((i*\"#\").center(2*n-1))"
      ],
      "execution_count": 45,
      "outputs": []
    },
    {
      "cell_type": "code",
      "metadata": {
        "colab": {
          "base_uri": "https://localhost:8080/"
        },
        "id": "FDrM84CDh545",
        "outputId": "a683f281-6a4c-4799-c65e-58f048b80c4c"
      },
      "source": [
        "agac(9)"
      ],
      "execution_count": 46,
      "outputs": [
        {
          "output_type": "stream",
          "name": "stdout",
          "text": [
            "        #        \n",
            "       ###       \n",
            "      #####      \n",
            "     #######     \n",
            "    #########    \n",
            "   ###########   \n",
            "  #############  \n",
            " ############### \n",
            "#################\n"
          ]
        }
      ]
    },
    {
      "cell_type": "code",
      "metadata": {
        "id": "50UZs-tHh58B"
      },
      "source": [
        "def agac1(n):\n",
        "  i = 1\n",
        "  while i <= 2*n-1:\n",
        "    print((i*\"#\").center(2*n-1))\n",
        "    i += 2"
      ],
      "execution_count": 47,
      "outputs": []
    },
    {
      "cell_type": "code",
      "metadata": {
        "colab": {
          "base_uri": "https://localhost:8080/"
        },
        "id": "ouaik9NLh5-x",
        "outputId": "d70145d7-92d9-4ae1-fa36-bb67597ca80a"
      },
      "source": [
        "agac1(8)"
      ],
      "execution_count": 48,
      "outputs": [
        {
          "output_type": "stream",
          "name": "stdout",
          "text": [
            "       #       \n",
            "      ###      \n",
            "     #####     \n",
            "    #######    \n",
            "   #########   \n",
            "  ###########  \n",
            " ############# \n",
            "###############\n"
          ]
        }
      ]
    },
    {
      "cell_type": "code",
      "metadata": {
        "id": "B-EZwJx6h6Bf"
      },
      "source": [
        ""
      ],
      "execution_count": null,
      "outputs": []
    },
    {
      "cell_type": "code",
      "metadata": {
        "id": "GHDUNDQfh6Eg"
      },
      "source": [
        ""
      ],
      "execution_count": null,
      "outputs": []
    },
    {
      "cell_type": "code",
      "metadata": {
        "id": "aBtFXBAqh6HR"
      },
      "source": [
        ""
      ],
      "execution_count": null,
      "outputs": []
    },
    {
      "cell_type": "code",
      "metadata": {
        "id": "Yt8Yrwuvh6J3"
      },
      "source": [
        ""
      ],
      "execution_count": null,
      "outputs": []
    },
    {
      "cell_type": "code",
      "metadata": {
        "id": "AA2NRwQ5h6Ma"
      },
      "source": [
        ""
      ],
      "execution_count": null,
      "outputs": []
    },
    {
      "cell_type": "code",
      "metadata": {
        "id": "GN_ZNp9mh6PW"
      },
      "source": [
        ""
      ],
      "execution_count": null,
      "outputs": []
    },
    {
      "cell_type": "code",
      "metadata": {
        "id": "cofyRWCHh6R8"
      },
      "source": [
        ""
      ],
      "execution_count": null,
      "outputs": []
    },
    {
      "cell_type": "code",
      "metadata": {
        "id": "jZliS-BPh6VH"
      },
      "source": [
        ""
      ],
      "execution_count": null,
      "outputs": []
    },
    {
      "cell_type": "code",
      "metadata": {
        "id": "1QoZCRzqh6YI"
      },
      "source": [
        ""
      ],
      "execution_count": null,
      "outputs": []
    },
    {
      "cell_type": "code",
      "metadata": {
        "id": "i8bTRxXch6bT"
      },
      "source": [
        ""
      ],
      "execution_count": null,
      "outputs": []
    },
    {
      "cell_type": "code",
      "metadata": {
        "id": "8DesEVrdh6eb"
      },
      "source": [
        ""
      ],
      "execution_count": null,
      "outputs": []
    },
    {
      "cell_type": "code",
      "metadata": {
        "id": "QTxQpiYfh6ha"
      },
      "source": [
        ""
      ],
      "execution_count": null,
      "outputs": []
    },
    {
      "cell_type": "code",
      "metadata": {
        "id": "D5uVNiASh6kV"
      },
      "source": [
        ""
      ],
      "execution_count": null,
      "outputs": []
    },
    {
      "cell_type": "code",
      "metadata": {
        "id": "Xk8IqLz-h6n4"
      },
      "source": [
        ""
      ],
      "execution_count": null,
      "outputs": []
    },
    {
      "cell_type": "code",
      "metadata": {
        "id": "SR4nSCLVh6q5"
      },
      "source": [
        ""
      ],
      "execution_count": null,
      "outputs": []
    },
    {
      "cell_type": "code",
      "metadata": {
        "id": "nDFaKel_h6tt"
      },
      "source": [
        ""
      ],
      "execution_count": null,
      "outputs": []
    },
    {
      "cell_type": "code",
      "metadata": {
        "id": "hrmJqwEmh6wf"
      },
      "source": [
        ""
      ],
      "execution_count": null,
      "outputs": []
    },
    {
      "cell_type": "code",
      "metadata": {
        "id": "4TxUFaRLh6zH"
      },
      "source": [
        ""
      ],
      "execution_count": null,
      "outputs": []
    },
    {
      "cell_type": "code",
      "metadata": {
        "id": "yFZZYMUlh62C"
      },
      "source": [
        ""
      ],
      "execution_count": null,
      "outputs": []
    },
    {
      "cell_type": "code",
      "metadata": {
        "id": "9RMiu0s6h65J"
      },
      "source": [
        ""
      ],
      "execution_count": null,
      "outputs": []
    },
    {
      "cell_type": "code",
      "metadata": {
        "id": "TpkQAhjCh68O"
      },
      "source": [
        ""
      ],
      "execution_count": null,
      "outputs": []
    },
    {
      "cell_type": "code",
      "metadata": {
        "id": "SqMY245wh7AZ"
      },
      "source": [
        ""
      ],
      "execution_count": null,
      "outputs": []
    },
    {
      "cell_type": "code",
      "metadata": {
        "id": "Lwqwbpr6h7FV"
      },
      "source": [
        ""
      ],
      "execution_count": null,
      "outputs": []
    },
    {
      "cell_type": "code",
      "metadata": {
        "id": "C4JraZO1h7JP"
      },
      "source": [
        ""
      ],
      "execution_count": null,
      "outputs": []
    },
    {
      "cell_type": "code",
      "metadata": {
        "id": "8CIBmDNlh7Me"
      },
      "source": [
        ""
      ],
      "execution_count": null,
      "outputs": []
    },
    {
      "cell_type": "code",
      "metadata": {
        "id": "_naydqcch7QF"
      },
      "source": [
        ""
      ],
      "execution_count": null,
      "outputs": []
    },
    {
      "cell_type": "code",
      "metadata": {
        "id": "x6VgOhJ1h7S8"
      },
      "source": [
        ""
      ],
      "execution_count": null,
      "outputs": []
    },
    {
      "cell_type": "code",
      "metadata": {
        "id": "PL0ozM1Fh7WJ"
      },
      "source": [
        ""
      ],
      "execution_count": null,
      "outputs": []
    },
    {
      "cell_type": "code",
      "metadata": {
        "id": "sOysSAXlh7ZZ"
      },
      "source": [
        ""
      ],
      "execution_count": null,
      "outputs": []
    },
    {
      "cell_type": "code",
      "metadata": {
        "id": "8GslzDP7h7ce"
      },
      "source": [
        ""
      ],
      "execution_count": null,
      "outputs": []
    },
    {
      "cell_type": "code",
      "metadata": {
        "id": "izEjiDGbh7go"
      },
      "source": [
        ""
      ],
      "execution_count": null,
      "outputs": []
    },
    {
      "cell_type": "code",
      "metadata": {
        "id": "2cCtIw9lh7kW"
      },
      "source": [
        ""
      ],
      "execution_count": null,
      "outputs": []
    },
    {
      "cell_type": "code",
      "metadata": {
        "id": "-0LL9Vsph7nO"
      },
      "source": [
        ""
      ],
      "execution_count": null,
      "outputs": []
    }
  ]
}