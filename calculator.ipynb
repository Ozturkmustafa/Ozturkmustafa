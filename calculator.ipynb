{
  "nbformat": 4,
  "nbformat_minor": 0,
  "metadata": {
    "colab": {
      "name": "calculator.ipynb",
      "provenance": [],
      "authorship_tag": "ABX9TyOqOvUaO5SAO1d5bynWjZjw",
      "include_colab_link": true
    },
    "kernelspec": {
      "name": "python3",
      "display_name": "Python 3"
    },
    "language_info": {
      "name": "python"
    }
  },
  "cells": [
    {
      "cell_type": "markdown",
      "metadata": {
        "id": "view-in-github",
        "colab_type": "text"
      },
      "source": [
        "<a href=\"https://colab.research.google.com/github/Ozturkmustafa/Ozturkmustafa/blob/main/calculator.ipynb\" target=\"_parent\"><img src=\"https://colab.research.google.com/assets/colab-badge.svg\" alt=\"Open In Colab\"/></a>"
      ]
    },
    {
      "cell_type": "code",
      "execution_count": null,
      "metadata": {
        "id": "2Yp_AJIfWqR6"
      },
      "outputs": [],
      "source": [
        "def calculator():\n",
        "    operation=input().split()\n",
        "    a,o,b=int(operation[0]),operation[1],int(operation[2])\n",
        "    \n",
        "    if o=='+':\n",
        "        return a+b\n",
        "    elif o=='-':\n",
        "        return a-b\n",
        "    elif o=='*':\n",
        "        return a*b\n",
        "    elif o=='/':\n",
        "        return a/b\n",
        "    else:\n",
        "        return ('Please enter a valid operator sign')"
      ]
    },
    {
      "cell_type": "code",
      "source": [
        "calculator()"
      ],
      "metadata": {
        "colab": {
          "base_uri": "https://localhost:8080/"
        },
        "id": "iap28AczWxvZ",
        "outputId": "ce980729-98d6-41ba-8e72-62aad46c7ce9"
      },
      "execution_count": null,
      "outputs": [
        {
          "name": "stdout",
          "output_type": "stream",
          "text": [
            "54 * 5\n"
          ]
        },
        {
          "output_type": "execute_result",
          "data": {
            "text/plain": [
              "270"
            ]
          },
          "metadata": {},
          "execution_count": 3
        }
      ]
    }
  ]
}