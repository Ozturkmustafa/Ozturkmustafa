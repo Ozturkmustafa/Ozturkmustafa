{
  "nbformat": 4,
  "nbformat_minor": 0,
  "metadata": {
    "colab": {
      "name": "check-consecutive-vowels.ipynb",
      "provenance": [],
      "authorship_tag": "ABX9TyPj+6ZEvNoUrGsuFbAJ5jsx",
      "include_colab_link": true
    },
    "kernelspec": {
      "name": "python3",
      "display_name": "Python 3"
    },
    "language_info": {
      "name": "python"
    }
  },
  "cells": [
    {
      "cell_type": "markdown",
      "metadata": {
        "id": "view-in-github",
        "colab_type": "text"
      },
      "source": [
        "<a href=\"https://colab.research.google.com/github/Ozturkmustafa/Ozturkmustafa/blob/main/check_consecutive_vowels.ipynb\" target=\"_parent\"><img src=\"https://colab.research.google.com/assets/colab-badge.svg\" alt=\"Open In Colab\"/></a>"
      ]
    },
    {
      "cell_type": "code",
      "execution_count": 1,
      "metadata": {
        "colab": {
          "base_uri": "https://localhost:8080/"
        },
        "id": "6_MiTGxBs-xf",
        "outputId": "62831959-0721-42f2-a7f0-201eb63a63ed"
      },
      "outputs": [
        {
          "output_type": "stream",
          "name": "stdout",
          "text": [
            "Please enter a string: asdhjg\n",
            "Negative\n"
          ]
        }
      ],
      "source": [
        "word = input(\"Please enter a string: \")\n",
        "word = word.lower()\n",
        "\n",
        "vowels = [\"a\", \"e\", \"i\", \"o\", \"u\"]\n",
        "exist = False\n",
        "\n",
        "for i in range(len(word)-1):\n",
        "  if word[i] in vowels:\n",
        "    if word[i+1] in vowels:\n",
        "      exist = True\n",
        "      break\n",
        "      \n",
        "if exist:\n",
        "  print(\"Positive\")\n",
        "else:\n",
        "  print(\"Negative\")\n",
        "\n"
      ]
    }
  ]
}