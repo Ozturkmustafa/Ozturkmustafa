{
  "nbformat": 4,
  "nbformat_minor": 0,
  "metadata": {
    "colab": {
      "name": "basic.ipynb",
      "provenance": [],
      "authorship_tag": "ABX9TyMDKQeS0jYhWVWwy0PmQPzK",
      "include_colab_link": true
    },
    "kernelspec": {
      "name": "python3",
      "display_name": "Python 3"
    },
    "language_info": {
      "name": "python"
    }
  },
  "cells": [
    {
      "cell_type": "markdown",
      "metadata": {
        "id": "view-in-github",
        "colab_type": "text"
      },
      "source": [
        "<a href=\"https://colab.research.google.com/github/Ozturkmustafa/Ozturkmustafa/blob/main/basic.ipynb\" target=\"_parent\"><img src=\"https://colab.research.google.com/assets/colab-badge.svg\" alt=\"Open In Colab\"/></a>"
      ]
    },
    {
      "cell_type": "code",
      "execution_count": 1,
      "metadata": {
        "id": "kEzl_FMJa_7Z"
      },
      "outputs": [],
      "source": [
        "def not_string(word):\n",
        "    if \"not\" in word:\n",
        "        return word\n",
        "    else:\n",
        "        return \"not \"+word"
      ]
    },
    {
      "cell_type": "code",
      "source": [
        "print(not_string('not bad'))"
      ],
      "metadata": {
        "colab": {
          "base_uri": "https://localhost:8080/"
        },
        "id": "A6zkwEp4bVNj",
        "outputId": "6471e526-9e10-4cf9-8d39-bdf53cef772b"
      },
      "execution_count": 2,
      "outputs": [
        {
          "output_type": "stream",
          "name": "stdout",
          "text": [
            "not bad\n"
          ]
        }
      ]
    },
    {
      "cell_type": "code",
      "source": [
        "print(not_string('x'))"
      ],
      "metadata": {
        "colab": {
          "base_uri": "https://localhost:8080/"
        },
        "id": "7JpH1wfBbVRR",
        "outputId": "f111dbe3-ba02-4bc0-ba7d-1c378019d954"
      },
      "execution_count": 3,
      "outputs": [
        {
          "output_type": "stream",
          "name": "stdout",
          "text": [
            "not x\n"
          ]
        }
      ]
    },
    {
      "cell_type": "code",
      "source": [
        "print(not_string('sugar'))"
      ],
      "metadata": {
        "colab": {
          "base_uri": "https://localhost:8080/"
        },
        "id": "u3nZ9Ma9bVUP",
        "outputId": "40fe1933-9b0b-47fa-9c17-50ff6d8397bf"
      },
      "execution_count": 4,
      "outputs": [
        {
          "output_type": "stream",
          "name": "stdout",
          "text": [
            "not sugar\n"
          ]
        }
      ]
    },
    {
      "cell_type": "code",
      "source": [
        "n = \"kitchen\"\n",
        "print(n.strip(n[1]))"
      ],
      "metadata": {
        "colab": {
          "base_uri": "https://localhost:8080/"
        },
        "id": "UOO8olshbVhH",
        "outputId": "03cb9788-37d1-4b19-ed50-d7b97b0825a7"
      },
      "execution_count": 5,
      "outputs": [
        {
          "output_type": "stream",
          "name": "stdout",
          "text": [
            "kitchen\n"
          ]
        }
      ]
    },
    {
      "cell_type": "code",
      "source": [
        "n = \"kitchen\"\n",
        "m = list(n)\n",
        "del m[1]\n",
        "print(\"\".join(m))"
      ],
      "metadata": {
        "colab": {
          "base_uri": "https://localhost:8080/"
        },
        "id": "2MK-gP_kbVjv",
        "outputId": "887ebf42-e9f2-4de8-84f8-da57d5a68618"
      },
      "execution_count": 6,
      "outputs": [
        {
          "output_type": "stream",
          "name": "stdout",
          "text": [
            "ktchen\n"
          ]
        }
      ]
    },
    {
      "cell_type": "code",
      "source": [
        "def missing_char(word, n):\n",
        "    word1 = list(word)\n",
        "    del word1[n]\n",
        "    return \"\".join(word1)"
      ],
      "metadata": {
        "id": "PD--GQt5bVmn"
      },
      "execution_count": 7,
      "outputs": []
    },
    {
      "cell_type": "code",
      "source": [
        "print(missing_char('kitchen', 4))"
      ],
      "metadata": {
        "colab": {
          "base_uri": "https://localhost:8080/"
        },
        "id": "EtSF24nGbVp4",
        "outputId": "8307b058-ad1f-416e-ac4b-2421a5d8d56f"
      },
      "execution_count": 8,
      "outputs": [
        {
          "output_type": "stream",
          "name": "stdout",
          "text": [
            "kitcen\n"
          ]
        }
      ]
    },
    {
      "cell_type": "code",
      "source": [
        ""
      ],
      "metadata": {
        "id": "Pu7fLXNjbVtg"
      },
      "execution_count": null,
      "outputs": []
    },
    {
      "cell_type": "code",
      "source": [
        ""
      ],
      "metadata": {
        "id": "wBeir32VbBGl"
      },
      "execution_count": null,
      "outputs": []
    },
    {
      "cell_type": "code",
      "source": [
        ""
      ],
      "metadata": {
        "id": "QMCr91cBbBL5"
      },
      "execution_count": null,
      "outputs": []
    },
    {
      "cell_type": "code",
      "source": [
        ""
      ],
      "metadata": {
        "id": "nkFHGxvlbBQg"
      },
      "execution_count": null,
      "outputs": []
    },
    {
      "cell_type": "code",
      "source": [
        ""
      ],
      "metadata": {
        "id": "EXcANrnDbBUW"
      },
      "execution_count": null,
      "outputs": []
    }
  ]
}