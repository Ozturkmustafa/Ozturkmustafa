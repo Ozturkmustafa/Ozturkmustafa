{
  "nbformat": 4,
  "nbformat_minor": 0,
  "metadata": {
    "colab": {
      "name": "youtube_çalışma.ipynb",
      "provenance": [],
      "authorship_tag": "ABX9TyPSS73MQ6Pk0UcVP04vP8ah",
      "include_colab_link": true
    },
    "kernelspec": {
      "name": "python3",
      "display_name": "Python 3"
    },
    "language_info": {
      "name": "python"
    }
  },
  "cells": [
    {
      "cell_type": "markdown",
      "metadata": {
        "id": "view-in-github",
        "colab_type": "text"
      },
      "source": [
        "<a href=\"https://colab.research.google.com/github/Ozturkmustafa/Ozturkmustafa/blob/main/youtube_working.ipynb\" target=\"_parent\"><img src=\"https://colab.research.google.com/assets/colab-badge.svg\" alt=\"Open In Colab\"/></a>"
      ]
    },
    {
      "cell_type": "code",
      "metadata": {
        "colab": {
          "base_uri": "https://localhost:8080/"
        },
        "id": "OkynpRlLmJ6P",
        "outputId": "c9760f85-1580-4bc3-d43e-7274e318af30"
      },
      "source": [
        "\n",
        "hava_durumu = input('hava durumunu giriniz:?')\n",
        "if hava_durumu == \"yağışlı\":\n",
        "  print('şemsiyeni al')\n",
        "elif hava_durumu == \"karlı\":\n",
        "  print('atkını al')\n",
        "else:\n",
        "  print('keyfine bak')\n",
        "\n",
        "\n",
        "\n"
      ],
      "execution_count": null,
      "outputs": [
        {
          "output_type": "stream",
          "name": "stdout",
          "text": [
            "hava durumunu giriniz:?yağışlı\n",
            "şemsiyeni al\n"
          ]
        }
      ]
    },
    {
      "cell_type": "code",
      "metadata": {
        "colab": {
          "base_uri": "https://localhost:8080/"
        },
        "id": "Y0M6rSzxmXZO",
        "outputId": "1f9b28f3-16df-458b-d016-6d281c88273e"
      },
      "source": [
        "hava_durumu = input('hava durumunu giriniz:?')\n",
        "if hava_durumu == \"yağışlı\":\n",
        "  print('şemsiyeni al')\n",
        "elif hava_durumu == \"karlı\":\n",
        "  print('atkını al')\n",
        "else:\n",
        "  print('keyfine bak')"
      ],
      "execution_count": null,
      "outputs": [
        {
          "output_type": "stream",
          "name": "stdout",
          "text": [
            "hava durumunu giriniz:?karlı\n",
            "atkını al\n"
          ]
        }
      ]
    },
    {
      "cell_type": "code",
      "metadata": {
        "colab": {
          "base_uri": "https://localhost:8080/"
        },
        "id": "hqUpi_b1oRrl",
        "outputId": "10395a3e-897e-421c-9137-15c4fd4f4437"
      },
      "source": [
        "liste = [\"a\", \"b\", \"c\", \"d\"]\n",
        "\n",
        "hedef_harf = input(\"harf giriniz:\")\n",
        "if hedef_harf in liste:\n",
        "  print(\"buldum\")\n",
        "else:\n",
        "  print(\"mevcut değil\")\n",
        "  print(\"listeye ekledim\", liste.append(hedef_harf))\n",
        "  print(\"güncel liste {}\".format(liste))"
      ],
      "execution_count": null,
      "outputs": [
        {
          "output_type": "stream",
          "name": "stdout",
          "text": [
            "harf giriniz:f\n",
            "mevcut değil\n",
            "listeye ekledim None\n",
            "güncel liste ['a', 'b', 'c', 'd', 'f']\n"
          ]
        }
      ]
    },
    {
      "cell_type": "code",
      "metadata": {
        "id": "hl5SuZgcpacJ",
        "colab": {
          "base_uri": "https://localhost:8080/"
        },
        "outputId": "c52fbf7d-eefd-499e-dcf5-825219bf512f"
      },
      "source": [
        "list = [\"ahmet\", \"mehmet\",\"ali\",\"veli\"]\n",
        "for kullanıcı in list:\n",
        "  print(kullanıcı)"
      ],
      "execution_count": null,
      "outputs": [
        {
          "output_type": "stream",
          "name": "stdout",
          "text": [
            "ahmet\n",
            "mehmet\n",
            "ali\n",
            "veli\n"
          ]
        }
      ]
    },
    {
      "cell_type": "code",
      "metadata": {
        "colab": {
          "base_uri": "https://localhost:8080/"
        },
        "id": "XpxnQo0mrW7O",
        "outputId": "978e8501-a0f6-4f7b-b365-10e67ad95c2b"
      },
      "source": [
        "kullanıcı_sayısı = 0\n",
        "for kullanıcı in list:\n",
        "  kullanıcı_sayısı = kullanıcı_sayısı + 1\n",
        "  print(kullanıcı_sayısı, kullanıcı)\n",
        "\n",
        "  if kullanıcı == 'ahmet':\n",
        "    print(\"oley\")\n",
        "  elif kullanıcı == 'mehmet':\n",
        "    print(\"yaşa\")\n",
        "  elif kullanıcı == 'ali':\n",
        "    print(\"oleeeyyyy\")\n",
        "  else:\n",
        "    print(\"haydaaaaa\")  \n"
      ],
      "execution_count": null,
      "outputs": [
        {
          "output_type": "stream",
          "name": "stdout",
          "text": [
            "1 ahmet\n",
            "oley\n",
            "2 mehmet\n",
            "yaşa\n",
            "3 ali\n",
            "oleeeyyyy\n",
            "4 veli\n",
            "haydaaaaa\n"
          ]
        }
      ]
    },
    {
      "cell_type": "code",
      "metadata": {
        "id": "Tf4eFrr3rW9-"
      },
      "source": [
        ""
      ],
      "execution_count": null,
      "outputs": []
    },
    {
      "cell_type": "code",
      "metadata": {
        "id": "PuPOPS8grXAo"
      },
      "source": [
        ""
      ],
      "execution_count": null,
      "outputs": []
    },
    {
      "cell_type": "code",
      "metadata": {
        "id": "4hLE9ATWrXC8"
      },
      "source": [
        ""
      ],
      "execution_count": null,
      "outputs": []
    },
    {
      "cell_type": "code",
      "metadata": {
        "id": "bS7EW6LyrXFG"
      },
      "source": [
        ""
      ],
      "execution_count": null,
      "outputs": []
    },
    {
      "cell_type": "code",
      "metadata": {
        "id": "BK0kmFEarXHa"
      },
      "source": [
        ""
      ],
      "execution_count": null,
      "outputs": []
    },
    {
      "cell_type": "code",
      "metadata": {
        "id": "UANEg53wrXJk"
      },
      "source": [
        ""
      ],
      "execution_count": null,
      "outputs": []
    },
    {
      "cell_type": "code",
      "metadata": {
        "id": "ZkZla0rVrXLp"
      },
      "source": [
        ""
      ],
      "execution_count": null,
      "outputs": []
    },
    {
      "cell_type": "code",
      "metadata": {
        "id": "ea2Nx5jYrXN_"
      },
      "source": [
        ""
      ],
      "execution_count": null,
      "outputs": []
    },
    {
      "cell_type": "code",
      "metadata": {
        "id": "mI4TnVgkrXQX"
      },
      "source": [
        ""
      ],
      "execution_count": null,
      "outputs": []
    },
    {
      "cell_type": "code",
      "metadata": {
        "id": "HFPXv72OrXTA"
      },
      "source": [
        ""
      ],
      "execution_count": null,
      "outputs": []
    },
    {
      "cell_type": "code",
      "metadata": {
        "id": "H7wuqdJirXVV"
      },
      "source": [
        ""
      ],
      "execution_count": null,
      "outputs": []
    },
    {
      "cell_type": "code",
      "metadata": {
        "id": "gW5Axw6wrXX6"
      },
      "source": [
        ""
      ],
      "execution_count": null,
      "outputs": []
    }
  ]
}