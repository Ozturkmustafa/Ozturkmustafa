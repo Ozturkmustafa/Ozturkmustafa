{
  "cells": [
    {
      "cell_type": "markdown",
      "metadata": {
        "id": "view-in-github",
        "colab_type": "text"
      },
      "source": [
        "<a href=\"https://colab.research.google.com/github/Ozturkmustafa/Ozturkmustafa/blob/main/palindrom_sudoku.ipynb\" target=\"_parent\"><img src=\"https://colab.research.google.com/assets/colab-badge.svg\" alt=\"Open In Colab\"/></a>"
      ]
    },
    {
      "cell_type": "markdown",
      "metadata": {
        "id": "-9ZDOjUKTVF5"
      },
      "source": [
        "## Coding Challenge -1 : Palindrome\n",
        "\n",
        "Purpose of the this coding challenge is to solve a control flow statements issue.\n",
        "\n",
        "### Learning Outcomes\n",
        "\n",
        "At the end of the this coding challenge, students will be able to;\n",
        "\n",
        "- understand the use of loops.\n",
        "- understand the importance of alphanumeric string methods.\n",
        "- get a better understanding in manipulating strings.\n",
        "\n",
        "### Problem Statement\n",
        "  \n",
        "- Write a function/functions that checks whether the sentence you get from the user is a **palindrome**. (Do not consider punctuation and special characters. Only consider \"***alphanumeric***\" characters.)\n",
        "\n",
        "\n",
        "```bash\n",
        "input : \"ey edip adana'da, pide ye!\"\n",
        "\n",
        "output : \"ey edip adana'da, pide ye!\" is a palindrome\n",
        "\n",
        "input : \"Was it a car or a cat I saw?\"\n",
        "\n",
        "output : \"Was it a car or a cat I saw?\" is a palindrome\n",
        "```"
      ]
    },
    {
      "cell_type": "markdown",
      "metadata": {
        "id": "VWWmUbbzTVF9"
      },
      "source": [
        "### Solution :"
      ]
    },
    {
      "cell_type": "code",
      "execution_count": null,
      "metadata": {
        "id": "7PtVRddxTVGA",
        "outputId": "6bee1d59-9ca9-48df-e57f-b99006b99a2c"
      },
      "outputs": [
        {
          "name": "stdout",
          "output_type": "stream",
          "text": [
            "WasitacaroracatIsaw\n",
            "'Was it a car or a cat I saw?' is a palindrome\n"
          ]
        }
      ],
      "source": [
        "def is_palindrome(string):\n",
        "    # backwards = string[::-1]\n",
        "    # return backwards == string\n",
        "    return string[::-1].casefold() == string.casefold()\n",
        "\n",
        "\n",
        "def palindrome_sentence(sentence):\n",
        "    string = \"\"\n",
        "    for char in sentence:\n",
        "        if char.isalnum():\n",
        "            string += char\n",
        "    print(string)\n",
        "    # return string[::-1].casefold() == string.casefold()\n",
        "    return is_palindrome(string)\n",
        "\n",
        "word = input(\"Please enter a word to check: \")\n",
        "if palindrome_sentence(word):\n",
        "    print(\"'{}' is a palindrome\".format(word))\n",
        "else:\n",
        "    print(\"'{}' is not a palindrome\".format(word))"
      ]
    },
    {
      "cell_type": "code",
      "execution_count": null,
      "metadata": {
        "id": "Zsy4n-kkTVGH"
      },
      "outputs": [],
      "source": [
        "  # Yusuf Hocamın çözümü.\n",
        "def palindrome(text):\n",
        "    n_text = \"\".join([x.lower() for x in text if x.isalnum()])\n",
        "    print(n_text)\n",
        "    if n_text == n_text[::-1]:\n",
        "        print(text, \"--> is a palindrome\")\n",
        "    else:\n",
        "        print(text, \"--> is not a palindrome\")\n",
        "palindrome(\"Was it a car or a cat I saw?\")"
      ]
    },
    {
      "cell_type": "code",
      "execution_count": null,
      "metadata": {
        "id": "iVWZ7CRITVGJ"
      },
      "outputs": [],
      "source": [
        "  # Yücel çözüm.\n",
        "def palindrom():\n",
        "  sent = input(\"Write a sentence to check if it is Palindrom : \")\n",
        "  sent1 = sent.lower()\n",
        "  for i in sent1:\n",
        "    if not i.isalnum():\n",
        "      sent1 = sent1.replace(i, \"\")\n",
        "  sent_reverse = sent1[::-1]\n",
        "  if sent1 == sent_reverse:\n",
        "    print(\"'\" + sent + \"'\" + \"is a palindrom.\")\n",
        "  else:\n",
        "    print(\"'\" + sent + \"'\" + \"is not a palindrom.\")\n",
        "    \n",
        "palindrom()"
      ]
    },
    {
      "cell_type": "code",
      "execution_count": null,
      "metadata": {
        "id": "hEo0t3x8TVGK"
      },
      "outputs": [],
      "source": [
        ""
      ]
    },
    {
      "cell_type": "markdown",
      "metadata": {
        "id": "CMXC9KM_TVGM"
      },
      "source": [
        "## Coding Challenge - 2: Sudoku Format Converter&Printer\n",
        "\n",
        "The purpose of this coding challenge is to write a program that prints the given lists as sudoku looking format.\n",
        "\n",
        "### Learning Outcomes\n",
        "\n",
        "At the end of this coding challenge, students will be able to;\n",
        "\n",
        "- analyze a problem, identify, and apply programming knowledge for appropriate solution.\n",
        "\n",
        "- design, implement `arithmetic operators` and nested loops effectively in Python to solve the given problem.\n",
        "\n",
        "- demonstrate their knowledge of algorithmic design principles by solving the problem effectively.\n",
        "\n",
        "### Problem Statement\n",
        "\n",
        "<div class=\"alert alert-block alert-info\">\n",
        "    <b>💡Objective:</b>\n",
        "    <ul>\n",
        "        <li>To improve your <b>control flow statement</b> skills.</li>\n",
        "    </ul>\n",
        "</div>\n",
        "\n",
        "<hr>\n",
        "<p><b>Task:</b> The department you work for has received a project that displays the solved sudoku puzzles in a digital environment.&nbsp;</p>\n",
        "<p></p>\n",
        "<p></p>\n",
        "<ul>\n",
        "    <li>Write a Python code to print out the given <code>sudoku</code> puzzle matrix in the following format.</li>\n",
        "</ul>\n",
        "<b>Given format :</b><br>\n",
        "<ol>\n",
        "</ol>\n",
        "<p>\n",
        "</p>\n",
        "<div>\n",
        "    <pre>sudoku&nbsp;=&nbsp;[<br>&nbsp;&nbsp;&nbsp;&nbsp;[0,&nbsp;0,&nbsp;0,&nbsp;0,&nbsp;6,&nbsp;4,&nbsp;0,&nbsp;0,&nbsp;0],<br>&nbsp;&nbsp;&nbsp;&nbsp;[7,&nbsp;0,&nbsp;0,&nbsp;0,&nbsp;0,&nbsp;0,&nbsp;3,&nbsp;9,&nbsp;0],<br>&nbsp;&nbsp;&nbsp;&nbsp;[8,&nbsp;0,&nbsp;0,&nbsp;0,&nbsp;0,&nbsp;0,&nbsp;0,&nbsp;0,&nbsp;0],<br>&nbsp;&nbsp;&nbsp;&nbsp;[0,&nbsp;0,&nbsp;0,&nbsp;5,&nbsp;0,&nbsp;2,&nbsp;0,&nbsp;6,&nbsp;0],<br>&nbsp;&nbsp;&nbsp;&nbsp;[0,&nbsp;8,&nbsp;0,&nbsp;4,&nbsp;0,&nbsp;0,&nbsp;0,&nbsp;0,&nbsp;0],<br>&nbsp;&nbsp;&nbsp;&nbsp;[3,&nbsp;5,&nbsp;0,&nbsp;6,&nbsp;0,&nbsp;0,&nbsp;0,&nbsp;7,&nbsp;0],<br>&nbsp;&nbsp;&nbsp;&nbsp;[0,&nbsp;0,&nbsp;2,&nbsp;0,&nbsp;0,&nbsp;0,&nbsp;1,&nbsp;0,&nbsp;3],<br>&nbsp;&nbsp;&nbsp;&nbsp;[0,&nbsp;0,&nbsp;1,&nbsp;0,&nbsp;5,&nbsp;9,&nbsp;0,&nbsp;0,&nbsp;0],<br>&nbsp;&nbsp;&nbsp;&nbsp;[0,&nbsp;0,&nbsp;0,&nbsp;0,&nbsp;0,&nbsp;0,&nbsp;7,&nbsp;0,&nbsp;0]<br>]</pre>\n",
        "    <div>\n",
        "        <b>Desired output format :</b><br>\n",
        "        <ol>\n",
        "        </ol>\n",
        "    </div>\n",
        "    <pre>- - - - - - - - - - - - - - - \n",
        "0  0  0  | 0  6  4  | 0  0  0  \n",
        "7  0  0  | 0  0  0  | 3  9  0  \n",
        "8  0  0  | 0  0  0  | 0  0  0  \n",
        "- - - - - - - - - - - - - - - \n",
        "0  0  0  | 5  0  2  | 0  6  0  \n",
        "0  8  0  | 4  0  0  | 0  0  0  \n",
        "3  5  0  | 6  0  0  | 0  7  0  \n",
        "- - - - - - - - - - - - - - - \n",
        "0  0  2  | 0  0  0  | 1  0  3  \n",
        "0  0  1  | 0  5  9  | 0  0  0  \n",
        "0  0  0  | 0  0  0  | 7  0  0  \n",
        "- - - - - - - - - - - - - - -</pre>\n",
        "</div><br>\n",
        "<p></p>\n",
        "<p></p>\n",
        "<hr>\n",
        "<p><i><b>Note that</b>; <br></i></p>\n",
        "<ul>\n",
        "    <li><i><i>Use not more than \"<b>control flow statement and boolean logic operators</b>\" in solving this code problem. </i></i>\n",
        "    </li>\n",
        "    <li><i><i>The output which we expect from you is only a new output format above. </i></i>\n",
        "    </li>\n",
        "    <li><i><i>We don't expect a sudoku puzzle solver from you.</i></i>\n",
        "    </li>\n",
        "</ul>\n",
        "<p></p>"
      ]
    },
    {
      "cell_type": "markdown",
      "metadata": {
        "id": "mJ59dUrmTVGP"
      },
      "source": [
        "### Solution :"
      ]
    },
    {
      "cell_type": "code",
      "execution_count": null,
      "metadata": {
        "id": "FZZZTfHxTVGU",
        "outputId": "77b0d5a6-868d-4bf7-8463-17ad4fc5ba78"
      },
      "outputs": [
        {
          "name": "stdout",
          "output_type": "stream",
          "text": [
            "- - - - - - - - - - - - - - - \n",
            "0  0  0  | 0  6  4  | 0  0  0  \n",
            "7  0  0  | 0  0  0  | 3  9  0  \n",
            "8  0  0  | 0  0  0  | 0  0  0  \n",
            "- - - - - - - - - - - - - - - \n",
            "0  0  0  | 5  0  2  | 0  6  0  \n",
            "0  8  0  | 4  0  0  | 0  0  0  \n",
            "3  5  0  | 6  0  0  | 0  7  0  \n",
            "- - - - - - - - - - - - - - - \n",
            "0  0  2  | 0  0  0  | 1  0  3  \n",
            "0  0  1  | 0  5  9  | 0  0  0  \n",
            "0  0  0  | 0  0  0  | 7  0  0  \n",
            "- - - - - - - - - - - - - - - \n"
          ]
        }
      ],
      "source": [
        "sudoku = [\n",
        "    [0, 0, 0, 0, 6, 4, 0, 0, 0],\n",
        "    [7, 0, 0, 0, 0, 0, 3, 9, 0],\n",
        "    [8, 0, 0, 0, 0, 0, 0, 0, 0],\n",
        "    [0, 0, 0, 5, 0, 2, 0, 6, 0],\n",
        "    [0, 8, 0, 4, 0, 0, 0, 0, 0],\n",
        "    [3, 5, 0, 6, 0, 0, 0, 7, 0],\n",
        "    [0, 0, 2, 0, 0, 0, 1, 0, 3],\n",
        "    [0, 0, 1, 0, 5, 9, 0, 0, 0],\n",
        "    [0, 0, 0, 0, 0, 0, 7, 0, 0]\n",
        "]\n",
        "\n",
        "# --------------------------------------------- #\n",
        "\n",
        "count = 0\n",
        "print(\"- - - - - - - - - - - - - - - \")\n",
        "for i in sudoku:\n",
        "    for j in range(9):\n",
        "        print(i[j], \" \", end=\"\")\n",
        "        if (j+1) == 9 : \n",
        "            print()\n",
        "            count+=1\n",
        "            if count%3==0 and count!=0 :\n",
        "                print(\"- - - - - - - - - - - - - - - \")\n",
        "        if (j+1) % 3 == 0 and j != 0 and j!=8: \n",
        "             print(\"| \", end=\"\")  "
      ]
    },
    {
      "cell_type": "code",
      "execution_count": null,
      "metadata": {
        "id": "Rg2LVWvTTVGW"
      },
      "outputs": [],
      "source": [
        "  # Osman Buğra hocamın çözümü.\n",
        "def sudokuu(l):\n",
        "  print(11*\"- \")\n",
        "  count = 1\n",
        "  for i in l:\n",
        "    for x in i:\n",
        "      print(x , end=\" \")\n",
        "      if count % 3 == 0 and count % 9 != 0 :\n",
        "        print(\"|\" , end = \" \")\n",
        "      if count %9 == 0:\n",
        "        print(\"\")\n",
        "      if count %27 == 0:\n",
        "        print(11*\"- \")\n",
        "      count += 1"
      ]
    },
    {
      "cell_type": "code",
      "execution_count": null,
      "metadata": {
        "id": "_n2KPi4MTVGX"
      },
      "outputs": [],
      "source": [
        "  # Yusuf hocamın çözümü.\n",
        "sudoku = [\n",
        "    [0, 0, 0, 0, 6, 4, 0, 0, 0],\n",
        "    [7, 0, 0, 0, 0, 0, 3, 9, 0],\n",
        "    [8, 0, 0, 0, 0, 0, 0, 0, 0],\n",
        "    [0, 0, 0, 5, 0, 2, 0, 6, 0],\n",
        "    [0, 8, 0, 4, 0, 0, 0, 0, 0],\n",
        "    [3, 5, 0, 6, 0, 0, 0, 7, 0],\n",
        "    [0, 0, 2, 0, 0, 0, 1, 0, 3],\n",
        "    [0, 0, 1, 0, 5, 9, 0, 0, 0],\n",
        "    [0, 0, 0, 0, 0, 0, 7, 0, 0]\n",
        "]\n",
        "count = 0\n",
        "for row in sudoku:\n",
        "    if not count % 3:\n",
        "        print(14 * \"- \")\n",
        "    print(*[f\"{i} \" for i in row[:3]], end=\"\")\n",
        "    print(\"| \", end=\"\")\n",
        "    print(*[f\"{i} \" for i in row[3:6]], end=\"\")\n",
        "    print(\"| \", end=\"\")\n",
        "    print(*[f\"{i} \" for i in row[6:]])\n",
        "    count += 1\n",
        "print(14 * \"- \")"
      ]
    }
  ],
  "metadata": {
    "kernelspec": {
      "display_name": "Python 3",
      "language": "python",
      "name": "python3"
    },
    "language_info": {
      "codemirror_mode": {
        "name": "ipython",
        "version": 3
      },
      "file_extension": ".py",
      "mimetype": "text/x-python",
      "name": "python",
      "nbconvert_exporter": "python",
      "pygments_lexer": "ipython3",
      "version": "3.9.6"
    },
    "colab": {
      "name": "palindrom_sudoku.ipynb",
      "provenance": [],
      "collapsed_sections": [],
      "include_colab_link": true
    }
  },
  "nbformat": 4,
  "nbformat_minor": 0
}