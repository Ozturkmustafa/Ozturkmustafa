{
  "nbformat": 4,
  "nbformat_minor": 5,
  "metadata": {
    "kernelspec": {
      "display_name": "Python 3",
      "language": "python",
      "name": "python3"
    },
    "language_info": {
      "codemirror_mode": {
        "name": "ipython",
        "version": 3
      },
      "file_extension": ".py",
      "mimetype": "text/x-python",
      "name": "python",
      "nbconvert_exporter": "python",
      "pygments_lexer": "ipython3",
      "version": "3.8.8"
    },
    "colab": {
      "name": "workshop_2_python_student_version.ipynb",
      "provenance": [],
      "collapsed_sections": [],
      "include_colab_link": true
    }
  },
  "cells": [
    {
      "cell_type": "markdown",
      "metadata": {
        "id": "view-in-github",
        "colab_type": "text"
      },
      "source": [
        "<a href=\"https://colab.research.google.com/github/Ozturkmustafa/Ozturkmustafa/blob/main/workshop_2_python_student_version.ipynb\" target=\"_parent\"><img src=\"https://colab.research.google.com/assets/colab-badge.svg\" alt=\"Open In Colab\"/></a>"
      ]
    },
    {
      "cell_type": "markdown",
      "metadata": {
        "id": "cec2380e"
      },
      "source": [
        "### Code Challenge -1\n",
        "\n",
        "<div class=\"alert alert-block alert-info\">\n",
        "    <b>💡Objective:</b>\n",
        "    <ul>\n",
        "        <li>To improve your <b>boolean logic</b> and <b>arithmetic operator algorithm</b>&nbsp;skills.</li>\n",
        "    </ul>\n",
        "</div>\n",
        "\n",
        "- Using the all following items once each, set a correct boolean expression that returns `write me`. Use the `print()` function to display the result.\n",
        "\n",
        "```python\n",
        "0\n",
        "and\n",
        "not\n",
        "\"write me\"\n",
        "```"
      ],
      "id": "cec2380e"
    },
    {
      "cell_type": "markdown",
      "metadata": {
        "id": "bd5961ea"
      },
      "source": [
        "### Solution - 1"
      ],
      "id": "bd5961ea"
    },
    {
      "cell_type": "code",
      "metadata": {
        "id": "f591cc23",
        "colab": {
          "base_uri": "https://localhost:8080/"
        },
        "outputId": "99befce5-2765-40d4-c522-9f6011e75086"
      },
      "source": [
        "print(not 0 and \"write me\")"
      ],
      "id": "f591cc23",
      "execution_count": null,
      "outputs": [
        {
          "output_type": "stream",
          "name": "stdout",
          "text": [
            "write me\n"
          ]
        }
      ]
    },
    {
      "cell_type": "markdown",
      "metadata": {
        "id": "ff55f195"
      },
      "source": [
        "### Code Challenge-2\n",
        "\n",
        "<div class=\"alert alert-block alert-info\">\n",
        "    <b>💡Objective:</b>\n",
        "    <ul>\n",
        "        <li>To improve your <b>boolean logic algorithm</b>&nbsp;and truth value skills.</li>\n",
        "    </ul>\n",
        "</div>\n",
        "\n",
        "- Find out if a given year is a \"leap\" year.\n",
        "\n",
        "  - In the Gregorian calendar, three criteria must be taken into account to identify leap years:\n",
        "  \n",
        "    - The year must be evenly divisible by 4;\n",
        "    - If the year can also be evenly divided by 100, it is not a leap year; unless...(next one)\n",
        "    - The year is also evenly divisible by 400. Then it is a leap year.\n",
        "\n",
        "- According to these rules, the years 2000 and 2400 are leap years, while 1800, 1900, 2100, 2200, 2300, and 2500 are not the leap years.\n",
        "\n",
        "- Write a Python program that;\n",
        "  - Takes a 4-digit year from the user,\n",
        "  - Prints `True` if the given year by the user is a leap year, prints `False` otherwise.\n",
        "  \n",
        "> Note that; this question is famous on the web, so that do it yourself to get more benefits from it."
      ],
      "id": "ff55f195"
    },
    {
      "cell_type": "code",
      "metadata": {
        "colab": {
          "base_uri": "https://localhost:8080/"
        },
        "id": "Fo7NUbGqTkMS",
        "outputId": "3e2ef0ea-dac5-41e9-b24b-00571bb406a6"
      },
      "source": [
        "year = int(input(\"Lütfen sayı girin :\"))\n",
        "print((year%4 == 0 and year%100 != 0 ) or year%400 == 0)"
      ],
      "id": "Fo7NUbGqTkMS",
      "execution_count": null,
      "outputs": [
        {
          "output_type": "stream",
          "name": "stdout",
          "text": [
            "Lütfen sayı girin :1988\n",
            "True\n"
          ]
        }
      ]
    },
    {
      "cell_type": "markdown",
      "metadata": {
        "id": "22a552e5"
      },
      "source": [
        "### Code Challenge-3\n",
        "\n",
        "<p></p>\n",
        "<div class=\"alert alert-block alert-info\">\n",
        "    <b>💡Objective:</b>\n",
        "    <ul>\n",
        "        <li>To improve your <b>collection </b>type <b>knowledge, </b>using<b> </b><span>new </span><span>built-in<b> function comprehension, string formatting</b></span>&nbsp;and <b>problem solving</b> skills.</li>\n",
        "    </ul>\n",
        "</div>\n",
        "\n",
        "<b>Task - 1 :</b><br>You work for a manufacturer as a programmer and\n",
        "have been asked to calculate the\n",
        "<b>total profit</b> made on the sales of a product. You are given a dictionary (<code>sales</code>) containing the <span><i>cost </i>price</span><span> </span>per unit (in dollars), <span><i>sell </i>price</span><span> </span>per unit (in dollars), and\n",
        "the <span><span>beginning</span></span><i> inventory</i>. Write a program to return the <b>total profit&nbsp;</b>made, <b>rounded&nbsp;</b>to the nearest dollar. Assume all of the <i>inventory</i> has been sold. The <i>name</i> and the <i>keys</i> of\n",
        "the dictionary are constant, so use them as they are.<br>\n",
        "<hr>\n",
        "\n",
        "\n",
        "<p>The example of the <i>values</i> (<i>sell</i>-<i>cost </i>value,&nbsp;<i>inventory</i>) and total <i>profit </i>:</p>\n",
        "\n",
        "```python\n",
        "sales = {\n",
        "  \"cost_value\": 31.87,\n",
        "  \"sell_value\": 45.00,\n",
        "  \"inventory\": 1000\n",
        "}  \n",
        "\n",
        "# the profit will be : 13130\n",
        "````\n",
        "\n",
        "<hr>\n",
        "<p><b>Task - 2 :</b><br>Your boss wants you to prepare the <b>payrolls</b> of the workers in your department. You have to convert the amount of dollars into <i>payroll </i>format. In order to help move things along, you have volunteered to write a code that\n",
        "    will take a float and return the money in the following format (as <i>dollars</i> and <i>cents</i>).&nbsp;</p>\n",
        "<p><br>\n",
        "</p>\n",
        "\n",
        "- Examples :\n",
        "\n",
        "|Given Float Type `amount`|Desired Output|\n",
        "|--|--|\n",
        "|3|\\$3.00|\n",
        "|29.99|\\$29.99|\n",
        "|4.1|\\$4.10|\n",
        "\n",
        "The output should be float type as well and two digits after the period.<br><br>\n",
        "<p></p>"
      ],
      "id": "22a552e5"
    },
    {
      "cell_type": "markdown",
      "metadata": {
        "id": "98cd2f0e"
      },
      "source": [
        "### Solution-3"
      ],
      "id": "98cd2f0e"
    },
    {
      "cell_type": "code",
      "metadata": {
        "id": "576823cc",
        "colab": {
          "base_uri": "https://localhost:8080/"
        },
        "outputId": "08bb708e-2e9b-47ff-a6c1-b5715448f75f"
      },
      "source": [
        "# Task-1\n",
        "\n",
        "sales = {\n",
        "  \"cost_value\": 31.87,\n",
        "  \"sell_value\": 45.00,\n",
        "  \"inventory\": 1000\n",
        "}  \n",
        "\n",
        "print(round((sales[\"sell_value\"] - sales[\"cost_value\"]) * sales[\"inventory\"]))\n"
      ],
      "id": "576823cc",
      "execution_count": null,
      "outputs": [
        {
          "output_type": "stream",
          "name": "stdout",
          "text": [
            "13130\n"
          ]
        }
      ]
    },
    {
      "cell_type": "code",
      "metadata": {
        "id": "63fb6f4b",
        "colab": {
          "base_uri": "https://localhost:8080/"
        },
        "outputId": "c879b446-fcb0-4422-d511-e7dbcc23a142"
      },
      "source": [
        "# Task-2\n",
        "wages = float(input(\"Enter wage: \"))\n",
        "formatted = \"{:.2f}\".format(wages)\n",
        "print(f\"Desired output format is: ${formatted}\")"
      ],
      "id": "63fb6f4b",
      "execution_count": null,
      "outputs": [
        {
          "output_type": "stream",
          "name": "stdout",
          "text": [
            "Enter wage: 54\n",
            "Desired output format is: $54.00\n"
          ]
        }
      ]
    },
    {
      "cell_type": "code",
      "metadata": {
        "id": "IrT5rO44JGZI",
        "colab": {
          "base_uri": "https://localhost:8080/"
        },
        "outputId": "2d2ffd3c-c5e0-4bc3-80f2-43803bb8624c"
      },
      "source": [
        "cost_value = 31.87\n",
        "sell_value = 45.00\n",
        "inventory = 1000\n",
        "kar = ((sell_value - cost_value) * inventory)\n",
        "print(int(round(kar, 3)))\n"
      ],
      "id": "IrT5rO44JGZI",
      "execution_count": null,
      "outputs": [
        {
          "output_type": "stream",
          "name": "stdout",
          "text": [
            "13130\n"
          ]
        }
      ]
    },
    {
      "cell_type": "code",
      "metadata": {
        "id": "exL2HpXMJGnv",
        "colab": {
          "base_uri": "https://localhost:8080/"
        },
        "outputId": "dd16b8df-692f-4b93-943b-3291234207c8"
      },
      "source": [
        "print(45.00 - 31.87)"
      ],
      "id": "exL2HpXMJGnv",
      "execution_count": null,
      "outputs": [
        {
          "output_type": "stream",
          "name": "stdout",
          "text": [
            "13.129999999999999\n"
          ]
        }
      ]
    },
    {
      "cell_type": "code",
      "metadata": {
        "id": "SYeKEVygJGs9",
        "colab": {
          "base_uri": "https://localhost:8080/"
        },
        "outputId": "70bcb132-3db3-429f-e9ce-0074fc269c7d"
      },
      "source": [
        "numbers = [1, 3, 7, 4, 3, 0, 3, 6, 3]\n",
        "my_numbers = set(numbers)\n",
        "my_numbers\n",
        "print(my_numbers)\n",
        "print(\"the most frequent number is 3 and it was\",numbers.count(3),\"times repeated\")"
      ],
      "id": "SYeKEVygJGs9",
      "execution_count": null,
      "outputs": [
        {
          "output_type": "stream",
          "name": "stdout",
          "text": [
            "{0, 1, 3, 4, 6, 7}\n",
            "the most frequent number is 3 and it was 4 times repeated\n"
          ]
        }
      ]
    },
    {
      "cell_type": "code",
      "metadata": {
        "id": "-s3bvt0YJG9o",
        "colab": {
          "base_uri": "https://localhost:8080/"
        },
        "outputId": "b661ba2a-f5a5-4087-8a63-10d769a408c1"
      },
      "source": [
        "list(numbers).count(3)"
      ],
      "id": "-s3bvt0YJG9o",
      "execution_count": null,
      "outputs": [
        {
          "output_type": "execute_result",
          "data": {
            "text/plain": [
              "4"
            ]
          },
          "metadata": {},
          "execution_count": 18
        }
      ]
    },
    {
      "cell_type": "code",
      "metadata": {
        "id": "2jLsdqapJG_1"
      },
      "source": [
        "a = [1, 3, 7, 4, 3, 0, 3, 6, 3]\n",
        "for i in a:\n",
        "  a.count(i)"
      ],
      "id": "2jLsdqapJG_1",
      "execution_count": null,
      "outputs": []
    },
    {
      "cell_type": "code",
      "metadata": {
        "colab": {
          "base_uri": "https://localhost:8080/"
        },
        "id": "A05p3KcuoLsz",
        "outputId": "214779b7-7360-4fa7-9b46-824def91afd8"
      },
      "source": [
        "a.count(7)"
      ],
      "id": "A05p3KcuoLsz",
      "execution_count": null,
      "outputs": [
        {
          "output_type": "execute_result",
          "data": {
            "text/plain": [
              "1"
            ]
          },
          "metadata": {},
          "execution_count": 25
        }
      ]
    },
    {
      "cell_type": "code",
      "metadata": {
        "colab": {
          "base_uri": "https://localhost:8080/"
        },
        "id": "QY6QzXjzoL_7",
        "outputId": "7beea9ec-b769-433a-84dd-8d87a08b2092"
      },
      "source": [
        "a = [1, 3, 7, 4, 3, 0, 3, 6, 3]\n",
        "b = set(a)\n",
        "b\n",
        "c = {}\n",
        "for i in b:\n",
        "  print(a.count(i))\n",
        "  c = {i:a.count(i)}\n",
        "  print(c)"
      ],
      "id": "QY6QzXjzoL_7",
      "execution_count": null,
      "outputs": [
        {
          "output_type": "stream",
          "name": "stdout",
          "text": [
            "1\n",
            "{0: 1}\n",
            "1\n",
            "{1: 1}\n",
            "4\n",
            "{3: 4}\n",
            "1\n",
            "{4: 1}\n",
            "1\n",
            "{6: 1}\n",
            "1\n",
            "{7: 1}\n"
          ]
        }
      ]
    },
    {
      "cell_type": "code",
      "metadata": {
        "colab": {
          "base_uri": "https://localhost:8080/"
        },
        "id": "CiVvjsKgvFf9",
        "outputId": "019990d4-2834-4e8d-fa76-0961fbc22a58"
      },
      "source": [
        "a = [1, 3, 7, 4, 3, 0, 3, 6, 3]\n",
        "b = set(a)\n",
        "b"
      ],
      "id": "CiVvjsKgvFf9",
      "execution_count": null,
      "outputs": [
        {
          "output_type": "execute_result",
          "data": {
            "text/plain": [
              "{0, 1, 3, 4, 6, 7}"
            ]
          },
          "metadata": {},
          "execution_count": 31
        }
      ]
    },
    {
      "cell_type": "code",
      "metadata": {
        "colab": {
          "base_uri": "https://localhost:8080/",
          "height": 165
        },
        "id": "SYm1GKN2vFkQ",
        "outputId": "65bcc97d-968c-4e82-9b4c-cf4d44735d5d"
      },
      "source": [
        "Counter[1, 3, 7, 4, 3, 0, 3, 6, 3]\n"
      ],
      "id": "SYm1GKN2vFkQ",
      "execution_count": null,
      "outputs": [
        {
          "output_type": "error",
          "ename": "NameError",
          "evalue": "ignored",
          "traceback": [
            "\u001b[0;31m---------------------------------------------------------------------------\u001b[0m",
            "\u001b[0;31mNameError\u001b[0m                                 Traceback (most recent call last)",
            "\u001b[0;32m<ipython-input-35-48da12978ceb>\u001b[0m in \u001b[0;36m<module>\u001b[0;34m()\u001b[0m\n\u001b[0;32m----> 1\u001b[0;31m \u001b[0mCounter\u001b[0m\u001b[0;34m[\u001b[0m\u001b[0;36m1\u001b[0m\u001b[0;34m,\u001b[0m \u001b[0;36m3\u001b[0m\u001b[0;34m,\u001b[0m \u001b[0;36m7\u001b[0m\u001b[0;34m,\u001b[0m \u001b[0;36m4\u001b[0m\u001b[0;34m,\u001b[0m \u001b[0;36m3\u001b[0m\u001b[0;34m,\u001b[0m \u001b[0;36m0\u001b[0m\u001b[0;34m,\u001b[0m \u001b[0;36m3\u001b[0m\u001b[0;34m,\u001b[0m \u001b[0;36m6\u001b[0m\u001b[0;34m,\u001b[0m \u001b[0;36m3\u001b[0m\u001b[0;34m]\u001b[0m\u001b[0;34m\u001b[0m\u001b[0;34m\u001b[0m\u001b[0m\n\u001b[0m",
            "\u001b[0;31mNameError\u001b[0m: name 'Counter' is not defined"
          ]
        }
      ]
    },
    {
      "cell_type": "code",
      "metadata": {
        "id": "koKiXFrVvFnc"
      },
      "source": [
        "a = [1936, 2401, 2916, 4761, 9216, 9216, 9604, 9801] \n",
        "\n",
        "c = Counter(a)\n",
        "c"
      ],
      "id": "koKiXFrVvFnc",
      "execution_count": null,
      "outputs": []
    },
    {
      "cell_type": "code",
      "metadata": {
        "id": "ewqSrGmGvFqT"
      },
      "source": [
        ""
      ],
      "id": "ewqSrGmGvFqT",
      "execution_count": null,
      "outputs": []
    },
    {
      "cell_type": "code",
      "metadata": {
        "id": "_FJgDw-mvFsC"
      },
      "source": [
        ""
      ],
      "id": "_FJgDw-mvFsC",
      "execution_count": null,
      "outputs": []
    },
    {
      "cell_type": "code",
      "metadata": {
        "id": "WwWaT7KdvFvc"
      },
      "source": [
        ""
      ],
      "id": "WwWaT7KdvFvc",
      "execution_count": null,
      "outputs": []
    },
    {
      "cell_type": "code",
      "metadata": {
        "id": "UXhtV6PTvFxA"
      },
      "source": [
        ""
      ],
      "id": "UXhtV6PTvFxA",
      "execution_count": null,
      "outputs": []
    },
    {
      "cell_type": "code",
      "metadata": {
        "id": "FZmpDYLDvFzC"
      },
      "source": [
        ""
      ],
      "id": "FZmpDYLDvFzC",
      "execution_count": null,
      "outputs": []
    },
    {
      "cell_type": "code",
      "metadata": {
        "id": "d3907c41",
        "colab": {
          "base_uri": "https://localhost:8080/"
        },
        "outputId": "e81f525a-e80a-40cb-94f0-1ec869f890a3"
      },
      "source": [
        "warning = 'You must quit smoking!'\n",
        "\n",
        "print(len(list(warning)))\n"
      ],
      "id": "d3907c41",
      "execution_count": null,
      "outputs": [
        {
          "output_type": "stream",
          "name": "stdout",
          "text": [
            "22\n"
          ]
        }
      ]
    },
    {
      "cell_type": "code",
      "metadata": {
        "colab": {
          "base_uri": "https://localhost:8080/"
        },
        "id": "QbBALNbRzi60",
        "outputId": "ca35e2a6-cb5f-4bb1-dfb3-6ec178134495"
      },
      "source": [
        "even_numbers = [2, 4, 6, 8, 10, 12, 14, 16, 18, 20]\n",
        "\n",
        "print(even_numbers[4:9])\n"
      ],
      "id": "QbBALNbRzi60",
      "execution_count": null,
      "outputs": [
        {
          "output_type": "stream",
          "name": "stdout",
          "text": [
            "[10, 12, 14, 16, 18]\n"
          ]
        }
      ]
    },
    {
      "cell_type": "code",
      "metadata": {
        "colab": {
          "base_uri": "https://localhost:8080/"
        },
        "id": "vTPmbxqrCCev",
        "outputId": "9a2cdcb4-8711-4a20-d650-d5e8bf249a6b"
      },
      "source": [
        "print(len([[12, 34, 56]]))"
      ],
      "id": "vTPmbxqrCCev",
      "execution_count": null,
      "outputs": [
        {
          "output_type": "stream",
          "name": "stdout",
          "text": [
            "1\n"
          ]
        }
      ]
    },
    {
      "cell_type": "code",
      "metadata": {
        "colab": {
          "base_uri": "https://localhost:8080/"
        },
        "id": "rDQoRakQCTc-",
        "outputId": "e2c2799a-ac22-462d-b0f8-f7f97e298c41"
      },
      "source": [
        "print(len([[12, 34, 56]][0]))"
      ],
      "id": "rDQoRakQCTc-",
      "execution_count": null,
      "outputs": [
        {
          "output_type": "stream",
          "name": "stdout",
          "text": [
            "3\n"
          ]
        }
      ]
    },
    {
      "cell_type": "code",
      "metadata": {
        "id": "c5BC_F6uCbHa"
      },
      "source": [
        "my_list = list(range(11))\n",
        "\n"
      ],
      "id": "c5BC_F6uCbHa",
      "execution_count": null,
      "outputs": []
    },
    {
      "cell_type": "code",
      "metadata": {
        "colab": {
          "base_uri": "https://localhost:8080/"
        },
        "id": "UH6z0iQLZO-F",
        "outputId": "bc4f995e-13a2-402a-ed17-5bce7b07e8d3"
      },
      "source": [
        "my_list[::-1]"
      ],
      "id": "UH6z0iQLZO-F",
      "execution_count": null,
      "outputs": [
        {
          "output_type": "execute_result",
          "data": {
            "text/plain": [
              "[10, 9, 8, 7, 6, 5, 4, 3, 2, 1, 0]"
            ]
          },
          "metadata": {},
          "execution_count": 20
        }
      ]
    },
    {
      "cell_type": "code",
      "metadata": {
        "colab": {
          "base_uri": "https://localhost:8080/"
        },
        "id": "UKunf6lcdkuH",
        "outputId": "53907dba-1786-4ec6-cac4-1e5fecb86613"
      },
      "source": [
        "grocer = [\"banana\", [\"orange\", [\"apple\", \"eggplant\", \"melon\", \"spinach\", \"cheese\", \"leek\" ], \"water\"], \"mandarin\"]\n",
        "print(grocer[1][1][1::2])\n"
      ],
      "id": "UKunf6lcdkuH",
      "execution_count": null,
      "outputs": [
        {
          "output_type": "stream",
          "name": "stdout",
          "text": [
            "['eggplant', 'spinach', 'leek']\n"
          ]
        }
      ]
    },
    {
      "cell_type": "code",
      "metadata": {
        "colab": {
          "base_uri": "https://localhost:8080/"
        },
        "id": "AZ7NdcFmfle-",
        "outputId": "05de57d5-bfe9-47b5-f3d3-e82b252ef86b"
      },
      "source": [
        "student_ages = {\"Harry\": 29,\n",
        "                \"Clark\": 32,\n",
        "                \"Peter\": 22,\n",
        "                \"Bruce\": 36\n",
        "                }\n",
        "print(student_ages[\"Clark\"])"
      ],
      "id": "AZ7NdcFmfle-",
      "execution_count": null,
      "outputs": [
        {
          "output_type": "stream",
          "name": "stdout",
          "text": [
            "32\n"
          ]
        }
      ]
    },
    {
      "cell_type": "code",
      "metadata": {
        "colab": {
          "base_uri": "https://localhost:8080/"
        },
        "id": "BPW6UiS7laep",
        "outputId": "de6aea3b-9293-46d2-b544-b6aa7c0256b5"
      },
      "source": [
        "print(len(set('listen to the voice of enlisted')))"
      ],
      "id": "BPW6UiS7laep",
      "execution_count": null,
      "outputs": [
        {
          "output_type": "stream",
          "name": "stdout",
          "text": [
            "13\n"
          ]
        }
      ]
    },
    {
      "cell_type": "code",
      "metadata": {
        "id": "9kDk8GGKsg8a",
        "colab": {
          "base_uri": "https://localhost:8080/"
        },
        "outputId": "703bc2a0-ca4d-416d-f76f-ded487077fe0"
      },
      "source": [
        "my_list = list(range(11))\n",
        "\n",
        "my_list.sort(reverse=True)\n",
        "\n",
        "print(my_list)"
      ],
      "id": "9kDk8GGKsg8a",
      "execution_count": null,
      "outputs": [
        {
          "output_type": "stream",
          "name": "stdout",
          "text": [
            "[10, 9, 8, 7, 6, 5, 4, 3, 2, 1, 0]\n"
          ]
        }
      ]
    },
    {
      "cell_type": "code",
      "metadata": {
        "colab": {
          "base_uri": "https://localhost:8080/"
        },
        "id": "S5xb82QAZzen",
        "outputId": "b7cb1675-5982-4172-b708-7768e86e9d94"
      },
      "source": [
        "flowers = [[\"jasmine\", [\"lavender\", \"rose\"], \"tulip\"]]\n",
        "colors = [\"red\", (\"blue\", [\"yellow\", \"green\"]), \"pink\"]\n",
        "\n",
        "a = flowers[0][2]\n",
        "b = flowers[0][1][1]\n",
        "c = colors[1][0]\n",
        "d = colors[1][1][1]\n",
        "\n",
        "print(\"My two favorite flowers are {} and {}, two favorite colors are {} and green.\".format(a, b, c, d))\n",
        "\n"
      ],
      "id": "S5xb82QAZzen",
      "execution_count": null,
      "outputs": [
        {
          "output_type": "stream",
          "name": "stdout",
          "text": [
            "My two favorite flowers are tulip and rose, two favorite colors are blue and green.\n"
          ]
        }
      ]
    },
    {
      "cell_type": "code",
      "metadata": {
        "colab": {
          "base_uri": "https://localhost:8080/",
          "height": 35
        },
        "id": "zXhkxC_Jb5hk",
        "outputId": "d9da6fdc-46e6-4235-f1c2-8c82adb3e536"
      },
      "source": [
        "flowers = [[\"jasmine\", [\"lavender\", \"rose\"], \"tulip\"]]\n",
        "colors = [\"red\", (\"blue\", [\"yellow\", \"green\"]), \"pink\"]\n",
        "\n",
        "colors[1][0]\n",
        "colors[1][1][1]\n"
      ],
      "id": "zXhkxC_Jb5hk",
      "execution_count": null,
      "outputs": [
        {
          "output_type": "execute_result",
          "data": {
            "application/vnd.google.colaboratory.intrinsic+json": {
              "type": "string"
            },
            "text/plain": [
              "'green'"
            ]
          },
          "metadata": {},
          "execution_count": 63
        }
      ]
    },
    {
      "cell_type": "code",
      "metadata": {
        "id": "n-weqgyIcCrU"
      },
      "source": [
        "a = flowers[0][2]\n",
        "b = flowers[0][1][1]\n",
        "c = colors[1][0]\n",
        "d = colors[1][1][1]\n",
        "\n",
        "\n",
        "text = \"My two favorite flowers are {} and {}, two favorite colors are {} and green.\".format(a, b, c, d)\n",
        "\n",
        "\n",
        "\n",
        "\n",
        "\n"
      ],
      "id": "n-weqgyIcCrU",
      "execution_count": null,
      "outputs": []
    },
    {
      "cell_type": "code",
      "metadata": {
        "colab": {
          "base_uri": "https://localhost:8080/"
        },
        "id": "KEkMDOfCf-3w",
        "outputId": "ecc8fd27-ddc2-4391-b76b-252969413013"
      },
      "source": [
        "escapes = [\"\\n\\t\", (\"\\t\", \"\\t\\t\"), [\"\\n\", \"\\n\\t\\t\"]]\n",
        "\n",
        "sentence = \"I am 40 years old.{} I have two children.{} Data Science is my IT domain.\".format(escapes[0], escapes[2][1])\n",
        "\n",
        "print(sentence)"
      ],
      "id": "KEkMDOfCf-3w",
      "execution_count": null,
      "outputs": [
        {
          "output_type": "stream",
          "name": "stdout",
          "text": [
            "I am 40 years old.\n",
            "\t I have two children.\n",
            "\t\t Data Science is my IT domain.\n"
          ]
        }
      ]
    },
    {
      "cell_type": "code",
      "metadata": {
        "colab": {
          "base_uri": "https://localhost:8080/",
          "height": 35
        },
        "id": "LRmPm4Y4f-6C",
        "outputId": "557564e3-4f06-4e1b-d5c3-de94f6f6f1ea"
      },
      "source": [
        "escapes = [\"\\n\\t\", (\"\\t\", \"\\t\\t\"), [\"\\n\", \"\\n\\t\\t\"]]\n",
        "escapes[0]\n",
        "escapes[2][1]"
      ],
      "id": "LRmPm4Y4f-6C",
      "execution_count": null,
      "outputs": [
        {
          "output_type": "execute_result",
          "data": {
            "application/vnd.google.colaboratory.intrinsic+json": {
              "type": "string"
            },
            "text/plain": [
              "'\\n\\t\\t'"
            ]
          },
          "metadata": {},
          "execution_count": 90
        }
      ]
    },
    {
      "cell_type": "code",
      "metadata": {
        "id": "x9VaBcLNf-8z"
      },
      "source": [
        ""
      ],
      "id": "x9VaBcLNf-8z",
      "execution_count": null,
      "outputs": []
    },
    {
      "cell_type": "code",
      "metadata": {
        "id": "ads9gQNef_AV"
      },
      "source": [
        ""
      ],
      "id": "ads9gQNef_AV",
      "execution_count": null,
      "outputs": []
    }
  ]
}