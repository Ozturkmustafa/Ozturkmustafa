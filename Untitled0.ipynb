{
  "nbformat": 4,
  "nbformat_minor": 0,
  "metadata": {
    "colab": {
      "name": "Untitled0.ipynb",
      "provenance": [],
      "authorship_tag": "ABX9TyM6DnubVSrnVp4fECrYXttD",
      "include_colab_link": true
    },
    "kernelspec": {
      "name": "python3",
      "display_name": "Python 3"
    },
    "language_info": {
      "name": "python"
    }
  },
  "cells": [
    {
      "cell_type": "markdown",
      "metadata": {
        "id": "view-in-github",
        "colab_type": "text"
      },
      "source": [
        "<a href=\"https://colab.research.google.com/github/Ozturkmustafa/Ozturkmustafa/blob/main/Untitled0.ipynb\" target=\"_parent\"><img src=\"https://colab.research.google.com/assets/colab-badge.svg\" alt=\"Open In Colab\"/></a>"
      ]
    },
    {
      "cell_type": "code",
      "metadata": {
        "colab": {
          "base_uri": "https://localhost:8080/"
        },
        "id": "TN2DOQtqempt",
        "outputId": "3b89b818-55e4-44ed-8da3-843f195ec20b"
      },
      "source": [
        "name = \"Joseph\"\n",
        "pswrd = \"W@12\"\n",
        "in_name = input(\"write a user name : \").title()\n",
        "in_pswrd = input(\"write a your pasword : \")\n",
        "if(in_name == name and in_pswrd != pswrd):\n",
        "  print((\"{} write a wrong pasword\".format(in_name)).title())\n",
        "elif(in_name != name and in_pswrd == pswrd):\n",
        "  print((\"{} is a wrong user name\".format(in_name)).title())\n",
        "elif(in_name != name and in_pswrd != pswrd):\n",
        "  print((\"{} is wrong user name and pasword\".format(in_name)).title())\n",
        "else:\n",
        "  print(\"welcome {}.your pasword is true\".format(in_name).title())"
      ],
      "execution_count": 2,
      "outputs": [
        {
          "output_type": "stream",
          "name": "stdout",
          "text": [
            "write a user name : joseph\n",
            "write a your pasword : W@12\n",
            "Welcome Joseph.Your Pasword Is True\n"
          ]
        }
      ]
    },
    {
      "cell_type": "code",
      "metadata": {
        "id": "Jmqr32OGeyad"
      },
      "source": [
        ""
      ],
      "execution_count": null,
      "outputs": []
    }
  ]
}