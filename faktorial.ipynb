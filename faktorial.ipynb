{
  "nbformat": 4,
  "nbformat_minor": 0,
  "metadata": {
    "colab": {
      "name": "faktorial.ipynb",
      "provenance": [],
      "authorship_tag": "ABX9TyNYHE0A0vhzMV0WluiS0g0h",
      "include_colab_link": true
    },
    "kernelspec": {
      "name": "python3",
      "display_name": "Python 3"
    },
    "language_info": {
      "name": "python"
    }
  },
  "cells": [
    {
      "cell_type": "markdown",
      "metadata": {
        "id": "view-in-github",
        "colab_type": "text"
      },
      "source": [
        "<a href=\"https://colab.research.google.com/github/Ozturkmustafa/Ozturkmustafa/blob/main/faktorial.ipynb\" target=\"_parent\"><img src=\"https://colab.research.google.com/assets/colab-badge.svg\" alt=\"Open In Colab\"/></a>"
      ]
    },
    {
      "cell_type": "code",
      "metadata": {
        "colab": {
          "base_uri": "https://localhost:8080/"
        },
        "id": "QirgeC86N9EU",
        "outputId": "0c796e8b-44f8-4088-f86a-6d2358afdc7f"
      },
      "source": [
        "a = int(input(\"write a number : \"))\n",
        "b = 1\n",
        "if a<2 :\n",
        "  print(1)\n",
        "  \n",
        "for i in range(2,a+1):\n",
        "  b *= i\n",
        "print(b)"
      ],
      "execution_count": 1,
      "outputs": [
        {
          "output_type": "stream",
          "name": "stdout",
          "text": [
            "write a number : 7\n",
            "5040\n"
          ]
        }
      ]
    },
    {
      "cell_type": "code",
      "metadata": {
        "id": "372APPocN-Zw"
      },
      "source": [
        "def my_fakto(a):\n",
        "  a = int(input(\"write a number : \"))\n",
        "  b = 1\n",
        "  if a<2 :\n",
        "    print(1)\n",
        "  \n",
        "  for i in range(2,a+1):\n",
        "    b *= i\n",
        "  print(b)"
      ],
      "execution_count": 2,
      "outputs": []
    },
    {
      "cell_type": "code",
      "metadata": {
        "colab": {
          "base_uri": "https://localhost:8080/"
        },
        "id": "xuC17-4nOBEb",
        "outputId": "cfbe7af6-cc14-4afa-8cb0-bfde0b446339"
      },
      "source": [
        "my_fakto(a)"
      ],
      "execution_count": 4,
      "outputs": [
        {
          "output_type": "stream",
          "name": "stdout",
          "text": [
            "write a number : 0\n",
            "1\n",
            "1\n"
          ]
        }
      ]
    },
    {
      "cell_type": "code",
      "metadata": {
        "id": "9yYRvoNUODGy"
      },
      "source": [
        ""
      ],
      "execution_count": null,
      "outputs": []
    }
  ]
}